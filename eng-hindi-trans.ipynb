{
 "cells": [
  {
   "cell_type": "code",
   "execution_count": 1,
   "id": "9aeece5f",
   "metadata": {},
   "outputs": [
    {
     "name": "stdout",
     "output_type": "stream",
     "text": [
      "<Element 'TransliterationCorpus' at 0x00000214E64A9598>\n",
      "<Element 'TransliterationCorpus' at 0x00000214A9978A48>\n"
     ]
    }
   ],
   "source": [
    "import xml.etree.ElementTree as ETree\n",
    "import pandas as pd\n",
    "\n",
    "  \n",
    "# give the path where you saved the xml file\n",
    "# inside the quotes\n",
    "xmldata = \"NEWS2018_M-EnHi_trn.xml\"\n",
    "prstree = ETree.parse(xmldata)\n",
    "root = prstree.getroot()\n",
    "  \n",
    "print(root)\n",
    "items = []\n",
    "all_items = []\n",
    "  \n",
    "for storeno in root.iter('Name'):\n",
    "    \n",
    "    ID = storeno.attrib.get('ID')\n",
    "    SourceName = storeno.find('SourceName').text\n",
    "    TargetName = storeno.find('TargetName').text\n",
    "  \n",
    "    items = [ID, SourceName, TargetName]\n",
    "    all_items.append(items)\n",
    "xmldata = \"NEWS2018_M-EnHi_dev.xml\"\n",
    "prstree = ETree.parse(xmldata)\n",
    "root = prstree.getroot()\n",
    "  \n",
    "print(root)\n",
    "  \n",
    "for storeno in root.iter('Name'):\n",
    "    \n",
    "    ID = storeno.attrib.get('ID')\n",
    "    SourceName = storeno.find('SourceName').text\n",
    "    TargetName = storeno.find('TargetName').text\n",
    "  \n",
    "    items = [ID, SourceName, TargetName]\n",
    "    all_items.append(items)\n",
    "  \n",
    "lines = pd.DataFrame(all_items, columns=[\n",
    "  'source', 'english', 'hindi'])"
   ]
  },
  {
   "cell_type": "code",
   "execution_count": 2,
   "id": "81579aee",
   "metadata": {},
   "outputs": [
    {
     "data": {
      "text/plain": [
       "13937"
      ]
     },
     "execution_count": 2,
     "metadata": {},
     "output_type": "execute_result"
    }
   ],
   "source": [
    "len(lines)"
   ]
  },
  {
   "cell_type": "code",
   "execution_count": 3,
   "id": "bbe777e4",
   "metadata": {},
   "outputs": [],
   "source": [
    "import nltk\n",
    "from collections import Counter\n",
    "from tqdm import tqdm_notebook\n",
    "import numpy as np\n",
    "import tensorflow as tf\n",
    "from tensorflow.contrib import seq2seq\n",
    "from tensorflow.contrib.rnn import DropoutWrapper\n",
    "import random"
   ]
  },
  {
   "cell_type": "code",
   "execution_count": 4,
   "id": "223bc197",
   "metadata": {},
   "outputs": [],
   "source": [
    "MAX_SEQ_LEN = 20\n",
    "BATCH_SIZE = 64\n",
    "#number of samples\n",
    "N = len(lines)"
   ]
  },
  {
   "cell_type": "code",
   "execution_count": 5,
   "id": "8226a4c3",
   "metadata": {},
   "outputs": [],
   "source": [
    "class Lang:\n",
    "    def __init__(self, counter, vocab_size):\n",
    "        self.word2id = {}\n",
    "        self.id2word = {}\n",
    "        self.pad = \"<PAD>\"\n",
    "        self.sos = \"<SOS>\"\n",
    "        self.eos = \"<EOS>\"\n",
    "        self.unk = \"<UNK>\"\n",
    "        \n",
    "        self.ipad = 0\n",
    "        self.isos = 1\n",
    "        self.ieos = 2\n",
    "        self.iunk = 3\n",
    "        \n",
    "        self.word2id[self.pad] = 0\n",
    "        self.word2id[self.sos] = 1\n",
    "        self.word2id[self.eos] = 2\n",
    "        self.word2id[self.unk] = 3\n",
    "        \n",
    "        self.id2word[0] = self.pad\n",
    "        self.id2word[1] = self.sos\n",
    "        self.id2word[2] = self.eos\n",
    "        self.id2word[3] = self.unk\n",
    "        \n",
    "        curr_id = 4\n",
    "        for w, c in counter.most_common(vocab_size):\n",
    "            self.word2id[w] = curr_id\n",
    "            self.id2word[curr_id] = w\n",
    "            curr_id += 1\n",
    "            \n",
    "    def encodeSentence(self, s, max_len=-1):\n",
    "        wseq = s.lower().strip()\n",
    "        if max_len == -1:\n",
    "            return [self.word2id[w] if w in self.word2id else self.iunk for w in wseq]\n",
    "        else:\n",
    "            return ([self.word2id[w] if w in self.word2id else self.iunk for w in wseq] + [self.ieos] + [self.ipad]*max_len)[:max_len]\n",
    "        \n",
    "    def encodeSentence2(self, s, max_len=-1):\n",
    "        wseq = wseq = s.lower().strip()\n",
    "        return min(max_len, len(wseq)+1), \\\n",
    "            ([self.word2id[w] if w in self.word2id else self.iunk for w in wseq] + \\\n",
    "                [self.ieos] + [self.ipad]*max_len)[:max_len]\n",
    "    \n",
    "    def decodeSentence(self, id_seq):\n",
    "        id_seq = np.array(id_seq + [self.ieos])\n",
    "        j = np.argmax(id_seq==self.ieos)\n",
    "        s = ''.join([self.id2word[x] for x in id_seq[:j]])\n",
    "        s = s.replace(self.unk, \"UNK\")\n",
    "        return s"
   ]
  },
  {
   "cell_type": "code",
   "execution_count": 6,
   "id": "2b16314e",
   "metadata": {},
   "outputs": [
    {
     "name": "stderr",
     "output_type": "stream",
     "text": [
      "c:\\users\\nain\\appdata\\local\\programs\\python\\python36\\lib\\site-packages\\ipykernel_launcher.py:9: TqdmDeprecationWarning: This function will be removed in tqdm==5.0.0\n",
      "Please use `tqdm.notebook.tqdm` instead of `tqdm.tqdm_notebook`\n",
      "  if __name__ == '__main__':\n"
     ]
    },
    {
     "data": {
      "application/vnd.jupyter.widget-view+json": {
       "model_id": "b8396b7f98444b7b930372c8560aac29",
       "version_major": 2,
       "version_minor": 0
      },
      "text/plain": [
       "  0%|          | 0/13937 [00:00<?, ?it/s]"
      ]
     },
     "metadata": {},
     "output_type": "display_data"
    },
    {
     "name": "stderr",
     "output_type": "stream",
     "text": [
      "c:\\users\\nain\\appdata\\local\\programs\\python\\python36\\lib\\site-packages\\ipykernel_launcher.py:12: TqdmDeprecationWarning: This function will be removed in tqdm==5.0.0\n",
      "Please use `tqdm.notebook.tqdm` instead of `tqdm.tqdm_notebook`\n",
      "  if sys.path[0] == '':\n"
     ]
    },
    {
     "data": {
      "application/vnd.jupyter.widget-view+json": {
       "model_id": "8dccb4dea2884f6ab5c954385ffbf779",
       "version_major": 2,
       "version_minor": 0
      },
      "text/plain": [
       "  0%|          | 0/13937 [00:00<?, ?it/s]"
      ]
     },
     "metadata": {},
     "output_type": "display_data"
    }
   ],
   "source": [
    "hi_counter = Counter()\n",
    "hi_sentences=[]\n",
    "en_counter = Counter()\n",
    "en_sentences=[]\n",
    "\n",
    "\n",
    "hi_sentences=lines['hindi'][:N]\n",
    "en_sentences=lines['english'][:N]\n",
    "for line in tqdm_notebook(hi_sentences):\n",
    "    for w in line.strip():\n",
    "        hi_counter[w] += 1\n",
    "for line in tqdm_notebook(en_sentences):\n",
    "    for w in line.strip():\n",
    "        en_counter[w] += 1"
   ]
  },
  {
   "cell_type": "code",
   "execution_count": 7,
   "id": "5ada6780",
   "metadata": {},
   "outputs": [
    {
     "name": "stdout",
     "output_type": "stream",
     "text": [
      "Most common hi characters in dataset:\n",
      " [('ा', 9549), ('र', 9487), ('्', 8129), (' ', 6599), ('न', 5857)]\n",
      "\n",
      "Total (hi)characters gathered from dataset: 83\n",
      "\n",
      "Most common en characters in dataset:\n",
      " [('a', 23354), ('r', 9809), ('i', 9316), ('n', 8959), ('e', 8951)]\n",
      "\n",
      "Total (en)characters gathered from dataset: 44\n"
     ]
    }
   ],
   "source": [
    "# A few sample hindi characters\n",
    "print(\"Most common hi characters in dataset:\\n\", hi_counter.most_common(5))\n",
    "\n",
    "print(\"\\nTotal (hi)characters gathered from dataset:\",len(hi_counter))\n",
    "\n",
    "# A few sample english characters\n",
    "print(\"\\nMost common en characters in dataset:\\n\", en_counter.most_common(5))\n",
    "\n",
    "print(\"\\nTotal (en)characters gathered from dataset:\", len(en_counter))"
   ]
  },
  {
   "cell_type": "code",
   "execution_count": 8,
   "id": "f7226011",
   "metadata": {},
   "outputs": [],
   "source": [
    "en_lang = Lang(en_counter, len(en_counter))\n",
    "hi_lang = Lang(hi_counter, len(hi_counter))"
   ]
  },
  {
   "cell_type": "code",
   "execution_count": 9,
   "id": "6d90b28c",
   "metadata": {},
   "outputs": [
    {
     "name": "stdout",
     "output_type": "stream",
     "text": [
      "Test en encoding: [11, 9, 17, 18, 5, 6, 23, 4]\n",
      "Test en decoding: shukriya\n",
      "Test hindi encoding: [30, 23, 14, 6, 5, 9, 20, 4, 2, 0]\n",
      "Test hindi decoding: शुक्रिया\n"
     ]
    }
   ],
   "source": [
    "print(\"Test en encoding:\", en_lang.encodeSentence(\"Shukriya\"))\n",
    "\n",
    "print(\"Test en decoding:\", en_lang.decodeSentence(en_lang.encodeSentence(\"Shukriya\", 10)))\n",
    "\n",
    "print(\"Test hindi encoding:\", hi_lang.encodeSentence(\"शुक्रिया\", 10))\n",
    "\n",
    "print(\"Test hindi decoding:\", hi_lang.decodeSentence((hi_lang.encodeSentence(\"शुक्रिया\", 10))))"
   ]
  },
  {
   "cell_type": "code",
   "execution_count": 10,
   "id": "988c9f62",
   "metadata": {},
   "outputs": [],
   "source": [
    "VE = len(en_lang.word2id)\n",
    "VH = len(hi_lang.word2id)"
   ]
  },
  {
   "cell_type": "code",
   "execution_count": 11,
   "id": "0bcf7f5b",
   "metadata": {},
   "outputs": [],
   "source": [
    "en_word_emb_matrix = tf.get_variable(\"en_word_emb_matrix\", (VE, 300), dtype=tf.float32)\n",
    "hi_word_emb_matrix = tf.get_variable(\"hi_word_emb_matrix\", (VH, 300), dtype=tf.float32)"
   ]
  },
  {
   "cell_type": "code",
   "execution_count": 12,
   "id": "c6313266",
   "metadata": {},
   "outputs": [],
   "source": [
    "keep_prob = tf.placeholder(tf.float32)\n",
    "\n",
    "input_ids = tf.placeholder(tf.int32, (None, MAX_SEQ_LEN))\n",
    "input_lens = tf.placeholder(tf.int32, (None, ))\n",
    "\n",
    "ph_target_ids = tf.placeholder(tf.int32, (None, MAX_SEQ_LEN))\n",
    "target_lens = tf.placeholder(tf.int32, (None, ))"
   ]
  },
  {
   "cell_type": "code",
   "execution_count": 13,
   "id": "f98bb50e",
   "metadata": {},
   "outputs": [],
   "source": [
    "# Add SOS or GO symbol\n",
    "target_ids = tf.concat([tf.fill([BATCH_SIZE,1], hi_lang.isos), ph_target_ids], -1)"
   ]
  },
  {
   "cell_type": "code",
   "execution_count": 14,
   "id": "fe9dd0e6",
   "metadata": {},
   "outputs": [],
   "source": [
    "input_emb = tf.nn.embedding_lookup(en_word_emb_matrix, input_ids)\n",
    "target_emb = tf.nn.embedding_lookup(hi_word_emb_matrix, target_ids[:, :-1])"
   ]
  },
  {
   "cell_type": "code",
   "execution_count": 15,
   "id": "2b4a67fd",
   "metadata": {},
   "outputs": [
    {
     "data": {
      "text/plain": [
       "TensorShape([Dimension(None), Dimension(20), Dimension(300)])"
      ]
     },
     "execution_count": 15,
     "metadata": {},
     "output_type": "execute_result"
    }
   ],
   "source": [
    "input_emb.shape"
   ]
  },
  {
   "cell_type": "code",
   "execution_count": 16,
   "id": "8e642e05",
   "metadata": {},
   "outputs": [
    {
     "name": "stdout",
     "output_type": "stream",
     "text": [
      "WARNING:tensorflow:From <ipython-input-16-73573fbda69f>:1: GRUCell.__init__ (from tensorflow.python.ops.rnn_cell_impl) is deprecated and will be removed in a future version.\n",
      "Instructions for updating:\n",
      "This class is equivalent as tf.keras.layers.GRUCell, and will be replaced by that in Tensorflow 2.0.\n"
     ]
    }
   ],
   "source": [
    "encoder_cell = tf.nn.rnn_cell.GRUCell(128) # 128 is the dimension of hidden state\n",
    "encoder_cell = DropoutWrapper(encoder_cell, output_keep_prob=keep_prob) # Adding Dropout for regularization"
   ]
  },
  {
   "cell_type": "code",
   "execution_count": 17,
   "id": "3a4af6a0",
   "metadata": {},
   "outputs": [
    {
     "name": "stdout",
     "output_type": "stream",
     "text": [
      "WARNING:tensorflow:From <ipython-input-17-1e698e82f454>:5: dynamic_rnn (from tensorflow.python.ops.rnn) is deprecated and will be removed in a future version.\n",
      "Instructions for updating:\n",
      "Please use `keras.layers.RNN(cell)`, which is equivalent to this API\n",
      "WARNING:tensorflow:From c:\\users\\nain\\appdata\\local\\programs\\python\\python36\\lib\\site-packages\\tensorflow_core\\python\\ops\\rnn_cell_impl.py:559: Layer.add_variable (from tensorflow.python.keras.engine.base_layer) is deprecated and will be removed in a future version.\n",
      "Instructions for updating:\n",
      "Please use `layer.add_weight` method instead.\n",
      "WARNING:tensorflow:From c:\\users\\nain\\appdata\\local\\programs\\python\\python36\\lib\\site-packages\\tensorflow_core\\python\\ops\\rnn_cell_impl.py:565: calling Constant.__init__ (from tensorflow.python.ops.init_ops) with dtype is deprecated and will be removed in a future version.\n",
      "Instructions for updating:\n",
      "Call initializer instance with the dtype argument instead of passing it to the constructor\n",
      "WARNING:tensorflow:From c:\\users\\nain\\appdata\\local\\programs\\python\\python36\\lib\\site-packages\\tensorflow_core\\python\\ops\\rnn_cell_impl.py:575: calling Zeros.__init__ (from tensorflow.python.ops.init_ops) with dtype is deprecated and will be removed in a future version.\n",
      "Instructions for updating:\n",
      "Call initializer instance with the dtype argument instead of passing it to the constructor\n",
      "WARNING:tensorflow:From c:\\users\\nain\\appdata\\local\\programs\\python\\python36\\lib\\site-packages\\tensorflow_core\\python\\ops\\rnn.py:244: where (from tensorflow.python.ops.array_ops) is deprecated and will be removed in a future version.\n",
      "Instructions for updating:\n",
      "Use tf.where in 2.0, which has the same broadcast rule as np.where\n"
     ]
    }
   ],
   "source": [
    "enc_outputs, enc_state = tf.nn.dynamic_rnn(\n",
    "    encoder_cell, # The encoder GRU cell\n",
    "    input_emb, # Embedded input sequence\n",
    "    sequence_length=input_lens, # Sequence lengths of individual inputs in a batch\n",
    "    initial_state=encoder_cell.zero_state(BATCH_SIZE, dtype=tf.float32)\n",
    ")"
   ]
  },
  {
   "cell_type": "code",
   "execution_count": 18,
   "id": "05adf7b9",
   "metadata": {},
   "outputs": [
    {
     "data": {
      "text/plain": [
       "TensorShape([Dimension(64), Dimension(128)])"
      ]
     },
     "execution_count": 18,
     "metadata": {},
     "output_type": "execute_result"
    }
   ],
   "source": [
    "# Confirm the shape of the final hidden state\n",
    "enc_state.shape"
   ]
  },
  {
   "cell_type": "code",
   "execution_count": 19,
   "id": "0baf5a5d",
   "metadata": {},
   "outputs": [],
   "source": [
    "decoder_cell = tf.nn.rnn_cell.GRUCell(128)\n",
    "decoder_cell = DropoutWrapper(decoder_cell, output_keep_prob=keep_prob)"
   ]
  },
  {
   "cell_type": "code",
   "execution_count": 20,
   "id": "6d9a1725",
   "metadata": {},
   "outputs": [],
   "source": [
    "output_projection = tf.layers.Dense(len(hi_lang.word2id))"
   ]
  },
  {
   "cell_type": "code",
   "execution_count": 21,
   "id": "66912aba",
   "metadata": {},
   "outputs": [],
   "source": [
    "helper = seq2seq.TrainingHelper(target_emb, target_lens)\n",
    "decoder = seq2seq.BasicDecoder(decoder_cell, helper, enc_state, output_projection)\n",
    "outputs, _, outputs_lens = seq2seq.dynamic_decode(decoder, maximum_iterations=MAX_SEQ_LEN, \n",
    "                                                  impute_finished=False, swap_memory=True)\n",
    "output_max_len = tf.reduce_max(outputs_lens)"
   ]
  },
  {
   "cell_type": "code",
   "execution_count": 22,
   "id": "be03f49f",
   "metadata": {},
   "outputs": [],
   "source": [
    "# Using the decoder_cell without dropout here.\n",
    "infer_helper = seq2seq.GreedyEmbeddingHelper(hi_word_emb_matrix, tf.fill([BATCH_SIZE, ], hi_lang.isos), hi_lang.ieos)\n",
    "infer_decoder = seq2seq.BasicDecoder(decoder_cell, infer_helper, enc_state, output_projection)\n",
    "infer_output = seq2seq.dynamic_decode(infer_decoder, maximum_iterations=MAX_SEQ_LEN, swap_memory=True)"
   ]
  },
  {
   "cell_type": "code",
   "execution_count": 23,
   "id": "ba7af0fa",
   "metadata": {},
   "outputs": [],
   "source": [
    "# Sequence mask:\n",
    "# To make sure we don't back-propagate error from output of length positions\n",
    "masks = tf.sequence_mask(target_lens, output_max_len, dtype=tf.float32, name='masks')\n",
    "\n",
    "# Loss function - weighted softmax cross entropy\n",
    "cost = seq2seq.sequence_loss(\n",
    "    outputs[0],\n",
    "    target_ids[:, 1:(output_max_len + 1)],\n",
    "    masks)\n",
    "\n",
    "# Optimizer\n",
    "optimizer = tf.train.AdamOptimizer(0.0001)"
   ]
  },
  {
   "cell_type": "code",
   "execution_count": 24,
   "id": "24e31a6a",
   "metadata": {},
   "outputs": [],
   "source": [
    "train_op = optimizer.minimize(cost)"
   ]
  },
  {
   "cell_type": "code",
   "execution_count": 25,
   "id": "730e1b63",
   "metadata": {},
   "outputs": [],
   "source": [
    "init = tf.global_variables_initializer()"
   ]
  },
  {
   "cell_type": "code",
   "execution_count": 26,
   "id": "b9a69114",
   "metadata": {},
   "outputs": [],
   "source": [
    "sess_config = tf.ConfigProto()\n",
    "sess_config.gpu_options.allow_growth = True"
   ]
  },
  {
   "cell_type": "code",
   "execution_count": 27,
   "id": "a8f7a6b0",
   "metadata": {},
   "outputs": [],
   "source": [
    "sess = tf.InteractiveSession(config=sess_config)\n",
    "sess.run(init)"
   ]
  },
  {
   "cell_type": "code",
   "execution_count": 28,
   "id": "0d152376",
   "metadata": {},
   "outputs": [],
   "source": [
    "random.seed(41)"
   ]
  },
  {
   "cell_type": "code",
   "execution_count": 29,
   "id": "3bd4cf8c",
   "metadata": {},
   "outputs": [],
   "source": [
    "parallel = list(zip(en_sentences, hi_sentences))"
   ]
  },
  {
   "cell_type": "code",
   "execution_count": 30,
   "id": "ff46e284",
   "metadata": {},
   "outputs": [
    {
     "data": {
      "text/plain": [
       "0              aabhaa\n",
       "1             aabheer\n",
       "2           aabhijaat\n",
       "3               aabid\n",
       "4             aabshar\n",
       "             ...     \n",
       "13932    yuvraj singh\n",
       "13933    zahoor elahi\n",
       "13934          zaleel\n",
       "13935            zayb\n",
       "13936          zorion\n",
       "Name: english, Length: 13937, dtype: object"
      ]
     },
     "execution_count": 30,
     "metadata": {},
     "output_type": "execute_result"
    }
   ],
   "source": [
    "en_sentences"
   ]
  },
  {
   "cell_type": "code",
   "execution_count": 31,
   "id": "290e3622",
   "metadata": {},
   "outputs": [],
   "source": [
    "random.shuffle(parallel)"
   ]
  },
  {
   "cell_type": "code",
   "execution_count": 32,
   "id": "5a8a9d76",
   "metadata": {},
   "outputs": [
    {
     "data": {
      "text/plain": [
       "[('kara-kum', 'काराकुम'),\n",
       " ('daler', 'दलेर'),\n",
       " ('sulwyn', 'सुल्विन'),\n",
       " ('manning', 'मैनिंग'),\n",
       " ('shashibala', 'शशिबाला'),\n",
       " ('talisma', 'तलीस्मा'),\n",
       " ('thirunarayan', 'तिरुनारायण'),\n",
       " ('medal of suvorov', 'मेडल ऑफ सुवोरोव'),\n",
       " ('errin', 'एरिन'),\n",
       " ('gurudwara tibbi sahib', 'गुरूद्वारा टिब्बी साहिब'),\n",
       " ('amadhya', 'अमध्य'),\n",
       " ('radhika', 'राधिका'),\n",
       " ('paul hitchcock', 'पॉल हिचकॉक'),\n",
       " ('kush', 'कुश'),\n",
       " ('aru', 'अरु'),\n",
       " ('fort douaumont', 'फोर्ट डॉमोंट'),\n",
       " ('hindu american', 'हिन्दू अमेरिकन'),\n",
       " (\"saint george's\", 'सेंट जॉर्ज'),\n",
       " ('abdul haakim', 'अब्दुल हाकिम'),\n",
       " ('ebra', 'एब्रा'),\n",
       " ('randheer', 'रणधीर'),\n",
       " ('roma', 'रोमा'),\n",
       " ('dartmoor', 'डार्टमूर'),\n",
       " ('moghe', 'मोघे'),\n",
       " ('qaylah', 'कयलाह'),\n",
       " ('gaon hamara shehar tumhara', 'गाँव हमारा शहर तुम्हारा'),\n",
       " ('pamela', 'पामेला'),\n",
       " ('corey collymore', 'कॉरे कॉलीमर'),\n",
       " ('shankar khan', 'शंकर खान'),\n",
       " ('wayne', 'वेन'),\n",
       " ('samsherbaz', 'समशेरबाज़'),\n",
       " ('pocono', 'पॉकॉनो'),\n",
       " ('paramanand', 'परमानन्द'),\n",
       " ('kenya', 'केन्या'),\n",
       " ('shatrughn', 'शत्रुघ्न'),\n",
       " ('sawad', 'सवाद'),\n",
       " ('kaushal lokuarachchi', 'कौशल लोकुअराच्ची'),\n",
       " ('graeme watson', 'ग्रीम वॉटसन'),\n",
       " ('umanath', 'उमनाथ'),\n",
       " ('shikhar', 'शिखर'),\n",
       " ('falewal', 'फलेवाल'),\n",
       " ('wal mart stores', 'वॉल मार्ट स्टोर्स'),\n",
       " ('begusarai', 'बेगूसराय'),\n",
       " ('hamim', 'हमीम'),\n",
       " ('kshanika', 'क्षणिका'),\n",
       " ('ghar parau', 'घर परेयु'),\n",
       " ('champaran', 'चम्पारन'),\n",
       " ('dhanakya', 'धनक्या'),\n",
       " ('aaja re o sajna', 'आजा रे ओ सजना'),\n",
       " ('sharona', 'शेरोना'),\n",
       " ('midnight mail', 'मिडनाइट मेल'),\n",
       " ('naari', 'नारी'),\n",
       " ('kenneth', 'केनेथ'),\n",
       " ('letitia', 'लेटीशिया'),\n",
       " ('iqbal sikander', 'इकबाल सिकन्दर'),\n",
       " ('bhooshan', 'भूषण'),\n",
       " ('panhala', 'पन्हाला'),\n",
       " ('january', 'जैन्युअरी'),\n",
       " ('gay', 'गाय'),\n",
       " ('studs', 'स्टड्स'),\n",
       " ('saarangapaani', 'सारंगपाणि'),\n",
       " ('electra', 'इलेक्ट्रा'),\n",
       " ('war of the bavarian succession', 'वार ऑफ द बेवेरियन सक्सेशन'),\n",
       " ('takhat shri kesgarh sahib, anandpur sahib (punjab)',\n",
       "  'तखत श्री केसगढ़ साहिब, आनंदपुर साहिब (पंजाब)'),\n",
       " ('cahnni', 'कहन्नी'),\n",
       " ('players', 'प्लेयर्स'),\n",
       " ('prabhjit', 'प्रभजीत'),\n",
       " ('kejimkujik', 'केज़ीमकुज़ीक'),\n",
       " ('seringapatam', 'सेरिंगापटम'),\n",
       " ('mahavat', 'महावत'),\n",
       " ('bade sarkar', 'बड़े सरकार'),\n",
       " ('westminster presbyterian', 'वेस्टमिनस्टर प्रेसबिटेरियन'),\n",
       " ('abodh', 'अबोध'),\n",
       " ('greece', 'ग्रीस'),\n",
       " ('grammy lifetime achievement award', 'ग्रैमी लाइफटाइम अचीवमेंट अवार्ड'),\n",
       " ('karis', 'कैरिस'),\n",
       " ('diqrah', 'डिकराह'),\n",
       " ('jalandhri', 'जालंधरी'),\n",
       " ('kaziranga', 'काज़ीरंगा'),\n",
       " ('thermopylae', 'थर्मोपाइली'),\n",
       " ('getey', 'गेटे'),\n",
       " ('kularanjan', 'कुलरंजन'),\n",
       " ('kushinagar', 'कुशीनगर'),\n",
       " ('humrahi', 'हमराही'),\n",
       " ('arya', 'आर्य'),\n",
       " ('asuncion', 'एसुसिआन'),\n",
       " ('draupadi', 'द्रौपदी'),\n",
       " ('tung chung fort', 'तुंग चुंग फोर्ट'),\n",
       " ('frank loyad right', 'फ़्रेक लॉयड राइट'),\n",
       " ('hanuman vijay', 'हनुमान विजय'),\n",
       " ('khushaboo', 'खुशबू'),\n",
       " ('farz aur kanoon', 'फर्ज़ और कानून'),\n",
       " ('tum mere ho', 'तुम मेरे हो'),\n",
       " ('whitbread', 'व्हिटब्रेड'),\n",
       " ('aamer sohail', 'आमेर सोहेल'),\n",
       " ('subex systems', 'सुबेक्स सिस्टम्स'),\n",
       " ('rajasthan', 'राजस्थान'),\n",
       " ('carnegie medal', 'कार्नेग मेडल'),\n",
       " ('ved', 'वेद'),\n",
       " ('anjanee', 'अंजनी'),\n",
       " ('safed jhooth', 'सफ़ेद झूठ'),\n",
       " ('bensonvale covenant', 'बेनसोन्व्हले कॉन्व्हेन्ट'),\n",
       " ('newbery honor', 'न्यूबेरी हॉनर'),\n",
       " ('sachaai', 'सच्चाई'),\n",
       " ('chiranjeev', 'चिरंजीव'),\n",
       " ('alstom projects', 'आल्सटॉम प्रोजेक्ट्स'),\n",
       " ('johnson controls', 'जॉनसन कंट्रोल्स'),\n",
       " ('mahmi', 'माहमी'),\n",
       " ('kansas city', 'कान्सास सिटी'),\n",
       " ('adora', 'एडोरा'),\n",
       " ('siberut', 'सिबेरुट'),\n",
       " ('mahaganapati', 'महागणपती'),\n",
       " ('rockingham', 'रॉकिंघम'),\n",
       " ('kaushik', 'कौशिक'),\n",
       " ('naman', 'नमन'),\n",
       " ('gregory', 'ग्रेगोरी'),\n",
       " ('barsaat', 'बरसात'),\n",
       " ('gumia', 'गुमिया'),\n",
       " ('sumitra', 'सुमित्रा'),\n",
       " ('fort marlborough', 'फोर्ट मार्लबोरॉ'),\n",
       " ('gop jam', 'गोप जाम'),\n",
       " ('medal of nesterov', 'मेडल ऑफ नेस्टेरोव'),\n",
       " ('hemaraj', 'हेमराज'),\n",
       " ('mera ladka', 'मेरा लड़का'),\n",
       " ('ishq per jor nahin', 'इश्क़ पर ज़ोर नहीं'),\n",
       " ('jaiwant', 'जयवंत'),\n",
       " ('brian lara', 'ब्रायन लारा'),\n",
       " ('deven_dr', 'देवेन्द्र'),\n",
       " ('bhuj', 'भुज'),\n",
       " ('parthapratim', 'पार्थप्रतिम'),\n",
       " ('bundesverdienstkreuz', 'बूंदेस्वेरदींस्तक्रुज़'),\n",
       " ('dabra', 'डाबरा'),\n",
       " ('rohanlal', 'रोहनलाल'),\n",
       " ('akaltara', 'अकालतारा'),\n",
       " ('bal bharati public school', 'बाल भारती पब्लिक स्कूल'),\n",
       " ('jiten_dr', 'जितेन्द्र'),\n",
       " ('bhartiya', 'भारतीय'),\n",
       " ('wahidul gani', 'वहीदुल गानी'),\n",
       " ('mann cup', 'मान कप'),\n",
       " ('sana', 'साना'),\n",
       " ('bambai ka babu', 'बंबई की बहू'),\n",
       " ('amravati', 'अमरावती'),\n",
       " ('lalan', 'ललन'),\n",
       " ('jaldeep', 'जलदीप'),\n",
       " ('bhimavaram town', 'भीमावरम टाउन'),\n",
       " ('panna', 'पन्ना'),\n",
       " ('baalakrishna', 'बालकृष्ण'),\n",
       " ('vishaya', 'विषया'),\n",
       " ('ninon', 'निनोन'),\n",
       " ('sohal', 'सोहल'),\n",
       " ('hayward gallery', 'हेवर्ड गैलरी'),\n",
       " ('bayana junction', 'बयाना जंक्शन'),\n",
       " ('hughes medal', 'ह्युजेस मेडल'),\n",
       " ('art sunje museum', 'आर्ट संज म्युज़ियम'),\n",
       " ('stats chippac', 'स्टेट्सचिपपैक'),\n",
       " ('latikaa', 'लतिका'),\n",
       " ('raajiv', 'राजीव'),\n",
       " ('providence', 'प्रॉविडन्स'),\n",
       " ('sadagoppan ramesh', 'सदागोप्पन रमेश'),\n",
       " ('emberlynn', 'एम्बरलीन'),\n",
       " ('eastbourne redoubt', 'ईस्टबॉर्न रीडाउट'),\n",
       " ('haytham', 'हैदम'),\n",
       " ('fiorenza', 'फियोरेंज़ा'),\n",
       " ('atinderjit', 'अतिंदरजीत'),\n",
       " ('milford haven', 'मिल्फोर्ड हैवन'),\n",
       " ('aithal', 'ऐथल'),\n",
       " ('guoqin', 'ग्योकिन'),\n",
       " ('gypsy', 'जिप्सी'),\n",
       " ('aragon', 'एरागन'),\n",
       " ('hwange', 'हवांगे'),\n",
       " ('hemaraaj', 'हेमराज'),\n",
       " ('lagos', 'लेगॉस'),\n",
       " ('ghaare', 'घारे'),\n",
       " ('pyar ki baaten', 'प्यार की बातें'),\n",
       " ('dreadnought', 'ड्रेडनॉट'),\n",
       " ('chakra', 'चक्र'),\n",
       " ('gurudwara nanaksar sahib', 'गुरूद्वारा नानकसर साहिब'),\n",
       " ('fort mchenry', 'फोर्ट मैकहेनरी'),\n",
       " ('basra', 'बसरा'),\n",
       " ('lowri', 'लोरी'),\n",
       " ('chhabili', 'छबीली'),\n",
       " ('jaigarh fort', 'जयगढ़ फोर्ट'),\n",
       " ('caron', 'कैरोन'),\n",
       " ('antah', 'अंता'),\n",
       " ('van', 'वन'),\n",
       " ('newdigate prize', 'न्यूडिगेट प्राइज़'),\n",
       " ('richard snell', 'रिचर्ड स्नेल'),\n",
       " ('heera moti', 'हीरा मोती'),\n",
       " ('badr', 'बद्र'),\n",
       " ('jaunie', 'जॉनी'),\n",
       " ('rokeby museum', 'रोकबाय म्युज़ियम'),\n",
       " ('fort zeelandia', 'फोर्ट ज़ीलैंडिया'),\n",
       " ('delhi shahdara', 'डेल्ही शाहदरा'),\n",
       " ('mary antoinette', 'मेरी एंटॉइनेट'),\n",
       " ('blessing mahwire', 'ब्लेसिंग मेहवायर'),\n",
       " ('pathik', 'पथिक'),\n",
       " ('fort steurgat', 'फोर्ट स्ट्\\u200dयूर्गेट'),\n",
       " ('mohinder amarnath', 'मोहिंदर अमरनाथ'),\n",
       " ('arqam', 'अरकाम'),\n",
       " ('shin shinaki babla boo', 'शिन शिनाकी बबला बू'),\n",
       " ('sidney', 'सिडनी'),\n",
       " ('mohammad abul kalam azad', 'मौलाना अब्दुल कलाम आज़ाद'),\n",
       " ('cloris', 'क्लोरिस'),\n",
       " ('madihah', 'मदिहाह'),\n",
       " ('abdul baseer', 'अब्दुल बसीर'),\n",
       " ('zloty', 'ज़्लॉटी'),\n",
       " ('chitrabhanu', 'चित्रभानु'),\n",
       " ('miss frontier mail', 'मिस फ्रंटियर मेल'),\n",
       " ('tchernichovsky prize', 'चेर्निकोवस्की प्राइज़'),\n",
       " ('badmashon ka badmash', 'बदमशों का बदमाश'),\n",
       " ('darinda', 'दरिंदा'),\n",
       " ('central chronicle', 'सेंट्रल क्रॉन\\u200dिकल'),\n",
       " ('rastriya sahara', 'राष्\\u200dट्रीय सहारा'),\n",
       " ('taj mahal', 'ताज महल'),\n",
       " ('taagaaraam', 'तागाराम'),\n",
       " ('satara', 'सतारा'),\n",
       " ('nashit', 'नाशित'),\n",
       " ('athabasca', 'अथाबास्का'),\n",
       " ('cira', 'सीरा'),\n",
       " ('shoorveer', 'शूरवीर'),\n",
       " ('usman afzaal', 'उस्मान अफज़ाल'),\n",
       " ('angaraj', 'अंगराज'),\n",
       " ('aida', 'आइडा'),\n",
       " ('gaidhani', 'गायधनी'),\n",
       " ('marudhanadhi reservoir', 'मरुधानधी रिज़रवायर'),\n",
       " ('museum of engravings and graphic arts',\n",
       "  'म्युज़ियम ऑफ एन्ग्रेव\\u200dिंग्स एण्ड ग्राफ\\u200dिक आर्ट्स'),\n",
       " ('achalganj', 'अचलगंज'),\n",
       " ('vishvaas', 'विश्वास'),\n",
       " ('meritorious service medal', 'मेरिटोरियस सर्विस मेडल'),\n",
       " ('rasavant', 'रसवंत'),\n",
       " ('ikrimah', 'इकरीमाह'),\n",
       " ('razeen', 'रज़ीन'),\n",
       " ('osaka', 'ओसाका'),\n",
       " ('degana junction', 'देगाना जंक्शन'),\n",
       " ('almirante latorre', 'अल्मीरेंट लेटौर'),\n",
       " ('vikram vetal', 'विक्रम बेताल'),\n",
       " ('murari', 'मुरारी'),\n",
       " ('darve', 'दर्वे'),\n",
       " ('spathareion museum of the shadow theatre',\n",
       "  'स्पाथेर\\u200dियन म्युज़ियम ऑफ द शैडो थ\\u200dिएटर'),\n",
       " ('nakhat', 'नखत'),\n",
       " ('sen', 'सेन'),\n",
       " ('waelhem', 'वेलहेम'),\n",
       " ('giraftaar', 'गिरफ्तार'),\n",
       " ('bahiyy al din', 'बहिय अल दीन'),\n",
       " ('chetan sharma', 'चेतन शर्मा'),\n",
       " ('sri shakti', 'श्री शक्ती'),\n",
       " ('shek lei pui reservoir', 'शेक लेई पुई रिज़रवायर'),\n",
       " ('bargadi', 'बरगाड़ी'),\n",
       " ('fiorello', 'फियोरेलो'),\n",
       " ('bepanah', 'बेपनाह'),\n",
       " ('lou', 'लाऊ'),\n",
       " ('tanu', 'तनु'),\n",
       " ('nikhil chopra', 'निखिल चोपड़ा'),\n",
       " ('elton chigumbura', 'एल्टन चिगमबुरा'),\n",
       " ('umapati', 'उमापति'),\n",
       " ('bangarapet', 'बंगरापेट'),\n",
       " ('balasor', 'बालासोर'),\n",
       " ('heeralal pannalal', 'हीरालाल पन्नालाल'),\n",
       " ('priyasha', 'प्रियशा'),\n",
       " ('pathanamthitta', 'पथानामथीट्\\u200dटा'),\n",
       " ('jagadish', 'जगदिश'),\n",
       " ('pricewaterhouse coopers', 'प्राइसवॉटरहाउस कूपर्स'),\n",
       " ('sant tulsidas', 'संत तुलसीदास'),\n",
       " ('slave', 'स्लेव'),\n",
       " ('hum hain lajawab', 'हम हैं लाजवाब'),\n",
       " ('shokh dilruba', 'शोख दिलरुबा'),\n",
       " ('arihant', 'अरिहंत'),\n",
       " ('darrin', 'डैरिन'),\n",
       " ('dhaleshwari', 'धलेश्वरी'),\n",
       " ('abdul muhasin', 'अब्दुल मुहासिन'),\n",
       " ('lucio', 'ल्यूसिओ'),\n",
       " ('mackinac', 'मॅकिनॅक'),\n",
       " ('chhote babu', 'छोटे बाबू'),\n",
       " ('gillian', 'गिल्लिअन'),\n",
       " ('emir', 'एमिर'),\n",
       " ('dhot', 'ढोट'),\n",
       " ('cobra girl', 'कोबरा गर्ल'),\n",
       " ('bhakta raj', 'भक्त राज'),\n",
       " ('gaetano', 'गैटेनो'),\n",
       " ('hyde', 'हाइड'),\n",
       " ('dominy', 'डोमिनी'),\n",
       " ('fell', 'फेल'),\n",
       " ('marengo', 'मैरेंगो'),\n",
       " ('freedom award', 'फ्रीडम अवार्ड'),\n",
       " ('tonganoxie christian', 'टाँगनॉक्सी क्रिश्चियन'),\n",
       " ('sumana', 'सुमन'),\n",
       " ('dhriti', 'धृति'),\n",
       " ('ubeja', 'उबेजा'),\n",
       " ('oregon', 'ओरेगन'),\n",
       " ('mustajab', 'मुस्तजाब'),\n",
       " ('nakhre', 'नखरे'),\n",
       " ('padayani', 'पडायनी'),\n",
       " ('dawson', 'डॉसन'),\n",
       " ('abdul ganee', 'अब्दुल गनी'),\n",
       " ('south bank university', 'साउथ बैंक यूनिवर्सिटी'),\n",
       " ('hashid', 'हशीद'),\n",
       " ('asta', 'एस्टा'),\n",
       " ('afeerah', 'अफीराह'),\n",
       " ('hanif', 'हनीफ'),\n",
       " ('amin', 'अमीन'),\n",
       " ('swapnali', 'स्वप्नाली'),\n",
       " ('rajanee', 'रजनी'),\n",
       " ('russian federation', 'रशियन फ़ेडरेशन'),\n",
       " ('hothi', 'होठी'),\n",
       " ('rammohan', 'राममोहन'),\n",
       " ('deniro', 'डी\\u200dनिरो'),\n",
       " ('auraiya kannauj', 'औरैया कन्नौज'),\n",
       " ('svarnim', 'स्वर्णिम'),\n",
       " ('bolero son', 'बॉलेरो सन'),\n",
       " ('aravalli road', 'अरावली रोड'),\n",
       " ('bahuroop', 'बहुरूप'),\n",
       " ('gajanan', 'गजानन'),\n",
       " ('abhinav', 'अभिनव'),\n",
       " ('eenadu', 'इनाडू'),\n",
       " ('gymnastics', 'जिमनास्टिक्स'),\n",
       " ('agniprav', 'अग्निप्रव'),\n",
       " ('bharti air', 'भारती एयर'),\n",
       " ('baswa', 'बस्वा'),\n",
       " ('marakat', 'मरकत'),\n",
       " ('manish', 'मनीष'),\n",
       " ('tumhare bina', 'तुम्हारे बिना'),\n",
       " ('dermatology', 'डर्माटोलॉजी'),\n",
       " ('melvina', 'मेल्विना'),\n",
       " ('rajasmand', 'राजसमंद'),\n",
       " ('lal punja', 'लाल पंजा'),\n",
       " ('jacinto', 'जसिंटो'),\n",
       " ('lokranjan', 'लोकरंजन'),\n",
       " ('saint stanislaus high school. mumbai',\n",
       "  'सेंट स्टेनिस्लॉस हाई स्कूल, मुम्बई'),\n",
       " ('danka', 'डंका'),\n",
       " ('lakshadweep', 'लक्षद्वीप'),\n",
       " ('mukur', 'मुकुर'),\n",
       " ('abhinanda', 'अभिनन्दा'),\n",
       " ('botetourt', 'बॉटेटोर्ट'),\n",
       " ('achintya', 'अचिंत्य'),\n",
       " ('ronnie irani', 'रूनी इरानी'),\n",
       " ('aadinaaraayan', 'आदिनारायण'),\n",
       " ('jarana', 'जराना'),\n",
       " ('exelon', 'एक्ज़ेलॉन'),\n",
       " ('beri', 'बेरी'),\n",
       " ('ghufayrah', 'ग़ुफयराह'),\n",
       " ('football world cup', 'फुटबॉल वर्ल्ड कप'),\n",
       " ('long', 'लॉन्ग'),\n",
       " ('shatee', 'शती'),\n",
       " ('nanowalia', 'नानोवालिया'),\n",
       " ('mukeria', 'मुकेरिया'),\n",
       " ('louhara', 'लौहारा'),\n",
       " ('robyn', 'रॉबिन'),\n",
       " ('tarakeshwar', 'तारकेश्वर'),\n",
       " ('phil carlson', 'फिल कार्लसन'),\n",
       " ('do dil', 'दो दिल'),\n",
       " ('andrew symonds', 'एण्ड्रयू सिमंड्\\u200dस'),\n",
       " ('khammam', 'खम्माम'),\n",
       " ('sachchidanand', 'सच्चिदानंद'),\n",
       " ('tori', 'टोरी'),\n",
       " ('premendra', 'प्रमेंद्र'),\n",
       " ('pannagesh', 'पन्नागेश'),\n",
       " ('insaaf ki pukar', 'इंसाफ की पुकार'),\n",
       " ('ermin', 'एर्मिन'),\n",
       " ('norina', 'नोरिना'),\n",
       " ('cassara', 'कैसरा'),\n",
       " ('adidas', 'एडीडास'),\n",
       " ('salahuddin ahmed', 'सलाहुद्दीन अहमद'),\n",
       " ('sulafah', 'सुलफाह'),\n",
       " ('preetish', 'प्रीतिश'),\n",
       " ('gustavo', 'गुस्तावो'),\n",
       " ('tony opatha', 'टोनी ओपाथा'),\n",
       " ('ajey', 'अजेय'),\n",
       " ('apradhi kaun', 'अपराधी कौन'),\n",
       " ('wendell', 'वेंडेल'),\n",
       " ('clio awards', 'क्लियो अवार्ड'),\n",
       " ('chandrabhan', 'चंद्रभान'),\n",
       " ('taline', 'टेलिन'),\n",
       " ('chesapeake', 'चेस्पेक'),\n",
       " ('kirsten', 'कर्स्टेन'),\n",
       " ('matinder', 'मतिन्दर'),\n",
       " ('aah', 'आह'),\n",
       " ('zee telefims', 'ज़ी टेलीफ़िल्म्स'),\n",
       " ('muflih', 'मुफ़्लीह'),\n",
       " ('dungarpur', 'डूंगरपूर'),\n",
       " ('hum to chale pardes', 'हम तो चले परदेस'),\n",
       " ('kudmai', 'कुड़मई'),\n",
       " ('kahan kahan se guzar gaya', 'कहाँ कहाँ से गुज़र गया'),\n",
       " ('morris', 'मॉरिस'),\n",
       " ('gurudwara bauli sahib', 'गुरूद्वारा बाउली साहिब'),\n",
       " ('barsuan', 'बरसौन'),\n",
       " ('sete cidades', 'सेटे सिडाडेस'),\n",
       " ('mubin', 'मुबीन'),\n",
       " ('gwyn', 'ग्वायन'),\n",
       " ('sepik flutes kanengara', 'सेपिक फ्ल्यूट्स कनेनगरा'),\n",
       " ('abhilashaa', 'अभिलाषा'),\n",
       " ('fort delaware', 'फोर्ट डेलावेयर'),\n",
       " ('bagri sajjanpur', 'बागरी सज्जनपुर'),\n",
       " ('brian rose', 'ब्रेन रोज़'),\n",
       " ('faizah', 'फैज़ाह'),\n",
       " ('weymark', 'वेमार्क'),\n",
       " ('aleema', 'अलीमा'),\n",
       " ('craig serjeant', 'क्रैग सर्जेंट'),\n",
       " ('maniram', 'मणिराम'),\n",
       " ('ohio', 'ओहियो'),\n",
       " ('cheng lang', 'चेंग लांग'),\n",
       " ('majaal', 'मजाल'),\n",
       " ('lance klusener', 'लैन्स क्लूजनर'),\n",
       " ('angara', 'अंगारा'),\n",
       " ('alwaye', 'ऑल्वे'),\n",
       " ('frank furt', 'फ़्रैंक फ़र्ट'),\n",
       " ('nash', 'नैश'),\n",
       " ('manulife financial', 'मैन्युलाइफ़ फ़ाइनेंशियल'),\n",
       " ('shelling', 'शैलिंग'),\n",
       " ('samleshwar', 'स्यामलेश्वर'),\n",
       " ('gomoh junction', 'गोमोह जंक्शन'),\n",
       " ('dabur', 'डाबर'),\n",
       " ('sapphire', 'सैफायर'),\n",
       " ('david bernard', 'डेविड बरनार्ड'),\n",
       " ('nasser hussain', 'नासिर हुसैन'),\n",
       " ('vellore fort', 'वेल्लोर फोर्ट'),\n",
       " ('sameenah', 'समीनाह'),\n",
       " ('alger hiss', 'अल्गर हिस'),\n",
       " ('pretvam', 'प्रीतवम'),\n",
       " ('depauw', 'डीपॉउ'),\n",
       " ('man industries', 'महिंद्रा इंडस्ट्रीज़'),\n",
       " ('gwalior', 'ग्वालियर'),\n",
       " ('fahmida', 'फहमीदा'),\n",
       " ('lakheshvar', 'लखेश्वर'),\n",
       " ('mississippi river', 'मिसिसिपी रिवर'),\n",
       " ('petra', 'पेत्रा'),\n",
       " ('barua', 'बरुआ'),\n",
       " ('nilantha ratnayake', 'निलंथा रत्नायके'),\n",
       " ('veolia environnement', 'वेओलिया एनवायरमेंट'),\n",
       " ('fayruz', 'फैरुज़'),\n",
       " ('thipse', 'टिप्से'),\n",
       " ('buhaysah', 'बुहायसाह'),\n",
       " ('gary kirsten', 'गैरी किर्स्टन'),\n",
       " ('shyaamaa', 'श्यामा'),\n",
       " ('katelynn', 'कैटलिन'),\n",
       " ('wajihah', 'वजीहाह'),\n",
       " ('juthamah', 'जुथमाह'),\n",
       " ('aslana', 'अस्लाना'),\n",
       " ('choron ka chor', 'चोरों का चोर'),\n",
       " ('atifa', 'अतीफा'),\n",
       " ('kon-tiki', 'कॉन-टिकी'),\n",
       " ('purulia', 'पुरुलिया'),\n",
       " ('square dance', 'स्क्वाएर डांस'),\n",
       " ('coldstream museum', 'कोल्डस्ट्रीम म्युज़ियम'),\n",
       " ('fawz', 'फावज'),\n",
       " ('venugopal rao', 'विणुगोपाल राव'),\n",
       " ('pyar ki baazi', 'प्यार की बाज़ी'),\n",
       " ('shelby', 'शेल्बाय'),\n",
       " ('ambala', 'अंबाला'),\n",
       " ('marcus', 'मार्कस'),\n",
       " ('sari', 'सरी'),\n",
       " ('glenda', 'ग्लेंडा'),\n",
       " ('mard-e-maidan', 'मर्द-ए-मैदान'),\n",
       " ('anitraa', 'अनित्रा'),\n",
       " ('mainpuri', 'मैनपुरी'),\n",
       " ('santa monica', 'सैन्टा मोनिका'),\n",
       " ('kalea', 'कैलिया'),\n",
       " ('helen keller', 'हेलन केलर'),\n",
       " ('maa baap', 'माँ बाप'),\n",
       " ('toofan', 'तूफान'),\n",
       " ('kapotakshi', 'कपोताक्षी'),\n",
       " ('ashish nehra', 'आशीष नेहरा'),\n",
       " ('jitamitra', 'जितमित्रा'),\n",
       " ('nand', 'नंद'),\n",
       " ('guru suleman chela pahelwan', 'गुरु सुलेमान चेला पहलवान'),\n",
       " ('orchards community', 'ऑर्चर्ड्स कम्युनिटी'),\n",
       " ('prem vivah', 'प्रेम विवाह'),\n",
       " ('janda', 'जांदा'),\n",
       " ('the assam tribune', 'द असम ट्रिब्यून'),\n",
       " ('wisma', 'विस्मा'),\n",
       " ('bijainagar', 'बिजयनगर'),\n",
       " ('chittaprasad', 'चित्तप्रसाद'),\n",
       " ('tatra', 'टाट्रा'),\n",
       " ('vartan', 'वार्टन'),\n",
       " ('devnath', 'देवनाथ'),\n",
       " ('samran', 'सामरन'),\n",
       " ('nathalie', 'नैथले'),\n",
       " ('tulasidas', 'तुलसीदास'),\n",
       " ('talabandi', 'तालाबंदी'),\n",
       " ('jasoos', 'जासूस'),\n",
       " ('khalidah', 'खलिदाह'),\n",
       " ('eileen', 'एलीन'),\n",
       " ('vittorio', 'विटोरियो'),\n",
       " ('shurafa', 'शुरफा'),\n",
       " ('chhinda', 'छिंदा'),\n",
       " ('rocket tarzan', 'रॉकेट टार्ज़न'),\n",
       " ('appling', 'एप्लिंग'),\n",
       " ('lalana', 'ललना'),\n",
       " ('rianna', 'रियान्ना'),\n",
       " ('dombivili', 'दोम्बीविली'),\n",
       " ('bodharaam', 'बोधराम'),\n",
       " ('provence', 'प्रोवेंस'),\n",
       " (\"welham girls' high school, dehradun\", 'वेल्हैम गर्ल्स हाई स्कूल, देहरादून'),\n",
       " ('rolta', 'रोल्टा'),\n",
       " ('gurtej', 'गुरतेज'),\n",
       " ('gasunie', 'गैसून'),\n",
       " ('majahab', 'मजहब'),\n",
       " ('bhatke rahi', 'भटके राही'),\n",
       " ('mercury', 'मर्क्यूरी'),\n",
       " ('aachaarysut', 'आचार्यसुत'),\n",
       " ('margaux', 'मारगौक्स'),\n",
       " ('aulad', 'औलाद'),\n",
       " ('umarah', 'उमराह'),\n",
       " ('wilson castle', 'व\\u200dिल्सन कॅसल'),\n",
       " ('matilde', 'मटिल्डे'),\n",
       " ('palma de mallorca', 'प्लामा डे मल्लोर्का'),\n",
       " ('wasp', 'वास्प'),\n",
       " ('piya pyare', 'पिया प्यारे'),\n",
       " ('bura', 'बूरा'),\n",
       " ('rasik', 'रसिक'),\n",
       " ('guido', 'गुइडो'),\n",
       " ('nico', 'निको'),\n",
       " ('ujani', 'उजानी'),\n",
       " ('norbert wiener prize in applied mathematics',\n",
       "  'नॉरबेर्ट वीनर प्राइज़ इन अप्लाएड मैथेमेटिक्स'),\n",
       " ('gharana', 'घराना'),\n",
       " ('arafaat', 'अराफात'),\n",
       " ('naya daur', 'नया दौर'),\n",
       " ('woods', 'वुड्स'),\n",
       " ('nagato', 'नगेटो'),\n",
       " ('tamee', 'तमी'),\n",
       " ('rugby union world cup', 'रग्बी यूनियन वर्ल्ड कप'),\n",
       " ('amalatas', 'अमलतास'),\n",
       " ('varuna', 'वरुणा'),\n",
       " ('achaleshvara', 'अचलेश्वर'),\n",
       " ('cadi', 'कैडी'),\n",
       " ('giriraaj', 'गिरिराज'),\n",
       " ('khan dost', 'खान दोस्त'),\n",
       " ('shikwa', 'शिकवा'),\n",
       " ('steve rixon', 'स्टीव रिक्सन'),\n",
       " ('areeb', 'अरीब'),\n",
       " ('dabtara', 'दबतारा'),\n",
       " ('chennai', 'चेन्नई'),\n",
       " ('centrica', 'सेन्ट्रिका'),\n",
       " ('tilbury fort', 'टिल्बरी फोर्ट'),\n",
       " ('walihah', 'वलीहाह'),\n",
       " ('garewal', 'गरेवाल'),\n",
       " ('vaapikaa', 'वापिका'),\n",
       " ('dakor', 'दाकोर'),\n",
       " ('anitaa', 'अनिता'),\n",
       " ('dharuna', 'धरुणा'),\n",
       " ('gunah', 'गुनाह'),\n",
       " ('abdus shafi', 'अब्दुस शफी'),\n",
       " ('deepabali', 'दीपाबाली'),\n",
       " ('major', 'मेजर'),\n",
       " ('jugnu', 'जुगनू'),\n",
       " ('hind constr', 'हिंद कंसट्रक्शन'),\n",
       " ('kyonjhar', 'क्योंझर'),\n",
       " ('murde ki jaan khatre main', 'मुर्दे की जान खतरे में'),\n",
       " ('philadelphia', 'फिलाडेल्फ़िया'),\n",
       " ('ewa', 'इवा'),\n",
       " ('cofco', 'कोफ़्को'),\n",
       " ('saadat', 'सादात'),\n",
       " ('edakkad', 'इदाक्क्ड़'),\n",
       " ('phoolon ki sej', 'फूलों की सेज'),\n",
       " ('ajit', 'अजित'),\n",
       " ('aafiya', 'आफिया'),\n",
       " ('vivendi universal', 'विवेंदी यूनिवर्सल'),\n",
       " ('brijmohan', 'बृजमोहन'),\n",
       " ('steffi', 'स्टेफी'),\n",
       " ('uday', 'उदय'),\n",
       " ('aruna asif ali', 'अरूणा आसफ अली'),\n",
       " ('jenaya', 'जेनेया'),\n",
       " ('coralie', 'कोरेली'),\n",
       " ('ratowal', 'रतोवाल'),\n",
       " ('dhindhora', 'ढिंढ़ोरा'),\n",
       " ('sharadini', 'शारदिनी'),\n",
       " ('bhinwaliya', 'भिनवालिया'),\n",
       " ('david brain', 'डेविड ब्रेन'),\n",
       " ('triparna', 'त्रिपर्णा'),\n",
       " ('chyna', 'चायना'),\n",
       " ('gautamee', 'गौतमी'),\n",
       " ('ananya', 'अनन्य'),\n",
       " ('model english school, dombivli', 'मॉडेल इंग्लिश स्कूल, डोम्बिवली\\u200d'),\n",
       " ('satin', 'सैटिन'),\n",
       " ('ceragon networks', 'सेरागॉन नेटवर्क्स'),\n",
       " ('qabool', 'क़बूल'),\n",
       " ('vishalakshi', 'विशालाक्षी'),\n",
       " ('piyali', 'पियाली'),\n",
       " ('angamali', 'अंगमाली'),\n",
       " ('el potosi', 'इल पोतोसी'),\n",
       " ('kris srikkanth', 'क्रिस श्रीकांत'),\n",
       " ('raidah', 'रैदाह'),\n",
       " ('karah', 'कैराह'),\n",
       " ('vachan', 'वचन'),\n",
       " ('luciano', 'ल्युसिआनो'),\n",
       " ('nimat', 'निमत'),\n",
       " ('gangadutt', 'गंगादत्त'),\n",
       " ('ajanti', 'अजंती'),\n",
       " ('anantapur', 'अन्नतपुर'),\n",
       " ('awara baap', 'आवारा बाप'),\n",
       " ('national order of quebec', 'नेशनल ऑर्डर ऑफ क्यूबेक'),\n",
       " ('ecrins', 'इकरीन्स'),\n",
       " ('bankebihari', 'बांकेबिहारी'),\n",
       " ('sadeed', 'सदीद'),\n",
       " ('gemplus international', 'गेमप्लस इंटरनेशनल'),\n",
       " ('addison', 'एडिसन'),\n",
       " ('kiran bedi', 'किरण बेदी'),\n",
       " ('jaan-e-wafa', 'जान-ए-वफा'),\n",
       " ('hajeeb', 'हजीब'),\n",
       " ('baalee', 'बाली'),\n",
       " ('lokeshvar', 'लोकेश्वर'),\n",
       " ('wood buffalo', 'वूड बफेलो'),\n",
       " ('ajmer junction', 'अजमेर जंक्शन'),\n",
       " ('fort townsend', 'फोर्ट टाउनसेंड'),\n",
       " ('wycliff', 'वायक्लिफ'),\n",
       " ('noor', 'नूर'),\n",
       " ('aayush', 'आयुष'),\n",
       " ('mera muqadar', 'मेरा मुक़द्दर'),\n",
       " ('sidewise', 'साइडवाइज़'),\n",
       " ('thaqib', 'थकीब'),\n",
       " ('howe', 'हॉवे'),\n",
       " ('craig evans', 'क्रेग ईवंस'),\n",
       " ('leopold', 'लियोपोल्ड'),\n",
       " ('chris silverwood', 'क्रिस सिल्वरवुड'),\n",
       " ('dwarkaganj', 'द्वारकागंज'),\n",
       " ('chamoli', 'चमोली'),\n",
       " ('tony', 'टोनी'),\n",
       " ('manuhaar', 'मनुहार'),\n",
       " ('pritha', 'पृथा'),\n",
       " ('fort trumbull', 'फोर्ट ट्रम्बुल'),\n",
       " ('waltz', 'वाल्ट्ज'),\n",
       " ('credit susse', 'क्रेडिट सुसे'),\n",
       " ('rustam', 'रुस्तम'),\n",
       " ('bawarchi', 'बावर्ची'),\n",
       " ('gurbhagat', 'गुरभगत'),\n",
       " ('ann rand', 'एन रैंड'),\n",
       " ('cliff', 'क्लिफ'),\n",
       " ('rangeen kahani', 'रंगीन कहानी'),\n",
       " ('wrestling', 'रेस्लिंग'),\n",
       " ('dorel industries', 'डॉरेल इंडस्ट्रीज'),\n",
       " ('noorjehan', 'नूरजहाँ'),\n",
       " ('baghi sardar', 'बागी सरदार'),\n",
       " ('paaro', 'पारो'),\n",
       " ('shahjahanpur', 'शाहजहाँपुर'),\n",
       " ('eleanor', 'एलिएनर'),\n",
       " ('haneef', 'हनीफ'),\n",
       " ('thakur', 'ठाकुर'),\n",
       " ('damini', 'दामिनी'),\n",
       " ('babugarh', 'बाबूगढ़'),\n",
       " ('kynthia', 'कायंथिया'),\n",
       " ('deepankar', 'दीपंकर'),\n",
       " ('ankush', 'अंकुश'),\n",
       " ('gopika', 'गोपिका'),\n",
       " ('gurudwara santokhsar', 'गुरूद्वारा संतोखसर'),\n",
       " ('quena', 'क्वेना'),\n",
       " ('alastair', 'अलस्टेयर'),\n",
       " ('uditi', 'उदिति'),\n",
       " ('gajre', 'गजरे'),\n",
       " ('naseer malik', 'नसीर मलिक'),\n",
       " ('nam non', 'नॅम नॉन'),\n",
       " ('mesosphere', 'मीसोस्फीयर'),\n",
       " ('kimber', 'किंबर'),\n",
       " ('triveni', 'त्रिवेणी'),\n",
       " ('antalya havalimani', 'अंताल्या हावालीमानी'),\n",
       " ('sanjh savera', 'सांझ सवेरा'),\n",
       " ('okaloosa', 'अकालूसा'),\n",
       " ('abdus subbooh', 'अब्दुस सुब्बूह'),\n",
       " ('avak', 'एवाक'),\n",
       " ('balli', 'बल्ली'),\n",
       " ('punar milan', 'पुनर मिलन'),\n",
       " ('geoff howarth', 'जिऑफ हॉवर्थ'),\n",
       " ('kal kya hoga', 'कल क्या होगा'),\n",
       " ('paraguay', 'पराग्वे'),\n",
       " ('sugandhi', 'सुगंधि'),\n",
       " ('aaj ka yeh ghar', 'आज का यह घर'),\n",
       " ('bade bhaiya', 'बड़े भइया'),\n",
       " ('govindpuri', 'गोविंदपुरी'),\n",
       " ('drafts', 'ड्राफ्ट्\\u200dस'),\n",
       " ('faridah', 'फरीदाह'),\n",
       " ('casper', 'कैस्पर'),\n",
       " ('precision valley corvette museum', 'प्रिस\\u200dिज़न वैली कॉरवेट म्युज़ियम'),\n",
       " ('pitsberg', 'पिट्सबर्ग'),\n",
       " ('aldan', 'एल्डन'),\n",
       " ('vishvaroop', 'विश्वरूप'),\n",
       " ('inspector', 'इंस्पेक्टर'),\n",
       " ('abdur rahaman', 'अब्दुर रहमान'),\n",
       " ('waseefah', 'वज़ीफाह'),\n",
       " ('brazzaville', 'ब्राज़विले'),\n",
       " ('celestyn', 'सेलेस्टीन'),\n",
       " ('nutzotin', 'नुटज़ोटिन'),\n",
       " ('aletha', 'एलेटा'),\n",
       " ('ambrim', 'अम्बरिम'),\n",
       " ('weldon', 'वेल्डन'),\n",
       " ('fort macleod', 'फोर्ट मैकलेयोड'),\n",
       " ('mahira', 'महिरा'),\n",
       " ('ginny', 'जीनी'),\n",
       " ('abha', 'आभा'),\n",
       " ('sabyasachi', 'सब्यसाची'),\n",
       " ('giancarlo', 'गियानकार्लो'),\n",
       " ('nagavathi reservoir', 'नागावथी रिज़रवायर'),\n",
       " ('hampton', 'हैंप्टन'),\n",
       " ('opentv', 'ओपन टीवी'),\n",
       " ('piya milan ki aas', 'पिया मिलन की आस'),\n",
       " ('china', 'चाइना'),\n",
       " ('bodhran', 'बोधरन'),\n",
       " ('grutas de cacahuamilpa', 'ग्रुटस डे काकाहुआमील्पा'),\n",
       " ('watan ke rakhwale', 'वतन के रखवाले'),\n",
       " ('diwali ki raat', 'दिवाली की रात'),\n",
       " ('dhan daulat', 'धन दौलत'),\n",
       " ('franklin d. roosevelt', 'फ्रेंकलिन डी. रूसबेल्ट'),\n",
       " ('jaureguiberry', 'जॉर्ग्यूबैरी'),\n",
       " ('muneeb', 'मुनीब'),\n",
       " ('abdul mujib', 'अब्दुल मुजीब'),\n",
       " ('kenadia', 'केनेडिया'),\n",
       " ('lakshmishree', 'लक्ष्मीश्री'),\n",
       " ('akram', 'अकरम'),\n",
       " ('brazosport', 'ब्राझोस्पोर्ट'),\n",
       " ('chaksu', 'चाकसू'),\n",
       " ('boschbeek fort', 'बॉशबीक फोर्ट'),\n",
       " ('athula samarasekera', 'अथुला समारासेकरा'),\n",
       " ('lokayan', 'लोकायन'),\n",
       " ('verrill', 'वेरिल'),\n",
       " ('bieszczady', 'बिज़क्ज़ाडे'),\n",
       " ('vadvekar', 'वडवेकर'),\n",
       " ('ravikiran', 'रविकिरण'),\n",
       " ('jeetan patel', 'जीतेन पटेल'),\n",
       " ('ryann', 'रियान'),\n",
       " ('genero', 'जेनेरो'),\n",
       " ('darpad', 'दर्पद'),\n",
       " ('dhamkee', 'धमकी'),\n",
       " ('baalamohan', 'बालमोहन'),\n",
       " ('pole vaulting', 'पोल वॉल्टिंग'),\n",
       " ('bhootnath', 'भूतनाथ'),\n",
       " ('deshmukh', 'देशमुख'),\n",
       " ('bachhrawan', 'बछरावन'),\n",
       " ('sarojini naidu', 'सरोजिनी नायडू'),\n",
       " ('inderpreet', 'इन्दरप्रीत'),\n",
       " ('greaves', 'ग्रीव्ज़'),\n",
       " ('posco', 'पॉस्को'),\n",
       " ('fort ross', 'फोर्ट रॉस'),\n",
       " ('bukit tiga puluh', 'बुकिट टिगा पुलुह'),\n",
       " ('municipal gallery of rhodes', 'म्युन\\u200dिस\\u200dिपल गैलरी ऑफ रोड्स'),\n",
       " ('the oriya samaja', 'द ओड़िया समाज'),\n",
       " ('dullo', 'डुल्लो'),\n",
       " ('chip', 'चिप'),\n",
       " ('paum', 'पौम'),\n",
       " ('nripendra', 'नृपेंद्र'),\n",
       " ('aston university', 'ऐस्टन यूनिवर्सिटी'),\n",
       " ('parikshit', 'परीक्षित'),\n",
       " ('alaura', 'एलौरा'),\n",
       " ('dosti', 'दोस्ती'),\n",
       " ('bairaag', 'बैराग'),\n",
       " ('rasul', 'रसूल'),\n",
       " ('polaris', 'पोलरीस'),\n",
       " ('nigel', 'निगेल'),\n",
       " ('united overseas bank plaza', 'यूनाइटेड ओवरसीस बैंक प्लाज़ा'),\n",
       " ('aahwanit', 'आह्वानित'),\n",
       " ('melania', 'मिलेनिया'),\n",
       " ('udaysah', 'उदैसाह'),\n",
       " ('potemkin', 'पॉटेमकिन'),\n",
       " ('ludwig', 'लुडविग'),\n",
       " ('shannon', 'शेन्नॉन'),\n",
       " ('biomira', 'बायोमिरा'),\n",
       " ('aflatoon aurat', 'अफलातून औरत'),\n",
       " ('navratri', 'नवरात्रि'),\n",
       " ('alaina', 'एलैना'),\n",
       " ('fujai', 'फुजाई'),\n",
       " ('haddad', 'हद्दाद'),\n",
       " ('kupwada', 'कुपवाड़ा'),\n",
       " ('yeh pyar nahin', 'ये प्यार नहीं'),\n",
       " ('kerryn', 'केरीन'),\n",
       " ('rajmukut', 'राजमुकुट'),\n",
       " ('niaz and namaz', 'नियाज़ एण्ड नमाज़'),\n",
       " ('hobey baker award', 'होबी बेकर अवार्ड'),\n",
       " ('diphu', 'दिपु'),\n",
       " ('abdur rahmaan', 'अब्दुर रहमान'),\n",
       " ('gurudwara uchh ka peer', 'गुरूद्वारा उच का पीर'),\n",
       " ('nunivak', '\\u200dनूनिवक'),\n",
       " ('sarai ke bahar', 'सराय के बाहर'),\n",
       " ('dil ka raja', 'दिल का राजा'),\n",
       " ('abyssinia', 'एबीसीनिया'),\n",
       " ('saahas', 'साहस'),\n",
       " ('sitka', 'सित्का'),\n",
       " ('hawalat', 'हवालात'),\n",
       " ('angelique', 'एंजेलिका'),\n",
       " ('sumita', 'सुमिता'),\n",
       " ('gurdev', 'गुरदेव'),\n",
       " ('khidki', 'खिड़की'),\n",
       " ('khatavkar', 'खटावकर'),\n",
       " ('ranee', 'रानी'),\n",
       " ('sophia high school', 'सोफिया हाई स्कूल'),\n",
       " ('vivek razdan', 'विवेक राजदान'),\n",
       " ('clive rice', 'क्लाइव राइस'),\n",
       " ('elle', 'एलीन'),\n",
       " ('fort smith', 'फोर्ट स्मिथ'),\n",
       " ('jhalak', 'झलक'),\n",
       " ('pakaraima', 'पाकाराइमा'),\n",
       " ('umika', 'उमिका'),\n",
       " ('primo', 'प्रिमो'),\n",
       " ('sylvana', 'सिल्वेना'),\n",
       " ('dhananjay', 'धनंजय'),\n",
       " ('sunayani', 'सुनयनी'),\n",
       " ('abdul wahid', 'अब्दुल वहीद'),\n",
       " ('rashinkar', 'राशिनकर'),\n",
       " ('saz', 'साज़'),\n",
       " ('kesava', 'केसावा'),\n",
       " ('prague ruzyne', 'प्रग्यु रूज़िन'),\n",
       " ('shaksha', 'शाकशा'),\n",
       " ('belampalli', 'बेलमपाली'),\n",
       " ('lakkhi sarai', 'लक्खी सराय'),\n",
       " ('selena', 'सेलेना'),\n",
       " ('antonie', 'एंटोनी'),\n",
       " ('quintin', 'कुइंतिन'),\n",
       " ('khalisah', 'खलिसाह'),\n",
       " ('bosch chassis', 'बॉश चेसिस'),\n",
       " ('mandakini', 'मन्दाकिनी'),\n",
       " ('dudley', 'डुडली'),\n",
       " ('luxor', 'लक्ज़र'),\n",
       " ('toboggan', 'टोबॉगन'),\n",
       " ('stillman', 'स्टिलमैन'),\n",
       " ('banavaaree', 'बनवारी'),\n",
       " ('michael douglas', 'मिशेल डॉगल्स'),\n",
       " ('anheuser busch', 'एन्ह्यूसर बुश'),\n",
       " ('adair', 'अडायर'),\n",
       " ('aaj ki dhara', 'आज की धारा'),\n",
       " ('angarikaa', 'अंगारिका'),\n",
       " ('glynis', 'ग्लाइनिस'),\n",
       " ('fazalpur', 'फज़लपुर'),\n",
       " ('mediterranean', 'मेडिटेरेनियन'),\n",
       " ('amritap', 'अमृतप'),\n",
       " ('keeratpur', 'कीरतपुर'),\n",
       " ('molybdenum', 'मॉलिब्डेनम'),\n",
       " ('leonard', 'लियोनार्ड'),\n",
       " ('ek nai paheli', 'एक नई पहेली'),\n",
       " ('museum of romani culture', 'म्युज़ियम ऑफ रोमान\\u200dी कल्चर'),\n",
       " ('geetanjali', 'गीतांजलि'),\n",
       " ('layar', 'लायर'),\n",
       " ('pandher', 'पंढ़ेर'),\n",
       " ('tambre', 'टेम्ब्रे'),\n",
       " ('akalgadiya', 'अकालगड़िया'),\n",
       " ('brahmachari', 'ब्रह्मचारी'),\n",
       " ('waverly', 'वेवरलूी'),\n",
       " ('izzat', 'इज़्ज़त'),\n",
       " ('ferris', 'फेरिस'),\n",
       " ('fritzi', 'फ्रिट्जी'),\n",
       " ('chiplunkar', 'चिपलूणकर'),\n",
       " ('laash', 'लाश'),\n",
       " ('kalra', 'कालरा'),\n",
       " ('rujul', 'रुजुल'),\n",
       " ('aldona', 'एल्डोना'),\n",
       " ('roll', 'रॉल'),\n",
       " ('paprika', 'पैप्रिका'),\n",
       " ('colin miller', 'कॉलिन मिलर'),\n",
       " ('groupe auchan', 'ग्रुप ऑचन'),\n",
       " ('castle of viborg', 'कैसल ऑफ विबोर्ग'),\n",
       " ('swaraj', 'स्वराज'),\n",
       " ('dan david prize', 'डैन डेविड प्राइज़'),\n",
       " ('guntakal', 'गुणटकल'),\n",
       " ('saaransh', 'सारांश'),\n",
       " ('lou vincent', 'लोउ विंसेंट'),\n",
       " ('afasaana', 'अफसाना'),\n",
       " ('karate', 'कराटे'),\n",
       " ('chandi sona', 'चाँदी सोना'),\n",
       " ('shere-e-watan', 'शेर-ए-वतन'),\n",
       " ('majitha', 'मजीठा'),\n",
       " ('aaj ka gundaraj', 'आज का गुंडाराज'),\n",
       " ('mashkur', 'मश्कूर'),\n",
       " ('saqlain mushtaq', 'सक्लेन मुश्ताक'),\n",
       " ('new jersey', 'न्यू जर्सी'),\n",
       " ('derol', 'देरोल'),\n",
       " ('narendra hirwani', 'नरेंद्र हिरवानी'),\n",
       " ('mahil', 'माहिल'),\n",
       " ('novartis', 'नोवार्टिस'),\n",
       " ('azhar', 'अज़हर'),\n",
       " ('maalaakaar', 'मालाकार'),\n",
       " ('jahiz', 'जहीज़'),\n",
       " ('dirhams', 'दिरहैम्स'),\n",
       " ('jal bin machali', 'जल बिन मछ्ली'),\n",
       " ('nottingham east midlands', 'नॉटिंगहॅम ईस्ट मिडलैंड्\\u200dस'),\n",
       " ('quinta', 'क्विंटा'),\n",
       " ('jecy james', 'जेसी जेम्स'),\n",
       " ('barfleur', 'बार्फ्लेयर'),\n",
       " ('ectel', 'एक्टेल'),\n",
       " ('silicon', 'सिलिकन'),\n",
       " ('tata infotech', 'टाटा इंफ़ोटेक'),\n",
       " ('manzilen', 'मंज़िलें'),\n",
       " ('monde zondeki', 'मोंडे ज़ोंडेकी'),\n",
       " ('usayd', 'उसैद'),\n",
       " ('himatsingka sei', 'हिमतसिंगका सी'),\n",
       " ('courageous', 'करेजियस'),\n",
       " ('collice', 'कोलिस'),\n",
       " ('josephine', 'जोसफिन'),\n",
       " (\"lu'lu\", \"लु'लु\"),\n",
       " ('keita', 'कीटा'),\n",
       " ('baral', 'बराल'),\n",
       " ('shiksha', 'शिक्षा'),\n",
       " ('davidson', 'डेविडसन'),\n",
       " ('bikaner', 'बीकानेर'),\n",
       " ('star of mysore', 'स्टार ऑफ मैसूर'),\n",
       " ('jungle king', 'जंगल किंग'),\n",
       " ('rafeeqah', 'रफी़काह'),\n",
       " ('hadee', 'हैदी'),\n",
       " ('martin snedden', 'मार्टिन स्नेडन'),\n",
       " ('kunwara badan', 'कुँवारा बदन'),\n",
       " ('nasir', 'नासिर'),\n",
       " ('dalauda', 'दलौदा'),\n",
       " ('fort tregantle', 'फोर्ट ट्रेगैन्टल'),\n",
       " ('binodini', 'बिनोदिनी'),\n",
       " ('chand siau', 'चांद सिओ'),\n",
       " ('sheikh shebeli', 'शेख़ शबेली'),\n",
       " ('kalka', 'काल्का'),\n",
       " ('germaine', 'जर्मेन'),\n",
       " ('fort zachary taylor', 'फोर्ट ज़करी टेलर'),\n",
       " ('lilly', 'लिली'),\n",
       " ('new guinea', 'न्यू गुएना'),\n",
       " ('dagan', 'दगन'),\n",
       " ('rangeen zamana', 'रंगीन ज़माना'),\n",
       " ('jahan khatoon', 'जहान खातून'),\n",
       " ('jaaneman', 'जानेमन'),\n",
       " ('jayadev', 'जयदेव'),\n",
       " ('achandaa', 'अचंदा'),\n",
       " ('lahore', 'लाहौर'),\n",
       " ('nirbhay', 'निर्भय'),\n",
       " ('bilva', 'बिल्व'),\n",
       " ('luxembourg', 'लक्ज़ेम्बर्ग'),\n",
       " ('mar mitenge', 'मर मिटेंगे'),\n",
       " ('julius scissor', 'जुलियस सीजर'),\n",
       " ('abdul munim', 'अब्दुल मुनीम'),\n",
       " ('gurudwara guru ki kaashi', 'गुरूद्वारा गुरू की काशी'),\n",
       " ('paandav', 'पांडव'),\n",
       " ('sasta khoon mehanga pyar', 'सस्ता खून महँगा पानी'),\n",
       " ('bolivia', 'बोलिविया'),\n",
       " ('maut ka toofan', 'मौत का तूफान'),\n",
       " ('snowy', 'स्नोवी'),\n",
       " ('yaqub', 'य़ाकुब'),\n",
       " ('vipin', 'विपिन'),\n",
       " ('dhiya', 'धिया'),\n",
       " ('golden bear', 'गोल्डन बीयर'),\n",
       " ('umashankar joshi', 'उमाशंकर जोशी'),\n",
       " ('japan airlines', 'जपान एयरलाइंस'),\n",
       " ('daal mein kala', 'दाल में काला'),\n",
       " ('prem jaal', 'प्रेम जाल'),\n",
       " ('sri thendayuthapani', 'श्री थेंदयूथपानी'),\n",
       " ('hamburg', 'हैमबर्ग'),\n",
       " ('candida', 'कैंडिडा'),\n",
       " ('air-india', 'एयर-इंडिया'),\n",
       " ('yoginee', 'योगिनी'),\n",
       " ('saajan', 'साजन'),\n",
       " ('viraj', 'विराज'),\n",
       " ('dhyanesh', 'ध्यानेश'),\n",
       " ('hindustan copper', 'हिंदुस्तान कॉपर'),\n",
       " ('amareshwar shiva', 'अमरेश्वर शिव'),\n",
       " ('itochu', 'इतोचु'),\n",
       " ('zakhmi zameen', 'ज़ख्मी ज़मीन'),\n",
       " ('faxon', 'फैक्ज़न'),\n",
       " ('parivar', 'परिवार'),\n",
       " ('farid', 'फरीद'),\n",
       " ('sridharan jeganathan', 'श्रीधरन जगनाथन'),\n",
       " ('chakob', 'चेकोब'),\n",
       " ('swanson', 'स्वैनसन'),\n",
       " ('lima', 'लीमा'),\n",
       " ('kanakpriya', 'कनकप्रिया'),\n",
       " ('chidghan', 'चिद्घन'),\n",
       " ('summerside united methodist', 'समरसाइड यूनाइटेड मेथोडिस्ट'),\n",
       " ('rasheed', 'रशीद'),\n",
       " ('keenan', 'कीनन'),\n",
       " ('andher nagari chapat raja', 'अंधेर नगरी चौपट राजा'),\n",
       " ('cerelia', 'सेरेलिया'),\n",
       " ('habib', 'हबीब'),\n",
       " ('the australian/vogel literary award',\n",
       "  'द ऑस्ट्रेलियन/वोगेल लिट्रेरी अवार्ड'),\n",
       " ('abdul noor', 'अब्दुल नूर'),\n",
       " ('james cagney', 'जेम्स कॅगने'),\n",
       " ('kylene', 'कायलीन'),\n",
       " ('the times of india', 'द टाइम्स ऑफ इंडिया'),\n",
       " ('sword dance', 'स्वॉर्ड डांस'),\n",
       " ('bass strait', 'बास स्ट्रेट'),\n",
       " ('sampada', 'सम्पदा'),\n",
       " ('chamraura', 'चमरौरा'),\n",
       " ('mandan', 'मंडन'),\n",
       " ('budnaseeb', 'बद\\u200dनसीब'),\n",
       " ('maricopa', 'मेरीकोपा'),\n",
       " ('indefatigable', 'इंडिफेटिजेबल'),\n",
       " ('millie', 'मिली'),\n",
       " ('nasrin', 'नसरीन'),\n",
       " ('peter kirsten', 'पीटर किर्स्टन'),\n",
       " ('ivory coast', 'आयवरी कोस्ट'),\n",
       " ('meriwether', 'मेरिवेदर'),\n",
       " ('shatrumardan', 'शत्रुमर्दन'),\n",
       " ('jahazi lutera', 'जहाज़ी लुटेरा'),\n",
       " ('kesharwal', 'केशरवाल'),\n",
       " ('sarasota', 'सारासॉटा'),\n",
       " ('wyoming', 'योमिंग'),\n",
       " ('regis', 'रेगिस'),\n",
       " ('mario', 'मारिओ'),\n",
       " ('sheldon', 'शेल्डन'),\n",
       " ('saagar devataa', 'सागर देवता'),\n",
       " ('lokre', 'लोकरे'),\n",
       " ('sun trust plaza', 'सन ट्रस्ट प्लाज़ा'),\n",
       " ('karishma kali ka', 'करिश्मा कली का'),\n",
       " ('frayne', 'फ्रायन'),\n",
       " ('rahabar', 'रहबर'),\n",
       " ('azaraaq', 'अज़राक'),\n",
       " ('chidambar', 'चिदम्बर'),\n",
       " ('aadmi khilona hai', 'आदमी खिलौना है'),\n",
       " ('baikunthpur', 'बैकुंठपुर'),\n",
       " ('das', 'दास'),\n",
       " ('kawabata yasunari prize', 'कावाबाटा यसुनारी प्राइज़'),\n",
       " ('daisy', 'डेजी'),\n",
       " ('colin stuart', 'कॉलिन स्टुअर्ट'),\n",
       " ('sarminder', 'सरमिंदर'),\n",
       " ('dahina zainabad', 'दाहिना ज़ैनाबाद'),\n",
       " ...]"
      ]
     },
     "execution_count": 32,
     "metadata": {},
     "output_type": "execute_result"
    }
   ],
   "source": [
    "parallel"
   ]
  },
  {
   "cell_type": "code",
   "execution_count": 33,
   "id": "38eb5393",
   "metadata": {},
   "outputs": [],
   "source": [
    "#split data into 95% and 5% for train and validation\n",
    "train_n = int(0.95*N)\n",
    "valid_n = N - train_n"
   ]
  },
  {
   "cell_type": "code",
   "execution_count": 34,
   "id": "5e3327d4",
   "metadata": {},
   "outputs": [],
   "source": [
    "train_pairs = parallel[:train_n].copy()\n",
    "valid_pairs = parallel[train_n:]"
   ]
  },
  {
   "cell_type": "code",
   "execution_count": 35,
   "id": "8e0ae1a0",
   "metadata": {},
   "outputs": [],
   "source": [
    "def small_test():\n",
    "    all_bleu = []\n",
    "    smoothing = nltk.translate.bleu_score.SmoothingFunction().method7\n",
    "    for m in range(0, valid_n, BATCH_SIZE):\n",
    "        # print(f\"Status: {m}/{N}\", end='\\r')\n",
    "        n = m + BATCH_SIZE\n",
    "        if n > valid_n:\n",
    "            break\n",
    "\n",
    "        input_batch = np.zeros((BATCH_SIZE, MAX_SEQ_LEN), dtype=np.int32)\n",
    "        input_lens_batch = np.zeros((BATCH_SIZE,), dtype=np.int32)\n",
    "        for i in range(m, n):\n",
    "            b,a = en_lang.encodeSentence2(valid_pairs[i][0], MAX_SEQ_LEN)\n",
    "            input_batch[i-m,:] = a\n",
    "            input_lens_batch[i-m] = b\n",
    "\n",
    "\n",
    "\n",
    "        feed_dict={\n",
    "            input_ids: input_batch,\n",
    "            input_lens: input_lens_batch,\n",
    "\n",
    "            keep_prob: 1.0\n",
    "        }\n",
    "        pred_batch = sess.run(infer_output[0].sample_id, feed_dict=feed_dict)\n",
    "        for k, pred_ in enumerate(pred_batch):\n",
    "            pred_s = hi_lang.decodeSentence(list(pred_))\n",
    "            ref = valid_pairs[m+k][1]\n",
    "            try:\n",
    "                _bx = nltk.translate.bleu_score.sentence_bleu(\n",
    "                    [ref],\n",
    "                    pred_s,\n",
    "                    weights=[1/4]*4,\n",
    "                    smoothing_function=smoothing)\n",
    "            except ZeroDivisionError:\n",
    "                _bx = 0\n",
    "            all_bleu.append(_bx)\n",
    "\n",
    "    print(f\"BLEU Score: {np.mean(all_bleu)}\")"
   ]
  },
  {
   "cell_type": "code",
   "execution_count": 36,
   "id": "a8905355",
   "metadata": {},
   "outputs": [
    {
     "name": "stderr",
     "output_type": "stream",
     "text": [
      "c:\\users\\nain\\appdata\\local\\programs\\python\\python36\\lib\\site-packages\\ipykernel_launcher.py:4: TqdmDeprecationWarning: This function will be removed in tqdm==5.0.0\n",
      "Please use `tqdm.notebook.tqdm` instead of `tqdm.tqdm_notebook`\n",
      "  after removing the cwd from sys.path.\n"
     ]
    },
    {
     "data": {
      "application/vnd.jupyter.widget-view+json": {
       "model_id": "daef44c8fd8947c2ad7f8520590d2e2b",
       "version_major": 2,
       "version_minor": 0
      },
      "text/plain": [
       "  0%|          | 0/207 [00:00<?, ?it/s]"
      ]
     },
     "metadata": {},
     "output_type": "display_data"
    },
    {
     "name": "stdout",
     "output_type": "stream",
     "text": [
      "BLEU Score: 0.021706666905198967\n",
      "BLEU Score: 0.04320409049441479\n"
     ]
    },
    {
     "data": {
      "application/vnd.jupyter.widget-view+json": {
       "model_id": "a0ddf32f81654d18a09069fb1dbd0c8c",
       "version_major": 2,
       "version_minor": 0
      },
      "text/plain": [
       "  0%|          | 0/207 [00:00<?, ?it/s]"
      ]
     },
     "metadata": {},
     "output_type": "display_data"
    },
    {
     "name": "stdout",
     "output_type": "stream",
     "text": [
      "BLEU Score: 0.06043606218612607\n",
      "BLEU Score: 0.0764802138606902\n"
     ]
    },
    {
     "data": {
      "application/vnd.jupyter.widget-view+json": {
       "model_id": "997f2d917a114582a0d1c4c4bec9a968",
       "version_major": 2,
       "version_minor": 0
      },
      "text/plain": [
       "  0%|          | 0/207 [00:00<?, ?it/s]"
      ]
     },
     "metadata": {},
     "output_type": "display_data"
    },
    {
     "name": "stdout",
     "output_type": "stream",
     "text": [
      "BLEU Score: 0.09601003604361098\n",
      "BLEU Score: 0.10447079319702508\n"
     ]
    },
    {
     "data": {
      "application/vnd.jupyter.widget-view+json": {
       "model_id": "23aefcd4d558450cb316e976eea43b99",
       "version_major": 2,
       "version_minor": 0
      },
      "text/plain": [
       "  0%|          | 0/207 [00:00<?, ?it/s]"
      ]
     },
     "metadata": {},
     "output_type": "display_data"
    },
    {
     "name": "stdout",
     "output_type": "stream",
     "text": [
      "BLEU Score: 0.11630330336657144\n",
      "BLEU Score: 0.1250719502413918\n"
     ]
    },
    {
     "data": {
      "application/vnd.jupyter.widget-view+json": {
       "model_id": "a6f34b11ad2b47f58135d00b1e42b126",
       "version_major": 2,
       "version_minor": 0
      },
      "text/plain": [
       "  0%|          | 0/207 [00:00<?, ?it/s]"
      ]
     },
     "metadata": {},
     "output_type": "display_data"
    },
    {
     "name": "stdout",
     "output_type": "stream",
     "text": [
      "BLEU Score: 0.13610636374585697\n",
      "BLEU Score: 0.1413802502702629\n"
     ]
    },
    {
     "data": {
      "application/vnd.jupyter.widget-view+json": {
       "model_id": "a7b41d011c5e43ebb0f3a230fb7f3800",
       "version_major": 2,
       "version_minor": 0
      },
      "text/plain": [
       "  0%|          | 0/207 [00:00<?, ?it/s]"
      ]
     },
     "metadata": {},
     "output_type": "display_data"
    },
    {
     "name": "stdout",
     "output_type": "stream",
     "text": [
      "BLEU Score: 0.14461334565150757\n",
      "BLEU Score: 0.14779052464792564\n"
     ]
    },
    {
     "data": {
      "application/vnd.jupyter.widget-view+json": {
       "model_id": "380a96013b7b41e88cfe635a9040b043",
       "version_major": 2,
       "version_minor": 0
      },
      "text/plain": [
       "  0%|          | 0/207 [00:00<?, ?it/s]"
      ]
     },
     "metadata": {},
     "output_type": "display_data"
    },
    {
     "name": "stdout",
     "output_type": "stream",
     "text": [
      "BLEU Score: 0.1500913277993179\n",
      "BLEU Score: 0.15510312501545084\n"
     ]
    },
    {
     "data": {
      "application/vnd.jupyter.widget-view+json": {
       "model_id": "0c43f49f7f794245af3338c5e525a7d5",
       "version_major": 2,
       "version_minor": 0
      },
      "text/plain": [
       "  0%|          | 0/207 [00:00<?, ?it/s]"
      ]
     },
     "metadata": {},
     "output_type": "display_data"
    },
    {
     "name": "stdout",
     "output_type": "stream",
     "text": [
      "BLEU Score: 0.15214905756174782\n",
      "BLEU Score: 0.15379650707184736\n"
     ]
    },
    {
     "data": {
      "application/vnd.jupyter.widget-view+json": {
       "model_id": "2733cab2d07345b1935afbdf87af3db3",
       "version_major": 2,
       "version_minor": 0
      },
      "text/plain": [
       "  0%|          | 0/207 [00:00<?, ?it/s]"
      ]
     },
     "metadata": {},
     "output_type": "display_data"
    },
    {
     "name": "stdout",
     "output_type": "stream",
     "text": [
      "BLEU Score: 0.1565878662509907\n",
      "BLEU Score: 0.16093592042895744\n"
     ]
    },
    {
     "data": {
      "application/vnd.jupyter.widget-view+json": {
       "model_id": "82d080dc1d0a42039b2389b30aa4ccc2",
       "version_major": 2,
       "version_minor": 0
      },
      "text/plain": [
       "  0%|          | 0/207 [00:00<?, ?it/s]"
      ]
     },
     "metadata": {},
     "output_type": "display_data"
    },
    {
     "name": "stdout",
     "output_type": "stream",
     "text": [
      "BLEU Score: 0.161006428728881\n",
      "BLEU Score: 0.16398295795250406\n"
     ]
    },
    {
     "data": {
      "application/vnd.jupyter.widget-view+json": {
       "model_id": "cadee0fe39e34a84b274bd77befa449a",
       "version_major": 2,
       "version_minor": 0
      },
      "text/plain": [
       "  0%|          | 0/207 [00:00<?, ?it/s]"
      ]
     },
     "metadata": {},
     "output_type": "display_data"
    },
    {
     "name": "stdout",
     "output_type": "stream",
     "text": [
      "BLEU Score: 0.16820424615061333\n",
      "BLEU Score: 0.16565966331026166\n"
     ]
    },
    {
     "data": {
      "application/vnd.jupyter.widget-view+json": {
       "model_id": "150b9178845f453290380e7954b8dd4d",
       "version_major": 2,
       "version_minor": 0
      },
      "text/plain": [
       "  0%|          | 0/207 [00:00<?, ?it/s]"
      ]
     },
     "metadata": {},
     "output_type": "display_data"
    },
    {
     "name": "stdout",
     "output_type": "stream",
     "text": [
      "BLEU Score: 0.16761414335008357\n",
      "BLEU Score: 0.17023571835992612\n"
     ]
    },
    {
     "data": {
      "application/vnd.jupyter.widget-view+json": {
       "model_id": "eecd0c487487419a89123a84b1caf6ae",
       "version_major": 2,
       "version_minor": 0
      },
      "text/plain": [
       "  0%|          | 0/207 [00:00<?, ?it/s]"
      ]
     },
     "metadata": {},
     "output_type": "display_data"
    },
    {
     "name": "stdout",
     "output_type": "stream",
     "text": [
      "BLEU Score: 0.1699734980691659\n",
      "BLEU Score: 0.1720869564264645\n"
     ]
    },
    {
     "data": {
      "application/vnd.jupyter.widget-view+json": {
       "model_id": "cf49580bcad9455a8d57652b4d10a29a",
       "version_major": 2,
       "version_minor": 0
      },
      "text/plain": [
       "  0%|          | 0/207 [00:00<?, ?it/s]"
      ]
     },
     "metadata": {},
     "output_type": "display_data"
    },
    {
     "name": "stdout",
     "output_type": "stream",
     "text": [
      "BLEU Score: 0.1717775868158697\n",
      "BLEU Score: 0.17391708061562355\n"
     ]
    },
    {
     "data": {
      "application/vnd.jupyter.widget-view+json": {
       "model_id": "7200e239657f476aab1e685e8fe6465d",
       "version_major": 2,
       "version_minor": 0
      },
      "text/plain": [
       "  0%|          | 0/207 [00:00<?, ?it/s]"
      ]
     },
     "metadata": {},
     "output_type": "display_data"
    },
    {
     "name": "stdout",
     "output_type": "stream",
     "text": [
      "BLEU Score: 0.1767016983859074\n",
      "BLEU Score: 0.17805138867676867\n"
     ]
    },
    {
     "data": {
      "application/vnd.jupyter.widget-view+json": {
       "model_id": "e7a3424610e2430ca0a6d82b8971cd04",
       "version_major": 2,
       "version_minor": 0
      },
      "text/plain": [
       "  0%|          | 0/207 [00:00<?, ?it/s]"
      ]
     },
     "metadata": {},
     "output_type": "display_data"
    },
    {
     "name": "stdout",
     "output_type": "stream",
     "text": [
      "BLEU Score: 0.18286657734889578\n",
      "BLEU Score: 0.18290757710208919\n"
     ]
    },
    {
     "data": {
      "application/vnd.jupyter.widget-view+json": {
       "model_id": "1e2a86f4cbf94f80866821a6bd0b4bf8",
       "version_major": 2,
       "version_minor": 0
      },
      "text/plain": [
       "  0%|          | 0/207 [00:00<?, ?it/s]"
      ]
     },
     "metadata": {},
     "output_type": "display_data"
    },
    {
     "name": "stdout",
     "output_type": "stream",
     "text": [
      "BLEU Score: 0.18300130580857615\n",
      "BLEU Score: 0.18652205249289727\n"
     ]
    },
    {
     "data": {
      "application/vnd.jupyter.widget-view+json": {
       "model_id": "01a619de4ec540ef873f5a64a92e4439",
       "version_major": 2,
       "version_minor": 0
      },
      "text/plain": [
       "  0%|          | 0/207 [00:00<?, ?it/s]"
      ]
     },
     "metadata": {},
     "output_type": "display_data"
    },
    {
     "name": "stdout",
     "output_type": "stream",
     "text": [
      "BLEU Score: 0.1882051453127204\n",
      "BLEU Score: 0.18636216648745854\n"
     ]
    },
    {
     "data": {
      "application/vnd.jupyter.widget-view+json": {
       "model_id": "56a1e97dd4bf409c86d2491e90f9c7f0",
       "version_major": 2,
       "version_minor": 0
      },
      "text/plain": [
       "  0%|          | 0/207 [00:00<?, ?it/s]"
      ]
     },
     "metadata": {},
     "output_type": "display_data"
    },
    {
     "name": "stdout",
     "output_type": "stream",
     "text": [
      "BLEU Score: 0.1917874058828584\n",
      "BLEU Score: 0.19503536893934337\n"
     ]
    },
    {
     "data": {
      "application/vnd.jupyter.widget-view+json": {
       "model_id": "35bb68de50e9489381a99793eca62c46",
       "version_major": 2,
       "version_minor": 0
      },
      "text/plain": [
       "  0%|          | 0/207 [00:00<?, ?it/s]"
      ]
     },
     "metadata": {},
     "output_type": "display_data"
    },
    {
     "name": "stdout",
     "output_type": "stream",
     "text": [
      "BLEU Score: 0.19419012524769055\n",
      "BLEU Score: 0.19671310501756115\n"
     ]
    },
    {
     "data": {
      "application/vnd.jupyter.widget-view+json": {
       "model_id": "4cffba6ebbda4a438cfa3f6dd5ea2859",
       "version_major": 2,
       "version_minor": 0
      },
      "text/plain": [
       "  0%|          | 0/207 [00:00<?, ?it/s]"
      ]
     },
     "metadata": {},
     "output_type": "display_data"
    },
    {
     "name": "stdout",
     "output_type": "stream",
     "text": [
      "BLEU Score: 0.2011052358379025\n",
      "BLEU Score: 0.20058655106593423\n"
     ]
    },
    {
     "data": {
      "application/vnd.jupyter.widget-view+json": {
       "model_id": "606f25e8b0b5489ba71587527214ec83",
       "version_major": 2,
       "version_minor": 0
      },
      "text/plain": [
       "  0%|          | 0/207 [00:00<?, ?it/s]"
      ]
     },
     "metadata": {},
     "output_type": "display_data"
    },
    {
     "name": "stdout",
     "output_type": "stream",
     "text": [
      "BLEU Score: 0.20464724156609537\n",
      "BLEU Score: 0.20718661770093433\n"
     ]
    },
    {
     "data": {
      "application/vnd.jupyter.widget-view+json": {
       "model_id": "70f447559f9144f589049a191acb14fc",
       "version_major": 2,
       "version_minor": 0
      },
      "text/plain": [
       "  0%|          | 0/207 [00:00<?, ?it/s]"
      ]
     },
     "metadata": {},
     "output_type": "display_data"
    },
    {
     "name": "stdout",
     "output_type": "stream",
     "text": [
      "BLEU Score: 0.20814014038459408\n",
      "BLEU Score: 0.20836174693658155\n"
     ]
    },
    {
     "data": {
      "application/vnd.jupyter.widget-view+json": {
       "model_id": "3f05489b8be548f2b78999aedd6eb1a0",
       "version_major": 2,
       "version_minor": 0
      },
      "text/plain": [
       "  0%|          | 0/207 [00:00<?, ?it/s]"
      ]
     },
     "metadata": {},
     "output_type": "display_data"
    },
    {
     "name": "stdout",
     "output_type": "stream",
     "text": [
      "BLEU Score: 0.2100935420929318\n",
      "BLEU Score: 0.2105784498893959\n"
     ]
    },
    {
     "data": {
      "application/vnd.jupyter.widget-view+json": {
       "model_id": "6eab04d1fbc0427393c19a6336ba0a21",
       "version_major": 2,
       "version_minor": 0
      },
      "text/plain": [
       "  0%|          | 0/207 [00:00<?, ?it/s]"
      ]
     },
     "metadata": {},
     "output_type": "display_data"
    },
    {
     "name": "stdout",
     "output_type": "stream",
     "text": [
      "BLEU Score: 0.2144042456246252\n",
      "BLEU Score: 0.21643737100128896\n"
     ]
    },
    {
     "data": {
      "application/vnd.jupyter.widget-view+json": {
       "model_id": "8230f8f764c84aa09c5e651f261ef4d2",
       "version_major": 2,
       "version_minor": 0
      },
      "text/plain": [
       "  0%|          | 0/207 [00:00<?, ?it/s]"
      ]
     },
     "metadata": {},
     "output_type": "display_data"
    },
    {
     "name": "stdout",
     "output_type": "stream",
     "text": [
      "BLEU Score: 0.21869978462061837\n",
      "BLEU Score: 0.22458734998658691\n"
     ]
    },
    {
     "data": {
      "application/vnd.jupyter.widget-view+json": {
       "model_id": "dbdc6a74ee9f4abb82493628c621bf50",
       "version_major": 2,
       "version_minor": 0
      },
      "text/plain": [
       "  0%|          | 0/207 [00:00<?, ?it/s]"
      ]
     },
     "metadata": {},
     "output_type": "display_data"
    },
    {
     "name": "stdout",
     "output_type": "stream",
     "text": [
      "BLEU Score: 0.22055920468826593\n",
      "BLEU Score: 0.2236090977098578\n"
     ]
    },
    {
     "data": {
      "application/vnd.jupyter.widget-view+json": {
       "model_id": "e9c0689d29794ac39c92dfa35b8a37a1",
       "version_major": 2,
       "version_minor": 0
      },
      "text/plain": [
       "  0%|          | 0/207 [00:00<?, ?it/s]"
      ]
     },
     "metadata": {},
     "output_type": "display_data"
    },
    {
     "name": "stdout",
     "output_type": "stream",
     "text": [
      "BLEU Score: 0.22162603218521423\n",
      "BLEU Score: 0.22527480319377516\n"
     ]
    },
    {
     "data": {
      "application/vnd.jupyter.widget-view+json": {
       "model_id": "370eb2c7f5264533834d673c1a02cac5",
       "version_major": 2,
       "version_minor": 0
      },
      "text/plain": [
       "  0%|          | 0/207 [00:00<?, ?it/s]"
      ]
     },
     "metadata": {},
     "output_type": "display_data"
    },
    {
     "name": "stdout",
     "output_type": "stream",
     "text": [
      "BLEU Score: 0.22450044320044124\n",
      "BLEU Score: 0.22709108915344506\n"
     ]
    },
    {
     "data": {
      "application/vnd.jupyter.widget-view+json": {
       "model_id": "d79303356c9a407c80f3566874c2921d",
       "version_major": 2,
       "version_minor": 0
      },
      "text/plain": [
       "  0%|          | 0/207 [00:00<?, ?it/s]"
      ]
     },
     "metadata": {},
     "output_type": "display_data"
    },
    {
     "name": "stdout",
     "output_type": "stream",
     "text": [
      "BLEU Score: 0.23025586720484253\n",
      "BLEU Score: 0.23101556649309987\n"
     ]
    },
    {
     "data": {
      "application/vnd.jupyter.widget-view+json": {
       "model_id": "fdbae74b638e4f16b122ecbcf53be092",
       "version_major": 2,
       "version_minor": 0
      },
      "text/plain": [
       "  0%|          | 0/207 [00:00<?, ?it/s]"
      ]
     },
     "metadata": {},
     "output_type": "display_data"
    },
    {
     "name": "stdout",
     "output_type": "stream",
     "text": [
      "BLEU Score: 0.23242908957616795\n",
      "BLEU Score: 0.2312318705576959\n"
     ]
    },
    {
     "data": {
      "application/vnd.jupyter.widget-view+json": {
       "model_id": "c2cc81ecc06c48298ece1c46b607fd1c",
       "version_major": 2,
       "version_minor": 0
      },
      "text/plain": [
       "  0%|          | 0/207 [00:00<?, ?it/s]"
      ]
     },
     "metadata": {},
     "output_type": "display_data"
    },
    {
     "name": "stdout",
     "output_type": "stream",
     "text": [
      "BLEU Score: 0.23647187919942203\n",
      "BLEU Score: 0.2370191088383442\n"
     ]
    },
    {
     "data": {
      "application/vnd.jupyter.widget-view+json": {
       "model_id": "b19a925cb2eb4713a177b2a3efca5984",
       "version_major": 2,
       "version_minor": 0
      },
      "text/plain": [
       "  0%|          | 0/207 [00:00<?, ?it/s]"
      ]
     },
     "metadata": {},
     "output_type": "display_data"
    },
    {
     "name": "stdout",
     "output_type": "stream",
     "text": [
      "BLEU Score: 0.23806422891317314\n",
      "BLEU Score: 0.24323422593140714\n"
     ]
    },
    {
     "data": {
      "application/vnd.jupyter.widget-view+json": {
       "model_id": "3de66ef2162b48349cde9b642432ffe3",
       "version_major": 2,
       "version_minor": 0
      },
      "text/plain": [
       "  0%|          | 0/207 [00:00<?, ?it/s]"
      ]
     },
     "metadata": {},
     "output_type": "display_data"
    },
    {
     "name": "stdout",
     "output_type": "stream",
     "text": [
      "BLEU Score: 0.24215293731832785\n",
      "BLEU Score: 0.24204630547042685\n"
     ]
    },
    {
     "data": {
      "application/vnd.jupyter.widget-view+json": {
       "model_id": "2cbd8a5b3e3647d08b0dac4b68d2327d",
       "version_major": 2,
       "version_minor": 0
      },
      "text/plain": [
       "  0%|          | 0/207 [00:00<?, ?it/s]"
      ]
     },
     "metadata": {},
     "output_type": "display_data"
    },
    {
     "name": "stdout",
     "output_type": "stream",
     "text": [
      "BLEU Score: 0.24501978962564977\n",
      "BLEU Score: 0.25073770991705424\n"
     ]
    },
    {
     "data": {
      "application/vnd.jupyter.widget-view+json": {
       "model_id": "c06915907b9b477ca87132838b627b9f",
       "version_major": 2,
       "version_minor": 0
      },
      "text/plain": [
       "  0%|          | 0/207 [00:00<?, ?it/s]"
      ]
     },
     "metadata": {},
     "output_type": "display_data"
    },
    {
     "name": "stdout",
     "output_type": "stream",
     "text": [
      "BLEU Score: 0.25267149581930515\n",
      "BLEU Score: 0.25347649647421655\n"
     ]
    },
    {
     "data": {
      "application/vnd.jupyter.widget-view+json": {
       "model_id": "d4b322569f634c2bb842db2f78fbe409",
       "version_major": 2,
       "version_minor": 0
      },
      "text/plain": [
       "  0%|          | 0/207 [00:00<?, ?it/s]"
      ]
     },
     "metadata": {},
     "output_type": "display_data"
    },
    {
     "name": "stdout",
     "output_type": "stream",
     "text": [
      "BLEU Score: 0.2558744381660728\n",
      "BLEU Score: 0.2585370420501788\n"
     ]
    },
    {
     "data": {
      "application/vnd.jupyter.widget-view+json": {
       "model_id": "d922e3282d2346b68682946d2a1a7e5a",
       "version_major": 2,
       "version_minor": 0
      },
      "text/plain": [
       "  0%|          | 0/207 [00:00<?, ?it/s]"
      ]
     },
     "metadata": {},
     "output_type": "display_data"
    },
    {
     "name": "stdout",
     "output_type": "stream",
     "text": [
      "BLEU Score: 0.2588078732040781\n",
      "BLEU Score: 0.25913253216816656\n"
     ]
    },
    {
     "data": {
      "application/vnd.jupyter.widget-view+json": {
       "model_id": "d712d8d6458b4d68896a91299cb8d32b",
       "version_major": 2,
       "version_minor": 0
      },
      "text/plain": [
       "  0%|          | 0/207 [00:00<?, ?it/s]"
      ]
     },
     "metadata": {},
     "output_type": "display_data"
    },
    {
     "name": "stdout",
     "output_type": "stream",
     "text": [
      "BLEU Score: 0.2596390872993237\n",
      "BLEU Score: 0.2584774166889593\n"
     ]
    },
    {
     "data": {
      "application/vnd.jupyter.widget-view+json": {
       "model_id": "e675ae5c0c9e46059a67a8a66438ff78",
       "version_major": 2,
       "version_minor": 0
      },
      "text/plain": [
       "  0%|          | 0/207 [00:00<?, ?it/s]"
      ]
     },
     "metadata": {},
     "output_type": "display_data"
    },
    {
     "name": "stdout",
     "output_type": "stream",
     "text": [
      "BLEU Score: 0.26409222110631764\n",
      "BLEU Score: 0.262350692514064\n"
     ]
    },
    {
     "data": {
      "application/vnd.jupyter.widget-view+json": {
       "model_id": "e913454da6e0467e8c8fe048c4f0f664",
       "version_major": 2,
       "version_minor": 0
      },
      "text/plain": [
       "  0%|          | 0/207 [00:00<?, ?it/s]"
      ]
     },
     "metadata": {},
     "output_type": "display_data"
    },
    {
     "name": "stdout",
     "output_type": "stream",
     "text": [
      "BLEU Score: 0.266562412582603\n",
      "BLEU Score: 0.2663863629898383\n"
     ]
    },
    {
     "data": {
      "application/vnd.jupyter.widget-view+json": {
       "model_id": "a9384963679f4d30b96015f4cc5a25ce",
       "version_major": 2,
       "version_minor": 0
      },
      "text/plain": [
       "  0%|          | 0/207 [00:00<?, ?it/s]"
      ]
     },
     "metadata": {},
     "output_type": "display_data"
    },
    {
     "name": "stdout",
     "output_type": "stream",
     "text": [
      "BLEU Score: 0.266435478482048\n",
      "BLEU Score: 0.2651700253018155\n"
     ]
    },
    {
     "data": {
      "application/vnd.jupyter.widget-view+json": {
       "model_id": "a569aada2c4f408b938ad86613070856",
       "version_major": 2,
       "version_minor": 0
      },
      "text/plain": [
       "  0%|          | 0/207 [00:00<?, ?it/s]"
      ]
     },
     "metadata": {},
     "output_type": "display_data"
    },
    {
     "name": "stdout",
     "output_type": "stream",
     "text": [
      "BLEU Score: 0.26797849937465346\n",
      "BLEU Score: 0.2688549648661498\n"
     ]
    },
    {
     "data": {
      "application/vnd.jupyter.widget-view+json": {
       "model_id": "7c2cddbf381f4fb5acff79e35e7d121b",
       "version_major": 2,
       "version_minor": 0
      },
      "text/plain": [
       "  0%|          | 0/207 [00:00<?, ?it/s]"
      ]
     },
     "metadata": {},
     "output_type": "display_data"
    },
    {
     "name": "stdout",
     "output_type": "stream",
     "text": [
      "BLEU Score: 0.27400230861333486\n",
      "BLEU Score: 0.2758221388031269\n"
     ]
    },
    {
     "data": {
      "application/vnd.jupyter.widget-view+json": {
       "model_id": "3382f664e47942cea7e18387d601e6a6",
       "version_major": 2,
       "version_minor": 0
      },
      "text/plain": [
       "  0%|          | 0/207 [00:00<?, ?it/s]"
      ]
     },
     "metadata": {},
     "output_type": "display_data"
    },
    {
     "name": "stdout",
     "output_type": "stream",
     "text": [
      "BLEU Score: 0.27448927896818687\n",
      "BLEU Score: 0.27866342066826155\n"
     ]
    },
    {
     "data": {
      "application/vnd.jupyter.widget-view+json": {
       "model_id": "18741d0222b24d4e86f70b583444147c",
       "version_major": 2,
       "version_minor": 0
      },
      "text/plain": [
       "  0%|          | 0/207 [00:00<?, ?it/s]"
      ]
     },
     "metadata": {},
     "output_type": "display_data"
    },
    {
     "name": "stdout",
     "output_type": "stream",
     "text": [
      "BLEU Score: 0.2777300638255914\n",
      "BLEU Score: 0.2836101265227099\n"
     ]
    },
    {
     "data": {
      "application/vnd.jupyter.widget-view+json": {
       "model_id": "cdeceedfb1c940f987db3bb155d0b210",
       "version_major": 2,
       "version_minor": 0
      },
      "text/plain": [
       "  0%|          | 0/207 [00:00<?, ?it/s]"
      ]
     },
     "metadata": {},
     "output_type": "display_data"
    },
    {
     "name": "stdout",
     "output_type": "stream",
     "text": [
      "BLEU Score: 0.2830895352562771\n",
      "BLEU Score: 0.2860030088909893\n"
     ]
    },
    {
     "data": {
      "application/vnd.jupyter.widget-view+json": {
       "model_id": "3fafbc4e307c44749d64fa9342d3a1d7",
       "version_major": 2,
       "version_minor": 0
      },
      "text/plain": [
       "  0%|          | 0/207 [00:00<?, ?it/s]"
      ]
     },
     "metadata": {},
     "output_type": "display_data"
    },
    {
     "name": "stdout",
     "output_type": "stream",
     "text": [
      "BLEU Score: 0.29002125118087296\n",
      "BLEU Score: 0.29248068003608924\n"
     ]
    },
    {
     "data": {
      "application/vnd.jupyter.widget-view+json": {
       "model_id": "4fb85a84916c4e94b1a9f86440c4478e",
       "version_major": 2,
       "version_minor": 0
      },
      "text/plain": [
       "  0%|          | 0/207 [00:00<?, ?it/s]"
      ]
     },
     "metadata": {},
     "output_type": "display_data"
    },
    {
     "name": "stdout",
     "output_type": "stream",
     "text": [
      "BLEU Score: 0.2985585256814463\n",
      "BLEU Score: 0.2972867411003123\n"
     ]
    },
    {
     "data": {
      "application/vnd.jupyter.widget-view+json": {
       "model_id": "d936f8bc16fb48e184e58523185aab02",
       "version_major": 2,
       "version_minor": 0
      },
      "text/plain": [
       "  0%|          | 0/207 [00:00<?, ?it/s]"
      ]
     },
     "metadata": {},
     "output_type": "display_data"
    },
    {
     "name": "stdout",
     "output_type": "stream",
     "text": [
      "BLEU Score: 0.302313307931798\n",
      "BLEU Score: 0.3007713691495085\n"
     ]
    },
    {
     "data": {
      "application/vnd.jupyter.widget-view+json": {
       "model_id": "622dbdba56e44ee3a9c2e7d5980b7f7b",
       "version_major": 2,
       "version_minor": 0
      },
      "text/plain": [
       "  0%|          | 0/207 [00:00<?, ?it/s]"
      ]
     },
     "metadata": {},
     "output_type": "display_data"
    },
    {
     "name": "stdout",
     "output_type": "stream",
     "text": [
      "BLEU Score: 0.2983963736768619\n",
      "BLEU Score: 0.30515656434083394\n"
     ]
    },
    {
     "data": {
      "application/vnd.jupyter.widget-view+json": {
       "model_id": "06be6af394c843039ccc842a2a3773fd",
       "version_major": 2,
       "version_minor": 0
      },
      "text/plain": [
       "  0%|          | 0/207 [00:00<?, ?it/s]"
      ]
     },
     "metadata": {},
     "output_type": "display_data"
    },
    {
     "name": "stdout",
     "output_type": "stream",
     "text": [
      "BLEU Score: 0.3041005935031027\n",
      "BLEU Score: 0.31402757237942425\n"
     ]
    },
    {
     "data": {
      "application/vnd.jupyter.widget-view+json": {
       "model_id": "b7b6cc11d48c4937a8b7aec9de1bbc12",
       "version_major": 2,
       "version_minor": 0
      },
      "text/plain": [
       "  0%|          | 0/207 [00:00<?, ?it/s]"
      ]
     },
     "metadata": {},
     "output_type": "display_data"
    },
    {
     "name": "stdout",
     "output_type": "stream",
     "text": [
      "BLEU Score: 0.31135351660175453\n",
      "BLEU Score: 0.3117235302835101\n"
     ]
    },
    {
     "data": {
      "application/vnd.jupyter.widget-view+json": {
       "model_id": "ba1e768fe99b4ca98712c69d35276a17",
       "version_major": 2,
       "version_minor": 0
      },
      "text/plain": [
       "  0%|          | 0/207 [00:00<?, ?it/s]"
      ]
     },
     "metadata": {},
     "output_type": "display_data"
    },
    {
     "name": "stdout",
     "output_type": "stream",
     "text": [
      "BLEU Score: 0.311532428061841\n",
      "BLEU Score: 0.315351259331185\n"
     ]
    },
    {
     "data": {
      "application/vnd.jupyter.widget-view+json": {
       "model_id": "cb3e77ea2a69447a832f8ebff872d450",
       "version_major": 2,
       "version_minor": 0
      },
      "text/plain": [
       "  0%|          | 0/207 [00:00<?, ?it/s]"
      ]
     },
     "metadata": {},
     "output_type": "display_data"
    },
    {
     "name": "stdout",
     "output_type": "stream",
     "text": [
      "BLEU Score: 0.32179740436369875\n",
      "BLEU Score: 0.3166422527479407\n"
     ]
    },
    {
     "data": {
      "application/vnd.jupyter.widget-view+json": {
       "model_id": "746c4d287bf94d7a8b70a289b0bbb6c3",
       "version_major": 2,
       "version_minor": 0
      },
      "text/plain": [
       "  0%|          | 0/207 [00:00<?, ?it/s]"
      ]
     },
     "metadata": {},
     "output_type": "display_data"
    },
    {
     "name": "stdout",
     "output_type": "stream",
     "text": [
      "BLEU Score: 0.3157826107836449\n",
      "BLEU Score: 0.32476444627908496\n"
     ]
    },
    {
     "data": {
      "application/vnd.jupyter.widget-view+json": {
       "model_id": "9c48cb0a45624f4f9496e17c6b5f9306",
       "version_major": 2,
       "version_minor": 0
      },
      "text/plain": [
       "  0%|          | 0/207 [00:00<?, ?it/s]"
      ]
     },
     "metadata": {},
     "output_type": "display_data"
    },
    {
     "name": "stdout",
     "output_type": "stream",
     "text": [
      "BLEU Score: 0.3211075325326075\n",
      "BLEU Score: 0.33309737059078437\n"
     ]
    },
    {
     "data": {
      "application/vnd.jupyter.widget-view+json": {
       "model_id": "9fb07678d39e4f0e817b292595dc3d07",
       "version_major": 2,
       "version_minor": 0
      },
      "text/plain": [
       "  0%|          | 0/207 [00:00<?, ?it/s]"
      ]
     },
     "metadata": {},
     "output_type": "display_data"
    },
    {
     "name": "stdout",
     "output_type": "stream",
     "text": [
      "BLEU Score: 0.33142311739240654\n",
      "BLEU Score: 0.33236189114340736\n"
     ]
    },
    {
     "data": {
      "application/vnd.jupyter.widget-view+json": {
       "model_id": "649e5075badb497b883940c29bd17101",
       "version_major": 2,
       "version_minor": 0
      },
      "text/plain": [
       "  0%|          | 0/207 [00:00<?, ?it/s]"
      ]
     },
     "metadata": {},
     "output_type": "display_data"
    },
    {
     "name": "stdout",
     "output_type": "stream",
     "text": [
      "BLEU Score: 0.33871801752487146\n",
      "BLEU Score: 0.3295602013850475\n"
     ]
    },
    {
     "data": {
      "application/vnd.jupyter.widget-view+json": {
       "model_id": "84f1b4cf359a477a9c371d7808f89ca4",
       "version_major": 2,
       "version_minor": 0
      },
      "text/plain": [
       "  0%|          | 0/207 [00:00<?, ?it/s]"
      ]
     },
     "metadata": {},
     "output_type": "display_data"
    },
    {
     "name": "stdout",
     "output_type": "stream",
     "text": [
      "BLEU Score: 0.33780098982154405\n",
      "BLEU Score: 0.33391215779482897\n"
     ]
    },
    {
     "data": {
      "application/vnd.jupyter.widget-view+json": {
       "model_id": "5be6d656a70246f29c7d445186e6d01a",
       "version_major": 2,
       "version_minor": 0
      },
      "text/plain": [
       "  0%|          | 0/207 [00:00<?, ?it/s]"
      ]
     },
     "metadata": {},
     "output_type": "display_data"
    },
    {
     "name": "stdout",
     "output_type": "stream",
     "text": [
      "BLEU Score: 0.3428852429740825\n",
      "BLEU Score: 0.34678105449513386\n"
     ]
    },
    {
     "data": {
      "application/vnd.jupyter.widget-view+json": {
       "model_id": "97fc321f4f7245119422c591840e7a84",
       "version_major": 2,
       "version_minor": 0
      },
      "text/plain": [
       "  0%|          | 0/207 [00:00<?, ?it/s]"
      ]
     },
     "metadata": {},
     "output_type": "display_data"
    },
    {
     "name": "stdout",
     "output_type": "stream",
     "text": [
      "BLEU Score: 0.34083687451050515\n",
      "BLEU Score: 0.3480586497248422\n"
     ]
    },
    {
     "data": {
      "application/vnd.jupyter.widget-view+json": {
       "model_id": "f15cf5a2b76a45ce8862b8f3ff39bf5f",
       "version_major": 2,
       "version_minor": 0
      },
      "text/plain": [
       "  0%|          | 0/207 [00:00<?, ?it/s]"
      ]
     },
     "metadata": {},
     "output_type": "display_data"
    },
    {
     "name": "stdout",
     "output_type": "stream",
     "text": [
      "BLEU Score: 0.34994043582092493\n",
      "BLEU Score: 0.3477451991193154\n"
     ]
    },
    {
     "data": {
      "application/vnd.jupyter.widget-view+json": {
       "model_id": "abc04f1b436d486cb57ac5d372666693",
       "version_major": 2,
       "version_minor": 0
      },
      "text/plain": [
       "  0%|          | 0/207 [00:00<?, ?it/s]"
      ]
     },
     "metadata": {},
     "output_type": "display_data"
    },
    {
     "name": "stdout",
     "output_type": "stream",
     "text": [
      "BLEU Score: 0.3542910949868412\n",
      "BLEU Score: 0.34924802295765667\n"
     ]
    },
    {
     "data": {
      "application/vnd.jupyter.widget-view+json": {
       "model_id": "296ce603bbb241ab84e17e9c4b8b3b26",
       "version_major": 2,
       "version_minor": 0
      },
      "text/plain": [
       "  0%|          | 0/207 [00:00<?, ?it/s]"
      ]
     },
     "metadata": {},
     "output_type": "display_data"
    },
    {
     "name": "stdout",
     "output_type": "stream",
     "text": [
      "BLEU Score: 0.35208245659299126\n",
      "BLEU Score: 0.34892600874386964\n"
     ]
    },
    {
     "data": {
      "application/vnd.jupyter.widget-view+json": {
       "model_id": "a5e3e75d1ae945209e6b4c68900ea31c",
       "version_major": 2,
       "version_minor": 0
      },
      "text/plain": [
       "  0%|          | 0/207 [00:00<?, ?it/s]"
      ]
     },
     "metadata": {},
     "output_type": "display_data"
    },
    {
     "name": "stdout",
     "output_type": "stream",
     "text": [
      "BLEU Score: 0.35684209826162344\n",
      "BLEU Score: 0.35522988242010384\n"
     ]
    },
    {
     "data": {
      "application/vnd.jupyter.widget-view+json": {
       "model_id": "b9fda7e269d44497bf5eed87607985b9",
       "version_major": 2,
       "version_minor": 0
      },
      "text/plain": [
       "  0%|          | 0/207 [00:00<?, ?it/s]"
      ]
     },
     "metadata": {},
     "output_type": "display_data"
    },
    {
     "name": "stdout",
     "output_type": "stream",
     "text": [
      "BLEU Score: 0.35808222676909296\n",
      "BLEU Score: 0.3608467511226604\n"
     ]
    },
    {
     "data": {
      "application/vnd.jupyter.widget-view+json": {
       "model_id": "7b3daf34b68e4c509c636ae2e58a0f54",
       "version_major": 2,
       "version_minor": 0
      },
      "text/plain": [
       "  0%|          | 0/207 [00:00<?, ?it/s]"
      ]
     },
     "metadata": {},
     "output_type": "display_data"
    },
    {
     "name": "stdout",
     "output_type": "stream",
     "text": [
      "BLEU Score: 0.3641834454214634\n",
      "BLEU Score: 0.35545624769963136\n"
     ]
    },
    {
     "data": {
      "application/vnd.jupyter.widget-view+json": {
       "model_id": "aa6278ab23544fe09b674c35436bd87e",
       "version_major": 2,
       "version_minor": 0
      },
      "text/plain": [
       "  0%|          | 0/207 [00:00<?, ?it/s]"
      ]
     },
     "metadata": {},
     "output_type": "display_data"
    },
    {
     "name": "stdout",
     "output_type": "stream",
     "text": [
      "BLEU Score: 0.3571452496473154\n",
      "BLEU Score: 0.3636024668624212\n"
     ]
    },
    {
     "data": {
      "application/vnd.jupyter.widget-view+json": {
       "model_id": "3e863786647c411f94b82d186de2e69e",
       "version_major": 2,
       "version_minor": 0
      },
      "text/plain": [
       "  0%|          | 0/207 [00:00<?, ?it/s]"
      ]
     },
     "metadata": {},
     "output_type": "display_data"
    },
    {
     "name": "stdout",
     "output_type": "stream",
     "text": [
      "BLEU Score: 0.3650474242088225\n",
      "BLEU Score: 0.3681184247932948\n"
     ]
    },
    {
     "data": {
      "application/vnd.jupyter.widget-view+json": {
       "model_id": "4b9150059cb84467a6477f3d4d451d45",
       "version_major": 2,
       "version_minor": 0
      },
      "text/plain": [
       "  0%|          | 0/207 [00:00<?, ?it/s]"
      ]
     },
     "metadata": {},
     "output_type": "display_data"
    },
    {
     "name": "stdout",
     "output_type": "stream",
     "text": [
      "BLEU Score: 0.3679179450155653\n",
      "BLEU Score: 0.36471252857123565\n"
     ]
    },
    {
     "data": {
      "application/vnd.jupyter.widget-view+json": {
       "model_id": "978dd993102248ef98c6b65047da18b7",
       "version_major": 2,
       "version_minor": 0
      },
      "text/plain": [
       "  0%|          | 0/207 [00:00<?, ?it/s]"
      ]
     },
     "metadata": {},
     "output_type": "display_data"
    },
    {
     "name": "stdout",
     "output_type": "stream",
     "text": [
      "BLEU Score: 0.3698116400604216\n",
      "BLEU Score: 0.3726852695366186\n"
     ]
    },
    {
     "data": {
      "application/vnd.jupyter.widget-view+json": {
       "model_id": "cb44c0689ed44c50b219fd55046b3060",
       "version_major": 2,
       "version_minor": 0
      },
      "text/plain": [
       "  0%|          | 0/207 [00:00<?, ?it/s]"
      ]
     },
     "metadata": {},
     "output_type": "display_data"
    },
    {
     "name": "stdout",
     "output_type": "stream",
     "text": [
      "BLEU Score: 0.36874114018295384\n",
      "BLEU Score: 0.37464737364810413\n"
     ]
    },
    {
     "data": {
      "application/vnd.jupyter.widget-view+json": {
       "model_id": "46d3eebd5b2d494cae99a817a309fd43",
       "version_major": 2,
       "version_minor": 0
      },
      "text/plain": [
       "  0%|          | 0/207 [00:00<?, ?it/s]"
      ]
     },
     "metadata": {},
     "output_type": "display_data"
    },
    {
     "name": "stdout",
     "output_type": "stream",
     "text": [
      "BLEU Score: 0.37582683600779465\n",
      "BLEU Score: 0.3705051470307751\n"
     ]
    },
    {
     "data": {
      "application/vnd.jupyter.widget-view+json": {
       "model_id": "5b3fb0a9235a49739b6543ac3059eaa5",
       "version_major": 2,
       "version_minor": 0
      },
      "text/plain": [
       "  0%|          | 0/207 [00:00<?, ?it/s]"
      ]
     },
     "metadata": {},
     "output_type": "display_data"
    },
    {
     "name": "stdout",
     "output_type": "stream",
     "text": [
      "BLEU Score: 0.37436957499278284\n",
      "BLEU Score: 0.3743251118267593\n"
     ]
    },
    {
     "data": {
      "application/vnd.jupyter.widget-view+json": {
       "model_id": "2e23ef117abb4e2b8a6c93e51e48dca9",
       "version_major": 2,
       "version_minor": 0
      },
      "text/plain": [
       "  0%|          | 0/207 [00:00<?, ?it/s]"
      ]
     },
     "metadata": {},
     "output_type": "display_data"
    },
    {
     "name": "stdout",
     "output_type": "stream",
     "text": [
      "BLEU Score: 0.3777009591822914\n",
      "BLEU Score: 0.3739284424093468\n"
     ]
    },
    {
     "data": {
      "application/vnd.jupyter.widget-view+json": {
       "model_id": "d652d4a2d68e48ec8cd32415db0823c7",
       "version_major": 2,
       "version_minor": 0
      },
      "text/plain": [
       "  0%|          | 0/207 [00:00<?, ?it/s]"
      ]
     },
     "metadata": {},
     "output_type": "display_data"
    },
    {
     "name": "stdout",
     "output_type": "stream",
     "text": [
      "BLEU Score: 0.37082565039110205\n",
      "BLEU Score: 0.3717783376026654\n"
     ]
    },
    {
     "data": {
      "application/vnd.jupyter.widget-view+json": {
       "model_id": "c31972d4b8c04c54b0d18481667d2b3e",
       "version_major": 2,
       "version_minor": 0
      },
      "text/plain": [
       "  0%|          | 0/207 [00:00<?, ?it/s]"
      ]
     },
     "metadata": {},
     "output_type": "display_data"
    },
    {
     "name": "stdout",
     "output_type": "stream",
     "text": [
      "BLEU Score: 0.37850756730770596\n",
      "BLEU Score: 0.3812761286280021\n"
     ]
    },
    {
     "data": {
      "application/vnd.jupyter.widget-view+json": {
       "model_id": "1587ccffa30448f98ff4fae0fd601c3f",
       "version_major": 2,
       "version_minor": 0
      },
      "text/plain": [
       "  0%|          | 0/207 [00:00<?, ?it/s]"
      ]
     },
     "metadata": {},
     "output_type": "display_data"
    },
    {
     "name": "stdout",
     "output_type": "stream",
     "text": [
      "BLEU Score: 0.3798927006183031\n",
      "BLEU Score: 0.38356590604942337\n"
     ]
    },
    {
     "data": {
      "application/vnd.jupyter.widget-view+json": {
       "model_id": "d93947c1daf04d9fb01338d9da7d29b1",
       "version_major": 2,
       "version_minor": 0
      },
      "text/plain": [
       "  0%|          | 0/207 [00:00<?, ?it/s]"
      ]
     },
     "metadata": {},
     "output_type": "display_data"
    },
    {
     "name": "stdout",
     "output_type": "stream",
     "text": [
      "BLEU Score: 0.3811049311504299\n",
      "BLEU Score: 0.380612781253149\n"
     ]
    },
    {
     "data": {
      "application/vnd.jupyter.widget-view+json": {
       "model_id": "378f9209aca34527a104e4a39bff3365",
       "version_major": 2,
       "version_minor": 0
      },
      "text/plain": [
       "  0%|          | 0/207 [00:00<?, ?it/s]"
      ]
     },
     "metadata": {},
     "output_type": "display_data"
    },
    {
     "name": "stdout",
     "output_type": "stream",
     "text": [
      "BLEU Score: 0.3828952583094515\n",
      "BLEU Score: 0.37998084776806423\n"
     ]
    },
    {
     "data": {
      "application/vnd.jupyter.widget-view+json": {
       "model_id": "eb6e705f331049dc89a32104f02ccd06",
       "version_major": 2,
       "version_minor": 0
      },
      "text/plain": [
       "  0%|          | 0/207 [00:00<?, ?it/s]"
      ]
     },
     "metadata": {},
     "output_type": "display_data"
    },
    {
     "name": "stdout",
     "output_type": "stream",
     "text": [
      "BLEU Score: 0.38860492353701614\n",
      "BLEU Score: 0.38023793447806065\n"
     ]
    },
    {
     "data": {
      "application/vnd.jupyter.widget-view+json": {
       "model_id": "ca4f7ce467a847de9204a02e1ecc2013",
       "version_major": 2,
       "version_minor": 0
      },
      "text/plain": [
       "  0%|          | 0/207 [00:00<?, ?it/s]"
      ]
     },
     "metadata": {},
     "output_type": "display_data"
    },
    {
     "name": "stdout",
     "output_type": "stream",
     "text": [
      "BLEU Score: 0.3879955668642982\n",
      "BLEU Score: 0.38943959301994696\n"
     ]
    },
    {
     "data": {
      "application/vnd.jupyter.widget-view+json": {
       "model_id": "7a3f07bd90b64e968167dca2d0bb8f83",
       "version_major": 2,
       "version_minor": 0
      },
      "text/plain": [
       "  0%|          | 0/207 [00:00<?, ?it/s]"
      ]
     },
     "metadata": {},
     "output_type": "display_data"
    },
    {
     "name": "stdout",
     "output_type": "stream",
     "text": [
      "BLEU Score: 0.38582466213944167\n",
      "BLEU Score: 0.38576523783416\n"
     ]
    },
    {
     "data": {
      "application/vnd.jupyter.widget-view+json": {
       "model_id": "6bc8fe674ac64925ab660728987a3f1a",
       "version_major": 2,
       "version_minor": 0
      },
      "text/plain": [
       "  0%|          | 0/207 [00:00<?, ?it/s]"
      ]
     },
     "metadata": {},
     "output_type": "display_data"
    },
    {
     "name": "stdout",
     "output_type": "stream",
     "text": [
      "BLEU Score: 0.3843708504843001\n",
      "BLEU Score: 0.39144705955025527\n"
     ]
    },
    {
     "data": {
      "application/vnd.jupyter.widget-view+json": {
       "model_id": "4f6445417a5744a4a6a6b660dbfb8cc0",
       "version_major": 2,
       "version_minor": 0
      },
      "text/plain": [
       "  0%|          | 0/207 [00:00<?, ?it/s]"
      ]
     },
     "metadata": {},
     "output_type": "display_data"
    },
    {
     "name": "stdout",
     "output_type": "stream",
     "text": [
      "BLEU Score: 0.38364897399253894\n",
      "BLEU Score: 0.3833830656798375\n"
     ]
    },
    {
     "data": {
      "application/vnd.jupyter.widget-view+json": {
       "model_id": "88b26c074d934c2bb50b6c6913f21963",
       "version_major": 2,
       "version_minor": 0
      },
      "text/plain": [
       "  0%|          | 0/207 [00:00<?, ?it/s]"
      ]
     },
     "metadata": {},
     "output_type": "display_data"
    },
    {
     "name": "stdout",
     "output_type": "stream",
     "text": [
      "BLEU Score: 0.39738644578483134\n",
      "BLEU Score: 0.39051752033533416\n"
     ]
    },
    {
     "data": {
      "application/vnd.jupyter.widget-view+json": {
       "model_id": "4de3207a1c084d448c84fb8b45c537a5",
       "version_major": 2,
       "version_minor": 0
      },
      "text/plain": [
       "  0%|          | 0/207 [00:00<?, ?it/s]"
      ]
     },
     "metadata": {},
     "output_type": "display_data"
    },
    {
     "name": "stdout",
     "output_type": "stream",
     "text": [
      "BLEU Score: 0.39554801016722796\n",
      "BLEU Score: 0.3900490671987666\n"
     ]
    },
    {
     "data": {
      "application/vnd.jupyter.widget-view+json": {
       "model_id": "8f9dff92daba42b88139d9422494090a",
       "version_major": 2,
       "version_minor": 0
      },
      "text/plain": [
       "  0%|          | 0/207 [00:00<?, ?it/s]"
      ]
     },
     "metadata": {},
     "output_type": "display_data"
    },
    {
     "name": "stdout",
     "output_type": "stream",
     "text": [
      "BLEU Score: 0.39354097306368496\n",
      "BLEU Score: 0.3959846225179625\n"
     ]
    },
    {
     "data": {
      "application/vnd.jupyter.widget-view+json": {
       "model_id": "9dfdefcfaa5f45c59d242c7ae9355a09",
       "version_major": 2,
       "version_minor": 0
      },
      "text/plain": [
       "  0%|          | 0/207 [00:00<?, ?it/s]"
      ]
     },
     "metadata": {},
     "output_type": "display_data"
    },
    {
     "name": "stdout",
     "output_type": "stream",
     "text": [
      "BLEU Score: 0.40577621880420356\n",
      "BLEU Score: 0.3980432749104245\n"
     ]
    },
    {
     "data": {
      "application/vnd.jupyter.widget-view+json": {
       "model_id": "38cbe5a4639a4f22a38e830bc1a47086",
       "version_major": 2,
       "version_minor": 0
      },
      "text/plain": [
       "  0%|          | 0/207 [00:00<?, ?it/s]"
      ]
     },
     "metadata": {},
     "output_type": "display_data"
    },
    {
     "name": "stdout",
     "output_type": "stream",
     "text": [
      "BLEU Score: 0.40206516914122686\n",
      "BLEU Score: 0.4053151512915224\n"
     ]
    },
    {
     "data": {
      "application/vnd.jupyter.widget-view+json": {
       "model_id": "4f65620873624a8fb0f573b810f78efa",
       "version_major": 2,
       "version_minor": 0
      },
      "text/plain": [
       "  0%|          | 0/207 [00:00<?, ?it/s]"
      ]
     },
     "metadata": {},
     "output_type": "display_data"
    },
    {
     "name": "stdout",
     "output_type": "stream",
     "text": [
      "BLEU Score: 0.3977930625095695\n",
      "BLEU Score: 0.3988273787567843\n"
     ]
    },
    {
     "data": {
      "application/vnd.jupyter.widget-view+json": {
       "model_id": "6f1fe90ac4bc4090b87cff259d56aa3a",
       "version_major": 2,
       "version_minor": 0
      },
      "text/plain": [
       "  0%|          | 0/207 [00:00<?, ?it/s]"
      ]
     },
     "metadata": {},
     "output_type": "display_data"
    },
    {
     "name": "stdout",
     "output_type": "stream",
     "text": [
      "BLEU Score: 0.404628850146736\n",
      "BLEU Score: 0.4097451223076784\n"
     ]
    },
    {
     "data": {
      "application/vnd.jupyter.widget-view+json": {
       "model_id": "3cff9e83c14b4c8d9a0103522e1d2c15",
       "version_major": 2,
       "version_minor": 0
      },
      "text/plain": [
       "  0%|          | 0/207 [00:00<?, ?it/s]"
      ]
     },
     "metadata": {},
     "output_type": "display_data"
    },
    {
     "name": "stdout",
     "output_type": "stream",
     "text": [
      "BLEU Score: 0.4097398234187416\n",
      "BLEU Score: 0.4054513842062111\n"
     ]
    },
    {
     "data": {
      "application/vnd.jupyter.widget-view+json": {
       "model_id": "02abe538835e4ee18e9b767fcb75b5de",
       "version_major": 2,
       "version_minor": 0
      },
      "text/plain": [
       "  0%|          | 0/207 [00:00<?, ?it/s]"
      ]
     },
     "metadata": {},
     "output_type": "display_data"
    },
    {
     "name": "stdout",
     "output_type": "stream",
     "text": [
      "BLEU Score: 0.4100286970165249\n",
      "BLEU Score: 0.4000355571137592\n"
     ]
    },
    {
     "data": {
      "application/vnd.jupyter.widget-view+json": {
       "model_id": "c2c1fc7c0f1c4ea08065a54f14cf8eec",
       "version_major": 2,
       "version_minor": 0
      },
      "text/plain": [
       "  0%|          | 0/207 [00:00<?, ?it/s]"
      ]
     },
     "metadata": {},
     "output_type": "display_data"
    },
    {
     "name": "stdout",
     "output_type": "stream",
     "text": [
      "BLEU Score: 0.4143368741118194\n",
      "BLEU Score: 0.40691438779067096\n"
     ]
    },
    {
     "data": {
      "application/vnd.jupyter.widget-view+json": {
       "model_id": "bd9a5a29dca8449dba6ef3289023308e",
       "version_major": 2,
       "version_minor": 0
      },
      "text/plain": [
       "  0%|          | 0/207 [00:00<?, ?it/s]"
      ]
     },
     "metadata": {},
     "output_type": "display_data"
    },
    {
     "name": "stdout",
     "output_type": "stream",
     "text": [
      "BLEU Score: 0.4065659930405802\n",
      "BLEU Score: 0.4165325822517669\n"
     ]
    },
    {
     "data": {
      "application/vnd.jupyter.widget-view+json": {
       "model_id": "9d1fe5c5ad1f46f7b386084662350916",
       "version_major": 2,
       "version_minor": 0
      },
      "text/plain": [
       "  0%|          | 0/207 [00:00<?, ?it/s]"
      ]
     },
     "metadata": {},
     "output_type": "display_data"
    },
    {
     "name": "stdout",
     "output_type": "stream",
     "text": [
      "BLEU Score: 0.4150587720801989\n",
      "BLEU Score: 0.4141918498213375\n"
     ]
    },
    {
     "data": {
      "application/vnd.jupyter.widget-view+json": {
       "model_id": "f421a8a4400e40738c5e3366f0b6c26d",
       "version_major": 2,
       "version_minor": 0
      },
      "text/plain": [
       "  0%|          | 0/207 [00:00<?, ?it/s]"
      ]
     },
     "metadata": {},
     "output_type": "display_data"
    },
    {
     "name": "stdout",
     "output_type": "stream",
     "text": [
      "BLEU Score: 0.4090848595661395\n",
      "BLEU Score: 0.41036389743700113\n"
     ]
    },
    {
     "data": {
      "application/vnd.jupyter.widget-view+json": {
       "model_id": "98e56b0c3a9948559d85046272ba3bb8",
       "version_major": 2,
       "version_minor": 0
      },
      "text/plain": [
       "  0%|          | 0/207 [00:00<?, ?it/s]"
      ]
     },
     "metadata": {},
     "output_type": "display_data"
    },
    {
     "name": "stdout",
     "output_type": "stream",
     "text": [
      "BLEU Score: 0.4131999256015037\n",
      "BLEU Score: 0.4131308522495705\n"
     ]
    },
    {
     "data": {
      "application/vnd.jupyter.widget-view+json": {
       "model_id": "ffaae8b5bca14a858139a163d2518c0f",
       "version_major": 2,
       "version_minor": 0
      },
      "text/plain": [
       "  0%|          | 0/207 [00:00<?, ?it/s]"
      ]
     },
     "metadata": {},
     "output_type": "display_data"
    },
    {
     "name": "stdout",
     "output_type": "stream",
     "text": [
      "BLEU Score: 0.4113404217397646\n",
      "BLEU Score: 0.4144052077641319\n"
     ]
    },
    {
     "data": {
      "application/vnd.jupyter.widget-view+json": {
       "model_id": "4f207d57cce14f34be6f75aa02b5b4b0",
       "version_major": 2,
       "version_minor": 0
      },
      "text/plain": [
       "  0%|          | 0/207 [00:00<?, ?it/s]"
      ]
     },
     "metadata": {},
     "output_type": "display_data"
    },
    {
     "name": "stdout",
     "output_type": "stream",
     "text": [
      "BLEU Score: 0.41175175425020705\n",
      "BLEU Score: 0.4109546639296376\n"
     ]
    },
    {
     "data": {
      "application/vnd.jupyter.widget-view+json": {
       "model_id": "0ecc59e5b43e4aa29c96744a02ac8e02",
       "version_major": 2,
       "version_minor": 0
      },
      "text/plain": [
       "  0%|          | 0/207 [00:00<?, ?it/s]"
      ]
     },
     "metadata": {},
     "output_type": "display_data"
    },
    {
     "name": "stdout",
     "output_type": "stream",
     "text": [
      "BLEU Score: 0.4132944866532403\n",
      "BLEU Score: 0.4153980739058164\n"
     ]
    },
    {
     "data": {
      "application/vnd.jupyter.widget-view+json": {
       "model_id": "81f502c78e69429c8677df20a2c89bad",
       "version_major": 2,
       "version_minor": 0
      },
      "text/plain": [
       "  0%|          | 0/207 [00:00<?, ?it/s]"
      ]
     },
     "metadata": {},
     "output_type": "display_data"
    },
    {
     "name": "stdout",
     "output_type": "stream",
     "text": [
      "BLEU Score: 0.40690679342304853\n",
      "BLEU Score: 0.4206641544552566\n"
     ]
    },
    {
     "data": {
      "application/vnd.jupyter.widget-view+json": {
       "model_id": "642574fe0a394bd499b1e91ba103136a",
       "version_major": 2,
       "version_minor": 0
      },
      "text/plain": [
       "  0%|          | 0/207 [00:00<?, ?it/s]"
      ]
     },
     "metadata": {},
     "output_type": "display_data"
    },
    {
     "name": "stdout",
     "output_type": "stream",
     "text": [
      "BLEU Score: 0.41728981588220526\n",
      "BLEU Score: 0.4167995506701546\n"
     ]
    },
    {
     "data": {
      "application/vnd.jupyter.widget-view+json": {
       "model_id": "2dc44f91f8e243d38ce4af1d9eada402",
       "version_major": 2,
       "version_minor": 0
      },
      "text/plain": [
       "  0%|          | 0/207 [00:00<?, ?it/s]"
      ]
     },
     "metadata": {},
     "output_type": "display_data"
    },
    {
     "name": "stdout",
     "output_type": "stream",
     "text": [
      "BLEU Score: 0.41845457082518\n",
      "BLEU Score: 0.4160699332536838\n"
     ]
    },
    {
     "data": {
      "application/vnd.jupyter.widget-view+json": {
       "model_id": "82f20e26abad4cd4969960bf63aadca2",
       "version_major": 2,
       "version_minor": 0
      },
      "text/plain": [
       "  0%|          | 0/207 [00:00<?, ?it/s]"
      ]
     },
     "metadata": {},
     "output_type": "display_data"
    },
    {
     "name": "stdout",
     "output_type": "stream",
     "text": [
      "BLEU Score: 0.422290788655906\n",
      "BLEU Score: 0.4296608324622545\n"
     ]
    },
    {
     "data": {
      "application/vnd.jupyter.widget-view+json": {
       "model_id": "1b79621367cc42bf972aca4a322cb7b6",
       "version_major": 2,
       "version_minor": 0
      },
      "text/plain": [
       "  0%|          | 0/207 [00:00<?, ?it/s]"
      ]
     },
     "metadata": {},
     "output_type": "display_data"
    },
    {
     "name": "stdout",
     "output_type": "stream",
     "text": [
      "BLEU Score: 0.4197200373722609\n",
      "BLEU Score: 0.42485704766194743\n"
     ]
    },
    {
     "data": {
      "application/vnd.jupyter.widget-view+json": {
       "model_id": "9501bfd92db0438582e8363a81f74aed",
       "version_major": 2,
       "version_minor": 0
      },
      "text/plain": [
       "  0%|          | 0/207 [00:00<?, ?it/s]"
      ]
     },
     "metadata": {},
     "output_type": "display_data"
    },
    {
     "name": "stdout",
     "output_type": "stream",
     "text": [
      "BLEU Score: 0.4207799215686695\n",
      "BLEU Score: 0.42467256146049903\n"
     ]
    },
    {
     "data": {
      "application/vnd.jupyter.widget-view+json": {
       "model_id": "9da8db2ead3349b3a62517d1d225d589",
       "version_major": 2,
       "version_minor": 0
      },
      "text/plain": [
       "  0%|          | 0/207 [00:00<?, ?it/s]"
      ]
     },
     "metadata": {},
     "output_type": "display_data"
    },
    {
     "name": "stdout",
     "output_type": "stream",
     "text": [
      "BLEU Score: 0.4289981923014814\n",
      "BLEU Score: 0.4223474072281538\n"
     ]
    },
    {
     "data": {
      "application/vnd.jupyter.widget-view+json": {
       "model_id": "1406ed367f064234abec3a814f5abbdc",
       "version_major": 2,
       "version_minor": 0
      },
      "text/plain": [
       "  0%|          | 0/207 [00:00<?, ?it/s]"
      ]
     },
     "metadata": {},
     "output_type": "display_data"
    },
    {
     "name": "stdout",
     "output_type": "stream",
     "text": [
      "BLEU Score: 0.4253639133298173\n",
      "BLEU Score: 0.42663281137499354\n"
     ]
    },
    {
     "data": {
      "application/vnd.jupyter.widget-view+json": {
       "model_id": "1ba48cd08f2045d9aa42782cb4556885",
       "version_major": 2,
       "version_minor": 0
      },
      "text/plain": [
       "  0%|          | 0/207 [00:00<?, ?it/s]"
      ]
     },
     "metadata": {},
     "output_type": "display_data"
    },
    {
     "name": "stdout",
     "output_type": "stream",
     "text": [
      "BLEU Score: 0.42773628991383583\n",
      "BLEU Score: 0.4240393432681973\n"
     ]
    },
    {
     "data": {
      "application/vnd.jupyter.widget-view+json": {
       "model_id": "ac8abc90488c460f8c064af464e1cfe1",
       "version_major": 2,
       "version_minor": 0
      },
      "text/plain": [
       "  0%|          | 0/207 [00:00<?, ?it/s]"
      ]
     },
     "metadata": {},
     "output_type": "display_data"
    },
    {
     "name": "stdout",
     "output_type": "stream",
     "text": [
      "BLEU Score: 0.42146758384282157\n",
      "BLEU Score: 0.4226273657764411\n"
     ]
    },
    {
     "data": {
      "application/vnd.jupyter.widget-view+json": {
       "model_id": "1e1e319bc4f245ceb64a689d9f46c990",
       "version_major": 2,
       "version_minor": 0
      },
      "text/plain": [
       "  0%|          | 0/207 [00:00<?, ?it/s]"
      ]
     },
     "metadata": {},
     "output_type": "display_data"
    },
    {
     "name": "stdout",
     "output_type": "stream",
     "text": [
      "BLEU Score: 0.4246573823893442\n",
      "BLEU Score: 0.425234594854059\n"
     ]
    },
    {
     "data": {
      "application/vnd.jupyter.widget-view+json": {
       "model_id": "0f7a054834ee41bcb8304d102ab91887",
       "version_major": 2,
       "version_minor": 0
      },
      "text/plain": [
       "  0%|          | 0/207 [00:00<?, ?it/s]"
      ]
     },
     "metadata": {},
     "output_type": "display_data"
    },
    {
     "name": "stdout",
     "output_type": "stream",
     "text": [
      "BLEU Score: 0.4286683178374403\n",
      "BLEU Score: 0.43031898705712895\n"
     ]
    },
    {
     "data": {
      "application/vnd.jupyter.widget-view+json": {
       "model_id": "7d03cb7cd05f4814aee0335494bcb6af",
       "version_major": 2,
       "version_minor": 0
      },
      "text/plain": [
       "  0%|          | 0/207 [00:00<?, ?it/s]"
      ]
     },
     "metadata": {},
     "output_type": "display_data"
    },
    {
     "name": "stdout",
     "output_type": "stream",
     "text": [
      "BLEU Score: 0.4356426089528407\n",
      "BLEU Score: 0.42933444302260837\n"
     ]
    },
    {
     "data": {
      "application/vnd.jupyter.widget-view+json": {
       "model_id": "f64e183347f749c8b4b18bff666aa86e",
       "version_major": 2,
       "version_minor": 0
      },
      "text/plain": [
       "  0%|          | 0/207 [00:00<?, ?it/s]"
      ]
     },
     "metadata": {},
     "output_type": "display_data"
    },
    {
     "name": "stdout",
     "output_type": "stream",
     "text": [
      "BLEU Score: 0.42875803631159626\n",
      "BLEU Score: 0.43272908244450986\n"
     ]
    },
    {
     "data": {
      "application/vnd.jupyter.widget-view+json": {
       "model_id": "e40f8bab0a58469d99d39d5ef839030f",
       "version_major": 2,
       "version_minor": 0
      },
      "text/plain": [
       "  0%|          | 0/207 [00:00<?, ?it/s]"
      ]
     },
     "metadata": {},
     "output_type": "display_data"
    },
    {
     "name": "stdout",
     "output_type": "stream",
     "text": [
      "BLEU Score: 0.4329448092158363\n",
      "BLEU Score: 0.4343672237797094\n"
     ]
    },
    {
     "data": {
      "application/vnd.jupyter.widget-view+json": {
       "model_id": "2dc2d5e84dde466d94279d4b4f4733fd",
       "version_major": 2,
       "version_minor": 0
      },
      "text/plain": [
       "  0%|          | 0/207 [00:00<?, ?it/s]"
      ]
     },
     "metadata": {},
     "output_type": "display_data"
    },
    {
     "name": "stdout",
     "output_type": "stream",
     "text": [
      "BLEU Score: 0.4283415517808914\n",
      "BLEU Score: 0.43778166637308813\n"
     ]
    },
    {
     "data": {
      "application/vnd.jupyter.widget-view+json": {
       "model_id": "25f1da9b94dc40cbaaad4839ed9bae85",
       "version_major": 2,
       "version_minor": 0
      },
      "text/plain": [
       "  0%|          | 0/207 [00:00<?, ?it/s]"
      ]
     },
     "metadata": {},
     "output_type": "display_data"
    },
    {
     "name": "stdout",
     "output_type": "stream",
     "text": [
      "BLEU Score: 0.4361960367184555\n",
      "BLEU Score: 0.4386210916798648\n"
     ]
    },
    {
     "data": {
      "application/vnd.jupyter.widget-view+json": {
       "model_id": "220ebdda6f484a7cb091e07afbccc8df",
       "version_major": 2,
       "version_minor": 0
      },
      "text/plain": [
       "  0%|          | 0/207 [00:00<?, ?it/s]"
      ]
     },
     "metadata": {},
     "output_type": "display_data"
    },
    {
     "name": "stdout",
     "output_type": "stream",
     "text": [
      "BLEU Score: 0.4383450445729379\n",
      "BLEU Score: 0.43492438288580393\n"
     ]
    },
    {
     "data": {
      "application/vnd.jupyter.widget-view+json": {
       "model_id": "fce833a1997e42f1a9aa5368a5bcbf24",
       "version_major": 2,
       "version_minor": 0
      },
      "text/plain": [
       "  0%|          | 0/207 [00:00<?, ?it/s]"
      ]
     },
     "metadata": {},
     "output_type": "display_data"
    },
    {
     "name": "stdout",
     "output_type": "stream",
     "text": [
      "BLEU Score: 0.44218727544489866\n",
      "BLEU Score: 0.4334662286618146\n"
     ]
    },
    {
     "data": {
      "application/vnd.jupyter.widget-view+json": {
       "model_id": "9667aa45f79e486ea39124fd011fcd25",
       "version_major": 2,
       "version_minor": 0
      },
      "text/plain": [
       "  0%|          | 0/207 [00:00<?, ?it/s]"
      ]
     },
     "metadata": {},
     "output_type": "display_data"
    },
    {
     "name": "stdout",
     "output_type": "stream",
     "text": [
      "BLEU Score: 0.4354213082558\n",
      "BLEU Score: 0.4349846054893202\n"
     ]
    },
    {
     "data": {
      "application/vnd.jupyter.widget-view+json": {
       "model_id": "3e04cf1d99da46f4ae8a4b7988c7cadc",
       "version_major": 2,
       "version_minor": 0
      },
      "text/plain": [
       "  0%|          | 0/207 [00:00<?, ?it/s]"
      ]
     },
     "metadata": {},
     "output_type": "display_data"
    },
    {
     "name": "stdout",
     "output_type": "stream",
     "text": [
      "BLEU Score: 0.4360427886869228\n",
      "BLEU Score: 0.44332061168291836\n"
     ]
    },
    {
     "data": {
      "application/vnd.jupyter.widget-view+json": {
       "model_id": "ab803c561bd440119a541ebb24f3ff48",
       "version_major": 2,
       "version_minor": 0
      },
      "text/plain": [
       "  0%|          | 0/207 [00:00<?, ?it/s]"
      ]
     },
     "metadata": {},
     "output_type": "display_data"
    },
    {
     "name": "stdout",
     "output_type": "stream",
     "text": [
      "BLEU Score: 0.4445935879178261\n",
      "BLEU Score: 0.4413859611419705\n"
     ]
    },
    {
     "data": {
      "application/vnd.jupyter.widget-view+json": {
       "model_id": "a09ea41643724c98b30e1c671c29045a",
       "version_major": 2,
       "version_minor": 0
      },
      "text/plain": [
       "  0%|          | 0/207 [00:00<?, ?it/s]"
      ]
     },
     "metadata": {},
     "output_type": "display_data"
    },
    {
     "name": "stdout",
     "output_type": "stream",
     "text": [
      "BLEU Score: 0.4446335235999287\n",
      "BLEU Score: 0.4415723662553438\n"
     ]
    },
    {
     "data": {
      "application/vnd.jupyter.widget-view+json": {
       "model_id": "d656cdeb00204797b140cd76d09ad9df",
       "version_major": 2,
       "version_minor": 0
      },
      "text/plain": [
       "  0%|          | 0/207 [00:00<?, ?it/s]"
      ]
     },
     "metadata": {},
     "output_type": "display_data"
    },
    {
     "name": "stdout",
     "output_type": "stream",
     "text": [
      "BLEU Score: 0.4462121893788571\n",
      "BLEU Score: 0.4431991097473282\n"
     ]
    },
    {
     "data": {
      "application/vnd.jupyter.widget-view+json": {
       "model_id": "20622d0bc64744a58ac6a82868911fe5",
       "version_major": 2,
       "version_minor": 0
      },
      "text/plain": [
       "  0%|          | 0/207 [00:00<?, ?it/s]"
      ]
     },
     "metadata": {},
     "output_type": "display_data"
    },
    {
     "name": "stdout",
     "output_type": "stream",
     "text": [
      "BLEU Score: 0.44784504467876546\n",
      "BLEU Score: 0.4406083124556634\n"
     ]
    },
    {
     "data": {
      "application/vnd.jupyter.widget-view+json": {
       "model_id": "e6b189b357694b10a77f484ff67c24de",
       "version_major": 2,
       "version_minor": 0
      },
      "text/plain": [
       "  0%|          | 0/207 [00:00<?, ?it/s]"
      ]
     },
     "metadata": {},
     "output_type": "display_data"
    },
    {
     "name": "stdout",
     "output_type": "stream",
     "text": [
      "BLEU Score: 0.44326436817127457\n",
      "BLEU Score: 0.449102767828408\n"
     ]
    },
    {
     "data": {
      "application/vnd.jupyter.widget-view+json": {
       "model_id": "e412ecf44d62426492c8a612690e35af",
       "version_major": 2,
       "version_minor": 0
      },
      "text/plain": [
       "  0%|          | 0/207 [00:00<?, ?it/s]"
      ]
     },
     "metadata": {},
     "output_type": "display_data"
    },
    {
     "name": "stdout",
     "output_type": "stream",
     "text": [
      "BLEU Score: 0.4491010012413298\n",
      "BLEU Score: 0.4464979133819654\n"
     ]
    },
    {
     "data": {
      "application/vnd.jupyter.widget-view+json": {
       "model_id": "eb6a6a97f1ea4c27aacd68375c52e2df",
       "version_major": 2,
       "version_minor": 0
      },
      "text/plain": [
       "  0%|          | 0/207 [00:00<?, ?it/s]"
      ]
     },
     "metadata": {},
     "output_type": "display_data"
    },
    {
     "name": "stdout",
     "output_type": "stream",
     "text": [
      "BLEU Score: 0.4514525633539154\n",
      "BLEU Score: 0.45264155175752274\n"
     ]
    },
    {
     "data": {
      "application/vnd.jupyter.widget-view+json": {
       "model_id": "b8eefa4dfe9a431d842cb787998bd4ad",
       "version_major": 2,
       "version_minor": 0
      },
      "text/plain": [
       "  0%|          | 0/207 [00:00<?, ?it/s]"
      ]
     },
     "metadata": {},
     "output_type": "display_data"
    },
    {
     "name": "stdout",
     "output_type": "stream",
     "text": [
      "BLEU Score: 0.4550490294009113\n",
      "BLEU Score: 0.45916578134335395\n"
     ]
    },
    {
     "data": {
      "application/vnd.jupyter.widget-view+json": {
       "model_id": "17c14a6329224410bdad23d3619f6e79",
       "version_major": 2,
       "version_minor": 0
      },
      "text/plain": [
       "  0%|          | 0/207 [00:00<?, ?it/s]"
      ]
     },
     "metadata": {},
     "output_type": "display_data"
    },
    {
     "name": "stdout",
     "output_type": "stream",
     "text": [
      "BLEU Score: 0.4577530728629872\n",
      "BLEU Score: 0.45040946629578293\n"
     ]
    },
    {
     "data": {
      "application/vnd.jupyter.widget-view+json": {
       "model_id": "e8af4d7e431b43ef8c9a945ab27f6204",
       "version_major": 2,
       "version_minor": 0
      },
      "text/plain": [
       "  0%|          | 0/207 [00:00<?, ?it/s]"
      ]
     },
     "metadata": {},
     "output_type": "display_data"
    },
    {
     "name": "stdout",
     "output_type": "stream",
     "text": [
      "BLEU Score: 0.45128286648251825\n",
      "BLEU Score: 0.4493902763989507\n"
     ]
    },
    {
     "data": {
      "application/vnd.jupyter.widget-view+json": {
       "model_id": "21d5f3dd27364ac9b094a48efc021eff",
       "version_major": 2,
       "version_minor": 0
      },
      "text/plain": [
       "  0%|          | 0/207 [00:00<?, ?it/s]"
      ]
     },
     "metadata": {},
     "output_type": "display_data"
    },
    {
     "name": "stdout",
     "output_type": "stream",
     "text": [
      "BLEU Score: 0.45465876782024106\n",
      "BLEU Score: 0.4534776104282157\n"
     ]
    },
    {
     "data": {
      "application/vnd.jupyter.widget-view+json": {
       "model_id": "18ffc433d7f24c1ebefbf1788082462b",
       "version_major": 2,
       "version_minor": 0
      },
      "text/plain": [
       "  0%|          | 0/207 [00:00<?, ?it/s]"
      ]
     },
     "metadata": {},
     "output_type": "display_data"
    },
    {
     "name": "stdout",
     "output_type": "stream",
     "text": [
      "BLEU Score: 0.45915368608592216\n",
      "BLEU Score: 0.4565028536111996\n"
     ]
    },
    {
     "data": {
      "application/vnd.jupyter.widget-view+json": {
       "model_id": "be443e3c3f3e472ab39651072e7eb57e",
       "version_major": 2,
       "version_minor": 0
      },
      "text/plain": [
       "  0%|          | 0/207 [00:00<?, ?it/s]"
      ]
     },
     "metadata": {},
     "output_type": "display_data"
    },
    {
     "name": "stdout",
     "output_type": "stream",
     "text": [
      "BLEU Score: 0.4511730043164929\n",
      "BLEU Score: 0.45972918430276427\n"
     ]
    },
    {
     "data": {
      "application/vnd.jupyter.widget-view+json": {
       "model_id": "adf0aaa4224d4415962831114d1fa025",
       "version_major": 2,
       "version_minor": 0
      },
      "text/plain": [
       "  0%|          | 0/207 [00:00<?, ?it/s]"
      ]
     },
     "metadata": {},
     "output_type": "display_data"
    },
    {
     "name": "stdout",
     "output_type": "stream",
     "text": [
      "BLEU Score: 0.4642785347742488\n",
      "BLEU Score: 0.46175946224710807\n"
     ]
    },
    {
     "data": {
      "application/vnd.jupyter.widget-view+json": {
       "model_id": "469d23a0d3ac49878b0cd4c2ccb7bdb0",
       "version_major": 2,
       "version_minor": 0
      },
      "text/plain": [
       "  0%|          | 0/207 [00:00<?, ?it/s]"
      ]
     },
     "metadata": {},
     "output_type": "display_data"
    },
    {
     "name": "stdout",
     "output_type": "stream",
     "text": [
      "BLEU Score: 0.4566406790847525\n",
      "BLEU Score: 0.46286761738328497\n"
     ]
    },
    {
     "data": {
      "application/vnd.jupyter.widget-view+json": {
       "model_id": "e037067687134abfbf573739a686b117",
       "version_major": 2,
       "version_minor": 0
      },
      "text/plain": [
       "  0%|          | 0/207 [00:00<?, ?it/s]"
      ]
     },
     "metadata": {},
     "output_type": "display_data"
    },
    {
     "name": "stdout",
     "output_type": "stream",
     "text": [
      "BLEU Score: 0.4585156703831886\n",
      "BLEU Score: 0.4639174164475797\n"
     ]
    },
    {
     "data": {
      "application/vnd.jupyter.widget-view+json": {
       "model_id": "5969eed63c6d42e2a9b62b41b9a90b40",
       "version_major": 2,
       "version_minor": 0
      },
      "text/plain": [
       "  0%|          | 0/207 [00:00<?, ?it/s]"
      ]
     },
     "metadata": {},
     "output_type": "display_data"
    },
    {
     "name": "stdout",
     "output_type": "stream",
     "text": [
      "BLEU Score: 0.46201790001534987\n",
      "BLEU Score: 0.45625014161920563\n"
     ]
    },
    {
     "data": {
      "application/vnd.jupyter.widget-view+json": {
       "model_id": "e98cce16e89a434c9c6700948ef07700",
       "version_major": 2,
       "version_minor": 0
      },
      "text/plain": [
       "  0%|          | 0/207 [00:00<?, ?it/s]"
      ]
     },
     "metadata": {},
     "output_type": "display_data"
    },
    {
     "name": "stdout",
     "output_type": "stream",
     "text": [
      "BLEU Score: 0.46657696008503813\n",
      "BLEU Score: 0.46099048490257033\n"
     ]
    },
    {
     "data": {
      "application/vnd.jupyter.widget-view+json": {
       "model_id": "02fd9683795144f8a421d4e676abe863",
       "version_major": 2,
       "version_minor": 0
      },
      "text/plain": [
       "  0%|          | 0/207 [00:00<?, ?it/s]"
      ]
     },
     "metadata": {},
     "output_type": "display_data"
    },
    {
     "name": "stdout",
     "output_type": "stream",
     "text": [
      "BLEU Score: 0.467081656405795\n",
      "BLEU Score: 0.4692553334039907\n"
     ]
    },
    {
     "data": {
      "application/vnd.jupyter.widget-view+json": {
       "model_id": "255fd15b1aae418aa262b2e9ecd5532d",
       "version_major": 2,
       "version_minor": 0
      },
      "text/plain": [
       "  0%|          | 0/207 [00:00<?, ?it/s]"
      ]
     },
     "metadata": {},
     "output_type": "display_data"
    },
    {
     "name": "stdout",
     "output_type": "stream",
     "text": [
      "BLEU Score: 0.4688752241483046\n",
      "BLEU Score: 0.4641264303344032\n"
     ]
    },
    {
     "data": {
      "application/vnd.jupyter.widget-view+json": {
       "model_id": "4d9cd1869ea54df5b9e062fbea09d195",
       "version_major": 2,
       "version_minor": 0
      },
      "text/plain": [
       "  0%|          | 0/207 [00:00<?, ?it/s]"
      ]
     },
     "metadata": {},
     "output_type": "display_data"
    },
    {
     "name": "stdout",
     "output_type": "stream",
     "text": [
      "BLEU Score: 0.4661976842654808\n",
      "BLEU Score: 0.4653723297919957\n"
     ]
    },
    {
     "data": {
      "application/vnd.jupyter.widget-view+json": {
       "model_id": "374929f0ce104f4ca3b514c96c40b8ac",
       "version_major": 2,
       "version_minor": 0
      },
      "text/plain": [
       "  0%|          | 0/207 [00:00<?, ?it/s]"
      ]
     },
     "metadata": {},
     "output_type": "display_data"
    },
    {
     "name": "stdout",
     "output_type": "stream",
     "text": [
      "BLEU Score: 0.46003455597521564\n",
      "BLEU Score: 0.47224910713745183\n"
     ]
    },
    {
     "data": {
      "application/vnd.jupyter.widget-view+json": {
       "model_id": "d4ad41174da044b8b1f0d7b1dd90056f",
       "version_major": 2,
       "version_minor": 0
      },
      "text/plain": [
       "  0%|          | 0/207 [00:00<?, ?it/s]"
      ]
     },
     "metadata": {},
     "output_type": "display_data"
    },
    {
     "name": "stdout",
     "output_type": "stream",
     "text": [
      "BLEU Score: 0.4668285624349628\n",
      "BLEU Score: 0.4711621525744055\n"
     ]
    },
    {
     "data": {
      "application/vnd.jupyter.widget-view+json": {
       "model_id": "5a7938d4cbfd462da52e1325afc99505",
       "version_major": 2,
       "version_minor": 0
      },
      "text/plain": [
       "  0%|          | 0/207 [00:00<?, ?it/s]"
      ]
     },
     "metadata": {},
     "output_type": "display_data"
    },
    {
     "name": "stdout",
     "output_type": "stream",
     "text": [
      "BLEU Score: 0.47046292646203297\n",
      "BLEU Score: 0.46899672796138747\n"
     ]
    },
    {
     "data": {
      "application/vnd.jupyter.widget-view+json": {
       "model_id": "2d3d0cd330224609bee8e01baa8135ca",
       "version_major": 2,
       "version_minor": 0
      },
      "text/plain": [
       "  0%|          | 0/207 [00:00<?, ?it/s]"
      ]
     },
     "metadata": {},
     "output_type": "display_data"
    },
    {
     "name": "stdout",
     "output_type": "stream",
     "text": [
      "BLEU Score: 0.4622084442509287\n",
      "BLEU Score: 0.4779566801943635\n"
     ]
    },
    {
     "data": {
      "application/vnd.jupyter.widget-view+json": {
       "model_id": "d598d1e6b68440d28918d11570126a35",
       "version_major": 2,
       "version_minor": 0
      },
      "text/plain": [
       "  0%|          | 0/207 [00:00<?, ?it/s]"
      ]
     },
     "metadata": {},
     "output_type": "display_data"
    },
    {
     "name": "stdout",
     "output_type": "stream",
     "text": [
      "BLEU Score: 0.47810013541330143\n",
      "BLEU Score: 0.4698522390961026\n"
     ]
    },
    {
     "data": {
      "application/vnd.jupyter.widget-view+json": {
       "model_id": "c6ebb093886e4f1184e7974893fc2971",
       "version_major": 2,
       "version_minor": 0
      },
      "text/plain": [
       "  0%|          | 0/207 [00:00<?, ?it/s]"
      ]
     },
     "metadata": {},
     "output_type": "display_data"
    },
    {
     "name": "stdout",
     "output_type": "stream",
     "text": [
      "BLEU Score: 0.4718950688812157\n",
      "BLEU Score: 0.4701560586609805\n"
     ]
    },
    {
     "data": {
      "application/vnd.jupyter.widget-view+json": {
       "model_id": "298bf4424ea54cc6a200710a17f6f7eb",
       "version_major": 2,
       "version_minor": 0
      },
      "text/plain": [
       "  0%|          | 0/207 [00:00<?, ?it/s]"
      ]
     },
     "metadata": {},
     "output_type": "display_data"
    },
    {
     "name": "stdout",
     "output_type": "stream",
     "text": [
      "BLEU Score: 0.47113247885647186\n",
      "BLEU Score: 0.46900688487870773\n"
     ]
    },
    {
     "data": {
      "application/vnd.jupyter.widget-view+json": {
       "model_id": "2bb79f057f6f40459eb50d8089c0da62",
       "version_major": 2,
       "version_minor": 0
      },
      "text/plain": [
       "  0%|          | 0/207 [00:00<?, ?it/s]"
      ]
     },
     "metadata": {},
     "output_type": "display_data"
    },
    {
     "name": "stdout",
     "output_type": "stream",
     "text": [
      "BLEU Score: 0.46929839268189505\n",
      "BLEU Score: 0.4667572985722618\n"
     ]
    },
    {
     "data": {
      "application/vnd.jupyter.widget-view+json": {
       "model_id": "dd86f8388cc54c36a10f350f59857cad",
       "version_major": 2,
       "version_minor": 0
      },
      "text/plain": [
       "  0%|          | 0/207 [00:00<?, ?it/s]"
      ]
     },
     "metadata": {},
     "output_type": "display_data"
    },
    {
     "name": "stdout",
     "output_type": "stream",
     "text": [
      "BLEU Score: 0.47172943643696164\n",
      "BLEU Score: 0.4784293428151539\n"
     ]
    },
    {
     "data": {
      "application/vnd.jupyter.widget-view+json": {
       "model_id": "3a9eb20bce834a63bd6568945ffc94c0",
       "version_major": 2,
       "version_minor": 0
      },
      "text/plain": [
       "  0%|          | 0/207 [00:00<?, ?it/s]"
      ]
     },
     "metadata": {},
     "output_type": "display_data"
    },
    {
     "name": "stdout",
     "output_type": "stream",
     "text": [
      "BLEU Score: 0.4704831041939114\n",
      "BLEU Score: 0.4714928954079829\n"
     ]
    },
    {
     "data": {
      "application/vnd.jupyter.widget-view+json": {
       "model_id": "a1563b4a35814430a42c7e42c734ca4b",
       "version_major": 2,
       "version_minor": 0
      },
      "text/plain": [
       "  0%|          | 0/207 [00:00<?, ?it/s]"
      ]
     },
     "metadata": {},
     "output_type": "display_data"
    },
    {
     "name": "stdout",
     "output_type": "stream",
     "text": [
      "BLEU Score: 0.46976899328702243\n",
      "BLEU Score: 0.4718553669372983\n"
     ]
    },
    {
     "data": {
      "application/vnd.jupyter.widget-view+json": {
       "model_id": "c3ac5fd20b34463599f92429a75d518d",
       "version_major": 2,
       "version_minor": 0
      },
      "text/plain": [
       "  0%|          | 0/207 [00:00<?, ?it/s]"
      ]
     },
     "metadata": {},
     "output_type": "display_data"
    },
    {
     "name": "stdout",
     "output_type": "stream",
     "text": [
      "BLEU Score: 0.47824444260765764\n",
      "BLEU Score: 0.4742811978349265\n"
     ]
    },
    {
     "data": {
      "application/vnd.jupyter.widget-view+json": {
       "model_id": "d606fbd75e2e4592b1e52fd1e7c08cb4",
       "version_major": 2,
       "version_minor": 0
      },
      "text/plain": [
       "  0%|          | 0/207 [00:00<?, ?it/s]"
      ]
     },
     "metadata": {},
     "output_type": "display_data"
    },
    {
     "name": "stdout",
     "output_type": "stream",
     "text": [
      "BLEU Score: 0.47318854451021897\n",
      "BLEU Score: 0.4784743741999611\n"
     ]
    },
    {
     "data": {
      "application/vnd.jupyter.widget-view+json": {
       "model_id": "f88717ba6f4348629e3be0f0976f44de",
       "version_major": 2,
       "version_minor": 0
      },
      "text/plain": [
       "  0%|          | 0/207 [00:00<?, ?it/s]"
      ]
     },
     "metadata": {},
     "output_type": "display_data"
    },
    {
     "name": "stdout",
     "output_type": "stream",
     "text": [
      "BLEU Score: 0.4776987458417519\n",
      "BLEU Score: 0.4797596297057566\n"
     ]
    },
    {
     "data": {
      "application/vnd.jupyter.widget-view+json": {
       "model_id": "713e582e1a754f6797b413abf4753627",
       "version_major": 2,
       "version_minor": 0
      },
      "text/plain": [
       "  0%|          | 0/207 [00:00<?, ?it/s]"
      ]
     },
     "metadata": {},
     "output_type": "display_data"
    },
    {
     "name": "stdout",
     "output_type": "stream",
     "text": [
      "BLEU Score: 0.47902812236928227\n",
      "BLEU Score: 0.47804741505190196\n"
     ]
    },
    {
     "data": {
      "application/vnd.jupyter.widget-view+json": {
       "model_id": "97b17dd5618142fd840c963f897c6ba4",
       "version_major": 2,
       "version_minor": 0
      },
      "text/plain": [
       "  0%|          | 0/207 [00:00<?, ?it/s]"
      ]
     },
     "metadata": {},
     "output_type": "display_data"
    },
    {
     "name": "stdout",
     "output_type": "stream",
     "text": [
      "BLEU Score: 0.47237087342851075\n",
      "BLEU Score: 0.48296340253461045\n"
     ]
    },
    {
     "data": {
      "application/vnd.jupyter.widget-view+json": {
       "model_id": "cef052eeebd44a34a02e0020153bfcfc",
       "version_major": 2,
       "version_minor": 0
      },
      "text/plain": [
       "  0%|          | 0/207 [00:00<?, ?it/s]"
      ]
     },
     "metadata": {},
     "output_type": "display_data"
    },
    {
     "name": "stdout",
     "output_type": "stream",
     "text": [
      "BLEU Score: 0.4795554156073917\n",
      "BLEU Score: 0.478033578181258\n"
     ]
    },
    {
     "data": {
      "application/vnd.jupyter.widget-view+json": {
       "model_id": "1d6a085d9c4242b69833acf4cf683d9c",
       "version_major": 2,
       "version_minor": 0
      },
      "text/plain": [
       "  0%|          | 0/207 [00:00<?, ?it/s]"
      ]
     },
     "metadata": {},
     "output_type": "display_data"
    },
    {
     "name": "stdout",
     "output_type": "stream",
     "text": [
      "BLEU Score: 0.4804122859656788\n",
      "BLEU Score: 0.4802413205587377\n"
     ]
    },
    {
     "data": {
      "application/vnd.jupyter.widget-view+json": {
       "model_id": "647ed8fff1d34ca4ac8216d44b8630c0",
       "version_major": 2,
       "version_minor": 0
      },
      "text/plain": [
       "  0%|          | 0/207 [00:00<?, ?it/s]"
      ]
     },
     "metadata": {},
     "output_type": "display_data"
    },
    {
     "name": "stdout",
     "output_type": "stream",
     "text": [
      "BLEU Score: 0.48494720115905565\n",
      "BLEU Score: 0.4792358480338459\n"
     ]
    },
    {
     "data": {
      "application/vnd.jupyter.widget-view+json": {
       "model_id": "458195f668a64c16b718ce8f7fde7bcd",
       "version_major": 2,
       "version_minor": 0
      },
      "text/plain": [
       "  0%|          | 0/207 [00:00<?, ?it/s]"
      ]
     },
     "metadata": {},
     "output_type": "display_data"
    },
    {
     "name": "stdout",
     "output_type": "stream",
     "text": [
      "BLEU Score: 0.4888872322483593\n",
      "BLEU Score: 0.48119231672374474\n"
     ]
    },
    {
     "data": {
      "application/vnd.jupyter.widget-view+json": {
       "model_id": "d0982911beb845f59168acbca3643d73",
       "version_major": 2,
       "version_minor": 0
      },
      "text/plain": [
       "  0%|          | 0/207 [00:00<?, ?it/s]"
      ]
     },
     "metadata": {},
     "output_type": "display_data"
    },
    {
     "name": "stdout",
     "output_type": "stream",
     "text": [
      "BLEU Score: 0.4859487078632635\n",
      "BLEU Score: 0.48076725465163817\n"
     ]
    },
    {
     "data": {
      "application/vnd.jupyter.widget-view+json": {
       "model_id": "ed9dfd0e5b7940d3afacba7102e54a78",
       "version_major": 2,
       "version_minor": 0
      },
      "text/plain": [
       "  0%|          | 0/207 [00:00<?, ?it/s]"
      ]
     },
     "metadata": {},
     "output_type": "display_data"
    },
    {
     "name": "stdout",
     "output_type": "stream",
     "text": [
      "BLEU Score: 0.47984209323914906\n",
      "BLEU Score: 0.48523048412039227\n"
     ]
    },
    {
     "data": {
      "application/vnd.jupyter.widget-view+json": {
       "model_id": "a60dc737968d4821ae9c61a9b55e926d",
       "version_major": 2,
       "version_minor": 0
      },
      "text/plain": [
       "  0%|          | 0/207 [00:00<?, ?it/s]"
      ]
     },
     "metadata": {},
     "output_type": "display_data"
    },
    {
     "name": "stdout",
     "output_type": "stream",
     "text": [
      "BLEU Score: 0.48839551792338226\n",
      "BLEU Score: 0.48149352955508923\n"
     ]
    },
    {
     "data": {
      "application/vnd.jupyter.widget-view+json": {
       "model_id": "b1363343c3a24a26b91e083f0d5a88d3",
       "version_major": 2,
       "version_minor": 0
      },
      "text/plain": [
       "  0%|          | 0/207 [00:00<?, ?it/s]"
      ]
     },
     "metadata": {},
     "output_type": "display_data"
    },
    {
     "name": "stdout",
     "output_type": "stream",
     "text": [
      "BLEU Score: 0.4854252130608268\n",
      "BLEU Score: 0.49184360837923524\n"
     ]
    },
    {
     "data": {
      "application/vnd.jupyter.widget-view+json": {
       "model_id": "964936464dc64a6cab4c39e28b40691f",
       "version_major": 2,
       "version_minor": 0
      },
      "text/plain": [
       "  0%|          | 0/207 [00:00<?, ?it/s]"
      ]
     },
     "metadata": {},
     "output_type": "display_data"
    },
    {
     "name": "stdout",
     "output_type": "stream",
     "text": [
      "BLEU Score: 0.48666596160503417\n",
      "BLEU Score: 0.4839554201271932\n"
     ]
    },
    {
     "data": {
      "application/vnd.jupyter.widget-view+json": {
       "model_id": "16726f76322449c19bcf5968a57067f5",
       "version_major": 2,
       "version_minor": 0
      },
      "text/plain": [
       "  0%|          | 0/207 [00:00<?, ?it/s]"
      ]
     },
     "metadata": {},
     "output_type": "display_data"
    },
    {
     "name": "stdout",
     "output_type": "stream",
     "text": [
      "BLEU Score: 0.48846476813711626\n",
      "BLEU Score: 0.48783953811686\n"
     ]
    },
    {
     "data": {
      "application/vnd.jupyter.widget-view+json": {
       "model_id": "69bcf809238642cda57ac10a066bfff1",
       "version_major": 2,
       "version_minor": 0
      },
      "text/plain": [
       "  0%|          | 0/207 [00:00<?, ?it/s]"
      ]
     },
     "metadata": {},
     "output_type": "display_data"
    },
    {
     "name": "stdout",
     "output_type": "stream",
     "text": [
      "BLEU Score: 0.4903204381631706\n",
      "BLEU Score: 0.4917608454224805\n"
     ]
    },
    {
     "data": {
      "application/vnd.jupyter.widget-view+json": {
       "model_id": "d4134ff07b244f129dbd8257eba74948",
       "version_major": 2,
       "version_minor": 0
      },
      "text/plain": [
       "  0%|          | 0/207 [00:00<?, ?it/s]"
      ]
     },
     "metadata": {},
     "output_type": "display_data"
    },
    {
     "name": "stdout",
     "output_type": "stream",
     "text": [
      "BLEU Score: 0.4887901945035285\n",
      "BLEU Score: 0.4887260714707624\n"
     ]
    },
    {
     "data": {
      "application/vnd.jupyter.widget-view+json": {
       "model_id": "4fdea05974b04364921584b98f62e249",
       "version_major": 2,
       "version_minor": 0
      },
      "text/plain": [
       "  0%|          | 0/207 [00:00<?, ?it/s]"
      ]
     },
     "metadata": {},
     "output_type": "display_data"
    },
    {
     "name": "stdout",
     "output_type": "stream",
     "text": [
      "BLEU Score: 0.49050636319131546\n",
      "BLEU Score: 0.48756889747527554\n"
     ]
    },
    {
     "data": {
      "application/vnd.jupyter.widget-view+json": {
       "model_id": "c6ed9c5d49ac4478ac36722ac5f47795",
       "version_major": 2,
       "version_minor": 0
      },
      "text/plain": [
       "  0%|          | 0/207 [00:00<?, ?it/s]"
      ]
     },
     "metadata": {},
     "output_type": "display_data"
    },
    {
     "name": "stdout",
     "output_type": "stream",
     "text": [
      "BLEU Score: 0.4821082707297597\n",
      "BLEU Score: 0.49495237166802797\n"
     ]
    },
    {
     "data": {
      "application/vnd.jupyter.widget-view+json": {
       "model_id": "2c148204ad7043dd9df300f23cfa1cbe",
       "version_major": 2,
       "version_minor": 0
      },
      "text/plain": [
       "  0%|          | 0/207 [00:00<?, ?it/s]"
      ]
     },
     "metadata": {},
     "output_type": "display_data"
    },
    {
     "name": "stdout",
     "output_type": "stream",
     "text": [
      "BLEU Score: 0.4987684017472301\n",
      "BLEU Score: 0.4941088186030882\n"
     ]
    },
    {
     "data": {
      "application/vnd.jupyter.widget-view+json": {
       "model_id": "5d578601e8474d73ba0539189bc5e6d2",
       "version_major": 2,
       "version_minor": 0
      },
      "text/plain": [
       "  0%|          | 0/207 [00:00<?, ?it/s]"
      ]
     },
     "metadata": {},
     "output_type": "display_data"
    },
    {
     "name": "stdout",
     "output_type": "stream",
     "text": [
      "BLEU Score: 0.4910804520236403\n",
      "BLEU Score: 0.5020957768001283\n"
     ]
    },
    {
     "data": {
      "application/vnd.jupyter.widget-view+json": {
       "model_id": "c7ab68a1e5044bfdb4b8421e48e3be55",
       "version_major": 2,
       "version_minor": 0
      },
      "text/plain": [
       "  0%|          | 0/207 [00:00<?, ?it/s]"
      ]
     },
     "metadata": {},
     "output_type": "display_data"
    },
    {
     "name": "stdout",
     "output_type": "stream",
     "text": [
      "BLEU Score: 0.4955576499769737\n",
      "BLEU Score: 0.4949548700109382\n"
     ]
    },
    {
     "data": {
      "application/vnd.jupyter.widget-view+json": {
       "model_id": "1d86c07bad4a4b09a97920878c713ffa",
       "version_major": 2,
       "version_minor": 0
      },
      "text/plain": [
       "  0%|          | 0/207 [00:00<?, ?it/s]"
      ]
     },
     "metadata": {},
     "output_type": "display_data"
    },
    {
     "name": "stdout",
     "output_type": "stream",
     "text": [
      "BLEU Score: 0.49617427246107937\n",
      "BLEU Score: 0.4941144454017056\n"
     ]
    },
    {
     "data": {
      "application/vnd.jupyter.widget-view+json": {
       "model_id": "cd1a74a5996046598b9354664c578c8b",
       "version_major": 2,
       "version_minor": 0
      },
      "text/plain": [
       "  0%|          | 0/207 [00:00<?, ?it/s]"
      ]
     },
     "metadata": {},
     "output_type": "display_data"
    },
    {
     "name": "stdout",
     "output_type": "stream",
     "text": [
      "BLEU Score: 0.49532132119152916\n",
      "BLEU Score: 0.49983205190719426\n"
     ]
    },
    {
     "data": {
      "application/vnd.jupyter.widget-view+json": {
       "model_id": "63f23a0886024f5a89bf4f262d3e88b1",
       "version_major": 2,
       "version_minor": 0
      },
      "text/plain": [
       "  0%|          | 0/207 [00:00<?, ?it/s]"
      ]
     },
     "metadata": {},
     "output_type": "display_data"
    },
    {
     "name": "stdout",
     "output_type": "stream",
     "text": [
      "BLEU Score: 0.5002173999236119\n",
      "BLEU Score: 0.4998957871537991\n"
     ]
    },
    {
     "data": {
      "application/vnd.jupyter.widget-view+json": {
       "model_id": "aa5f4e75cf0742fdb8e7400a3aec4b2f",
       "version_major": 2,
       "version_minor": 0
      },
      "text/plain": [
       "  0%|          | 0/207 [00:00<?, ?it/s]"
      ]
     },
     "metadata": {},
     "output_type": "display_data"
    },
    {
     "name": "stdout",
     "output_type": "stream",
     "text": [
      "BLEU Score: 0.49680883645837903\n",
      "BLEU Score: 0.49191547530961427\n"
     ]
    },
    {
     "data": {
      "application/vnd.jupyter.widget-view+json": {
       "model_id": "6a670a6d2d414cefbd5f7342e879a130",
       "version_major": 2,
       "version_minor": 0
      },
      "text/plain": [
       "  0%|          | 0/207 [00:00<?, ?it/s]"
      ]
     },
     "metadata": {},
     "output_type": "display_data"
    },
    {
     "name": "stdout",
     "output_type": "stream",
     "text": [
      "BLEU Score: 0.4991032652705975\n",
      "BLEU Score: 0.5011842959430907\n"
     ]
    },
    {
     "data": {
      "application/vnd.jupyter.widget-view+json": {
       "model_id": "35a3e0de08f7441b84c828f2b362544f",
       "version_major": 2,
       "version_minor": 0
      },
      "text/plain": [
       "  0%|          | 0/207 [00:00<?, ?it/s]"
      ]
     },
     "metadata": {},
     "output_type": "display_data"
    },
    {
     "name": "stdout",
     "output_type": "stream",
     "text": [
      "BLEU Score: 0.5057181275036944\n",
      "BLEU Score: 0.4961004754363885\n"
     ]
    },
    {
     "data": {
      "application/vnd.jupyter.widget-view+json": {
       "model_id": "190efad2be89408dbb5fd73a31907776",
       "version_major": 2,
       "version_minor": 0
      },
      "text/plain": [
       "  0%|          | 0/207 [00:00<?, ?it/s]"
      ]
     },
     "metadata": {},
     "output_type": "display_data"
    },
    {
     "name": "stdout",
     "output_type": "stream",
     "text": [
      "BLEU Score: 0.5014930073154262\n",
      "BLEU Score: 0.5025732789029386\n"
     ]
    },
    {
     "data": {
      "application/vnd.jupyter.widget-view+json": {
       "model_id": "f615e5ed22494a4c99bd9e1b414de100",
       "version_major": 2,
       "version_minor": 0
      },
      "text/plain": [
       "  0%|          | 0/207 [00:00<?, ?it/s]"
      ]
     },
     "metadata": {},
     "output_type": "display_data"
    },
    {
     "name": "stdout",
     "output_type": "stream",
     "text": [
      "BLEU Score: 0.5071431885117212\n",
      "BLEU Score: 0.508070403936397\n"
     ]
    },
    {
     "data": {
      "application/vnd.jupyter.widget-view+json": {
       "model_id": "bed53c73d8a04ae7898e0cebf13c5426",
       "version_major": 2,
       "version_minor": 0
      },
      "text/plain": [
       "  0%|          | 0/207 [00:00<?, ?it/s]"
      ]
     },
     "metadata": {},
     "output_type": "display_data"
    },
    {
     "name": "stdout",
     "output_type": "stream",
     "text": [
      "BLEU Score: 0.4968016648039256\n",
      "BLEU Score: 0.4989494706229179\n"
     ]
    },
    {
     "data": {
      "application/vnd.jupyter.widget-view+json": {
       "model_id": "70e5b87900d54336b6ef3a36c21ffcc7",
       "version_major": 2,
       "version_minor": 0
      },
      "text/plain": [
       "  0%|          | 0/207 [00:00<?, ?it/s]"
      ]
     },
     "metadata": {},
     "output_type": "display_data"
    },
    {
     "name": "stdout",
     "output_type": "stream",
     "text": [
      "BLEU Score: 0.49919489894292085\n",
      "BLEU Score: 0.5035236669803531\n"
     ]
    },
    {
     "data": {
      "application/vnd.jupyter.widget-view+json": {
       "model_id": "ed8ed3b93ac545baa295614d7cf4ec94",
       "version_major": 2,
       "version_minor": 0
      },
      "text/plain": [
       "  0%|          | 0/207 [00:00<?, ?it/s]"
      ]
     },
     "metadata": {},
     "output_type": "display_data"
    },
    {
     "name": "stdout",
     "output_type": "stream",
     "text": [
      "BLEU Score: 0.5030347447508763\n",
      "BLEU Score: 0.5035288311040894\n"
     ]
    },
    {
     "data": {
      "application/vnd.jupyter.widget-view+json": {
       "model_id": "682c5e64beaa45f094a1b276265505e7",
       "version_major": 2,
       "version_minor": 0
      },
      "text/plain": [
       "  0%|          | 0/207 [00:00<?, ?it/s]"
      ]
     },
     "metadata": {},
     "output_type": "display_data"
    },
    {
     "name": "stdout",
     "output_type": "stream",
     "text": [
      "BLEU Score: 0.5054007016968652\n",
      "BLEU Score: 0.49873735224738647\n"
     ]
    },
    {
     "data": {
      "application/vnd.jupyter.widget-view+json": {
       "model_id": "3c511c2119b349598a5c7664079c019d",
       "version_major": 2,
       "version_minor": 0
      },
      "text/plain": [
       "  0%|          | 0/207 [00:00<?, ?it/s]"
      ]
     },
     "metadata": {},
     "output_type": "display_data"
    },
    {
     "name": "stdout",
     "output_type": "stream",
     "text": [
      "BLEU Score: 0.502281977649518\n",
      "BLEU Score: 0.5038181074254615\n"
     ]
    },
    {
     "data": {
      "application/vnd.jupyter.widget-view+json": {
       "model_id": "9d40c05324f04da4bc990131456c7133",
       "version_major": 2,
       "version_minor": 0
      },
      "text/plain": [
       "  0%|          | 0/207 [00:00<?, ?it/s]"
      ]
     },
     "metadata": {},
     "output_type": "display_data"
    },
    {
     "name": "stdout",
     "output_type": "stream",
     "text": [
      "BLEU Score: 0.506291546929391\n",
      "BLEU Score: 0.5012337084222253\n"
     ]
    },
    {
     "data": {
      "application/vnd.jupyter.widget-view+json": {
       "model_id": "5001e62f9aee4252ae86f4da87e34367",
       "version_major": 2,
       "version_minor": 0
      },
      "text/plain": [
       "  0%|          | 0/207 [00:00<?, ?it/s]"
      ]
     },
     "metadata": {},
     "output_type": "display_data"
    },
    {
     "name": "stdout",
     "output_type": "stream",
     "text": [
      "BLEU Score: 0.5030073167489986\n",
      "BLEU Score: 0.5025738922753871\n"
     ]
    },
    {
     "data": {
      "application/vnd.jupyter.widget-view+json": {
       "model_id": "8ac1a8366dc44987b2b8559b810701ff",
       "version_major": 2,
       "version_minor": 0
      },
      "text/plain": [
       "  0%|          | 0/207 [00:00<?, ?it/s]"
      ]
     },
     "metadata": {},
     "output_type": "display_data"
    },
    {
     "name": "stdout",
     "output_type": "stream",
     "text": [
      "BLEU Score: 0.503314093965348\n",
      "BLEU Score: 0.4987026126081747\n"
     ]
    },
    {
     "data": {
      "application/vnd.jupyter.widget-view+json": {
       "model_id": "ad45726853de41e3b617f01c216b7524",
       "version_major": 2,
       "version_minor": 0
      },
      "text/plain": [
       "  0%|          | 0/207 [00:00<?, ?it/s]"
      ]
     },
     "metadata": {},
     "output_type": "display_data"
    },
    {
     "name": "stdout",
     "output_type": "stream",
     "text": [
      "BLEU Score: 0.5069466281879283\n",
      "BLEU Score: 0.5033347546096854\n"
     ]
    },
    {
     "data": {
      "application/vnd.jupyter.widget-view+json": {
       "model_id": "e7e119e903484bc39d95ff5b01b9b09b",
       "version_major": 2,
       "version_minor": 0
      },
      "text/plain": [
       "  0%|          | 0/207 [00:00<?, ?it/s]"
      ]
     },
     "metadata": {},
     "output_type": "display_data"
    },
    {
     "name": "stdout",
     "output_type": "stream",
     "text": [
      "BLEU Score: 0.5062870417784402\n",
      "BLEU Score: 0.5071676758829341\n"
     ]
    },
    {
     "data": {
      "application/vnd.jupyter.widget-view+json": {
       "model_id": "eaf212fd9dfa4ece8c4155524ce04f60",
       "version_major": 2,
       "version_minor": 0
      },
      "text/plain": [
       "  0%|          | 0/207 [00:00<?, ?it/s]"
      ]
     },
     "metadata": {},
     "output_type": "display_data"
    },
    {
     "name": "stdout",
     "output_type": "stream",
     "text": [
      "BLEU Score: 0.5101541646829473\n",
      "BLEU Score: 0.505169972524514\n"
     ]
    },
    {
     "data": {
      "application/vnd.jupyter.widget-view+json": {
       "model_id": "29b7c5d4418b47d8af85bbb0648e47e1",
       "version_major": 2,
       "version_minor": 0
      },
      "text/plain": [
       "  0%|          | 0/207 [00:00<?, ?it/s]"
      ]
     },
     "metadata": {},
     "output_type": "display_data"
    },
    {
     "name": "stdout",
     "output_type": "stream",
     "text": [
      "BLEU Score: 0.5098421752327245\n",
      "BLEU Score: 0.5105372743413399\n"
     ]
    },
    {
     "data": {
      "application/vnd.jupyter.widget-view+json": {
       "model_id": "9c1dc2dc6812419c8d22a6c1699a785a",
       "version_major": 2,
       "version_minor": 0
      },
      "text/plain": [
       "  0%|          | 0/207 [00:00<?, ?it/s]"
      ]
     },
     "metadata": {},
     "output_type": "display_data"
    },
    {
     "name": "stdout",
     "output_type": "stream",
     "text": [
      "BLEU Score: 0.5042403443223733\n",
      "BLEU Score: 0.5022238887135737\n"
     ]
    },
    {
     "data": {
      "application/vnd.jupyter.widget-view+json": {
       "model_id": "0fb345330d4643dab48b1986713a3c9a",
       "version_major": 2,
       "version_minor": 0
      },
      "text/plain": [
       "  0%|          | 0/207 [00:00<?, ?it/s]"
      ]
     },
     "metadata": {},
     "output_type": "display_data"
    },
    {
     "name": "stdout",
     "output_type": "stream",
     "text": [
      "BLEU Score: 0.5037039269610649\n",
      "BLEU Score: 0.5087270435881411\n"
     ]
    }
   ],
   "source": [
    "for _e in range(200):\n",
    "    # Mix things up a bit.\n",
    "    random.shuffle(train_pairs)\n",
    "    pbar = tqdm_notebook(range(0, train_n, BATCH_SIZE))\n",
    "    batch_loss = 0\n",
    "    bxi = 0\n",
    "    for m in pbar:\n",
    "        n = m + BATCH_SIZE\n",
    "        if n <= train_n:\n",
    "            # print(\"Epoch Complete... \\n\")\n",
    "\n",
    "            input_batch = np.zeros((BATCH_SIZE, MAX_SEQ_LEN), dtype=np.int32)\n",
    "            input_lens_batch = np.zeros((BATCH_SIZE,), dtype=np.int32)\n",
    "            for i in range(m, n):\n",
    "                b,a = en_lang.encodeSentence2(train_pairs[i][0], MAX_SEQ_LEN)\n",
    "                input_batch[i-m,:] = a\n",
    "                input_lens_batch[i-m] = b\n",
    "\n",
    "            target_batch = np.zeros((BATCH_SIZE, MAX_SEQ_LEN), dtype=np.int32)\n",
    "            target_lens_batch = np.zeros((BATCH_SIZE,), dtype=np.int32)\n",
    "            for i in range(m, n):\n",
    "                b,a = hi_lang.encodeSentence2(train_pairs[i][1], MAX_SEQ_LEN)\n",
    "                target_batch[i-m,:] = a\n",
    "                target_lens_batch[i-m] = b\n",
    "\n",
    "            feed_dict={\n",
    "                input_ids: input_batch,\n",
    "                input_lens: input_lens_batch,\n",
    "                ph_target_ids: target_batch,\n",
    "                target_lens: target_lens_batch,\n",
    "                keep_prob: 0.8 \n",
    "            }\n",
    "            sess.run(train_op, feed_dict=feed_dict)\n",
    "            batch_loss += sess.run(cost, feed_dict=feed_dict)\n",
    "            pbar.set_description(f\"Epoch: {_e} >> Loss: {batch_loss/(bxi+1):2.2F}:\")\n",
    "            bxi += 1\n",
    "            if (1 + n//BATCH_SIZE) % 100 == 0:\n",
    "                small_test()"
   ]
  },
  {
   "cell_type": "code",
   "execution_count": 37,
   "id": "1388d947",
   "metadata": {},
   "outputs": [],
   "source": [
    "def transliterate(s):\n",
    "    input_batch = np.zeros((BATCH_SIZE, MAX_SEQ_LEN), dtype=np.int32)\n",
    "    input_lens_batch = np.zeros((BATCH_SIZE,), dtype=np.int32)\n",
    "    b,a = en_lang.encodeSentence2(s, MAX_SEQ_LEN)\n",
    "    input_batch[0, :] = a\n",
    "    input_lens_batch[0] = b\n",
    "    \n",
    "    feed_dict={\n",
    "        input_ids: input_batch,\n",
    "        input_lens: input_lens_batch,\n",
    "        #target_ids: target_batch,\n",
    "        #target_lens: target_lens_batch,\n",
    "        keep_prob: 1.0\n",
    "    }\n",
    "    pred_batch = sess.run(infer_output[0].sample_id, feed_dict=feed_dict)\n",
    "    pred_ = pred_batch[0]\n",
    "    pred_s = hi_lang.decodeSentence(list(pred_))\n",
    "    # ref = valid_pairs[m+k][1]\n",
    "    return pred_s"
   ]
  },
  {
   "cell_type": "markdown",
   "id": "c4e8beea",
   "metadata": {},
   "source": [
    "some examples:-"
   ]
  },
  {
   "cell_type": "code",
   "execution_count": 38,
   "id": "0ffd8fdb",
   "metadata": {},
   "outputs": [
    {
     "data": {
      "text/plain": [
       "'साया'"
      ]
     },
     "execution_count": 38,
     "metadata": {},
     "output_type": "execute_result"
    }
   ],
   "source": [
    "transliterate(\"saya\")"
   ]
  },
  {
   "cell_type": "code",
   "execution_count": 47,
   "id": "49a5cd84",
   "metadata": {},
   "outputs": [
    {
     "data": {
      "text/plain": [
       "'शुभाम'"
      ]
     },
     "execution_count": 47,
     "metadata": {},
     "output_type": "execute_result"
    }
   ],
   "source": [
    "transliterate('shubham')"
   ]
  },
  {
   "cell_type": "code",
   "execution_count": 40,
   "id": "7f6e1b5f",
   "metadata": {},
   "outputs": [
    {
     "data": {
      "text/plain": [
       "'आयुषी'"
      ]
     },
     "execution_count": 40,
     "metadata": {},
     "output_type": "execute_result"
    }
   ],
   "source": [
    "transliterate('ayushi')"
   ]
  },
  {
   "cell_type": "code",
   "execution_count": 41,
   "id": "2d97a36b",
   "metadata": {},
   "outputs": [
    {
     "name": "stdout",
     "output_type": "stream",
     "text": [
      "<Element 'TransliterationCorpus' at 0x00000214C9EF2868>\n"
     ]
    }
   ],
   "source": [
    "\n",
    "#testing XML file\n",
    "xmldata = \"NEWS2018_M-EnHi_tst.xml\"\n",
    "prstree = ETree.parse(xmldata)\n",
    "root = prstree.getroot()\n",
    "  \n",
    "print(root)\n",
    "store_items = []\n",
    "all_items = []\n",
    "  \n",
    "for storeno in root.iter('Name'):\n",
    "    \n",
    "    store_Nr = storeno.attrib.get('ID')\n",
    "    itemsF = storeno.find('SourceName').text\n",
    "   \n",
    "  \n",
    "    store_items = [store_Nr, itemsF]\n",
    "    all_items.append(store_items)\n",
    "\n",
    "  \n",
    "lines2 = pd.DataFrame(all_items, columns=[\n",
    "  'source', 'english'])"
   ]
  },
  {
   "cell_type": "code",
   "execution_count": 48,
   "id": "ee740f4f",
   "metadata": {},
   "outputs": [
    {
     "name": "stdout",
     "output_type": "stream",
     "text": [
      "english:- kalpataru\n",
      "hindi pridiction:-  काल्पतुरा\n"
     ]
    }
   ],
   "source": [
    "import random\n",
    " \n",
    "#testing on test XML file \n",
    "#example 1\n",
    "x=random.choice(lines2['english'])\n",
    "print('english:-',x)\n",
    "print('hindi:- ',transliterate(x))"
   ]
  },
  {
   "cell_type": "code",
   "execution_count": 49,
   "id": "9e27fe5e",
   "metadata": {},
   "outputs": [
    {
     "name": "stdout",
     "output_type": "stream",
     "text": [
      "english:- gyanlata\n",
      "hindi:-  ग्यानलता\n"
     ]
    }
   ],
   "source": [
    "#example 2\n",
    "x=random.choice(lines2['english'])\n",
    "print('english:-',x)\n",
    "print('hindi:- ',transliterate(x))"
   ]
  },
  {
   "cell_type": "code",
   "execution_count": 50,
   "id": "936b3030",
   "metadata": {},
   "outputs": [
    {
     "name": "stdout",
     "output_type": "stream",
     "text": [
      "english:- vandita\n",
      "hindi:-  वंदिता\n"
     ]
    }
   ],
   "source": [
    "#example 3\n",
    "x=random.choice(lines2['english'])\n",
    "print('english:-',x)\n",
    "print('hindi:- ',transliterate(x))"
   ]
  },
  {
   "cell_type": "code",
   "execution_count": 51,
   "id": "6124d8d6",
   "metadata": {},
   "outputs": [
    {
     "name": "stdout",
     "output_type": "stream",
     "text": [
      "english:- malvin\n",
      "hindi:-  मल्विन\n"
     ]
    }
   ],
   "source": [
    "#example 4\n",
    "x=random.choice(lines2['english'])\n",
    "print('english:-',x)\n",
    "print('hindi:- ',transliterate(x))"
   ]
  },
  {
   "cell_type": "code",
   "execution_count": 55,
   "id": "a9b0abbc",
   "metadata": {},
   "outputs": [
    {
     "name": "stdout",
     "output_type": "stream",
     "text": [
      "english:- herriott\n",
      "hindi:-  हेरिटो\n"
     ]
    }
   ],
   "source": [
    "#example 5\n",
    "x=random.choice(lines2['english'])\n",
    "print('english:-',x)\n",
    "print('hindi:- ',transliterate(x))"
   ]
  }
 ],
 "metadata": {
  "kernelspec": {
   "display_name": "Python 3",
   "language": "python",
   "name": "python3"
  },
  "language_info": {
   "codemirror_mode": {
    "name": "ipython",
    "version": 3
   },
   "file_extension": ".py",
   "mimetype": "text/x-python",
   "name": "python",
   "nbconvert_exporter": "python",
   "pygments_lexer": "ipython3",
   "version": "3.6.6"
  }
 },
 "nbformat": 4,
 "nbformat_minor": 5
}
